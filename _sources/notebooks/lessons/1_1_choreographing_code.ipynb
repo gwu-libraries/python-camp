{
 "cells": [
  {
   "cell_type": "code",
   "execution_count": 13,
   "metadata": {},
   "outputs": [
    {
     "data": {
      "text/html": [
       "<style>\n",
       "details {\n",
       "  border: 1px solid;   border-radius: 4px;   padding: 0.5em 0.5em 0; }\n",
       "summary {\n",
       "  font-weight: bold;   margin: -0.5em -0.5em 0;   padding: 0.5em; background-color: rgba(233,140,61,.2);}\n",
       "details[open] {\n",
       "  padding: 0.5em; }\n",
       "details[open] summary {\n",
       "  border-bottom: 1px solid;   margin-bottom: 0.5em; background-color: rgba(66,129,81, .2); }\n",
       "</style>\n"
      ],
      "text/plain": [
       "<IPython.core.display.HTML object>"
      ]
     },
     "metadata": {},
     "output_type": "display_data"
    }
   ],
   "source": [
    "%%html\n",
    "<style>\n",
    "details {\n",
    "  border: 1px solid;   border-radius: 4px;   padding: 0.5em 0.5em 0; }\n",
    "summary {\n",
    "  font-weight: bold;   margin: -0.5em -0.5em 0;   padding: 0.5em; background-color: rgba(233,140,61,.2);}\n",
    "details[open] {\n",
    "  padding: 0.5em; }\n",
    "details[open] summary {\n",
    "  border-bottom: 1px solid;   margin-bottom: 0.5em; background-color: rgba(66,129,81, .2); }\n",
    "</style>"
   ]
  },
  {
   "cell_type": "markdown",
   "metadata": {
    "id": "XvIHpi-hG-uT"
   },
   "source": [
    "# Choreographing Code"
   ]
  },
  {
   "cell_type": "markdown",
   "metadata": {},
   "source": [
    "## Objectives\n",
    "\n",
    "- To interact with bits of Python code as *actions* (which transform *inputs* to *outputs*). \n",
    "- To develop a conceptual model of basic elements of programming (variables, data structures, loops), with an emphasis on action over syntax.\n",
    "- To collaborate in understanding code.\n"
   ]
  },
  {
   "cell_type": "markdown",
   "metadata": {},
   "source": [
    "## Instructions\n",
    "\n",
    "This notebook contains a few cells of Python code. These are labeled **Actions** and numbered 1 through 5. Each team will be assigned three actions.\n",
    "\n",
    "Your task, as a team, is as follows:\n",
    "\n",
    "1. Run the cell of code corresponding to the action. \n",
    "2. Examine the output.\n",
    "3. Model the action that the code performs, using pen, paper, and sticky notes.\n",
    "\n",
    "**The objective is to represent, as best you can, your intuition about what might be happening in the computer when Python runs each of these bits of code.**\n",
    "\n",
    "To run each cell, place your cursor in the cell and press `Control` + `Enter` (or `Command` + `Return` on a Mac). The output of running the code will appear below the cell.\n",
    "\n",
    "Below each cell is a hidden cell containing some hints. Click the `Show Solution` button to reveal the hints.\n",
    "\n",
    "Once all teams have worked through their actions, we'll share our models for discussion in the larger group."
   ]
  },
  {
   "cell_type": "markdown",
   "metadata": {},
   "source": [
    "## Action 1: Printing a value"
   ]
  },
  {
   "cell_type": "code",
   "execution_count": null,
   "metadata": {},
   "outputs": [],
   "source": [
    "print(\"Welcome to Python Camp!\")"
   ]
  },
  {
   "cell_type": "markdown",
   "metadata": {},
   "source": [
    "## Action 2a: Creating a variable (number)"
   ]
  },
  {
   "cell_type": "code",
   "execution_count": null,
   "metadata": {},
   "outputs": [],
   "source": [
    "num_participants = 20\n",
    "print(num_participants)"
   ]
  },
  {
   "cell_type": "markdown",
   "metadata": {},
   "source": [
    "<details>\n",
    "    <summary>Click for a Hint</summary>\n",
    "    <ul>\n",
    "        <li>The name (left side of the equals sign) acts like a label for the value (right side of the equal sign -- here, the number 20).</li>\n",
    "        <li>The number 20 is written without quotation marks. What happens if you add them, like so?<span> <code>\"20\"</code></span></li>\n",
    "        <li>What do you think <code>print</code> does when it is given the name <code>my_workshop</code>? </li>\n",
    "    </ul>\n",
    "</details>"
   ]
  },
  {
   "cell_type": "markdown",
   "metadata": {},
   "source": [
    "#### Animation\n",
    "\n",
    "[Watch an animation](https://gwu-libraries.github.io/python-camp/img/gifs-lg/assigning-a-number.gif) of this concept!\n"
   ]
  },
  {
   "cell_type": "markdown",
   "metadata": {},
   "source": [
    "## Action 2b: Creating a variable (string)"
   ]
  },
  {
   "cell_type": "code",
   "execution_count": null,
   "metadata": {
    "colab": {
     "base_uri": "https://localhost:8080/"
    },
    "id": "27W5nGOiGqa-",
    "outputId": "c1cddc4c-a67d-40b1-dc4a-33c03b0cf0a8"
   },
   "outputs": [],
   "source": [
    "my_workshop = \"Python Camp\"\n",
    "print(my_workshop)"
   ]
  },
  {
   "cell_type": "markdown",
   "metadata": {},
   "source": [
    "<details>\n",
    "    <summary>Click for a Hint</summary>\n",
    "    <ul>\n",
    "        <li>Try changing the text between quotation marks to see how the output varies.</li>\n",
    "        <li>The name (left side of the equals sign) acts like a label for the value (right side of the equal sign -- here, the content between quotation marks).</li>\n",
    "        <li>What do you think <code>print</code> does when it is given the name <code>my_workshop</code>? </li>\n",
    "    </ul>\n",
    "</details>"
   ]
  },
  {
   "cell_type": "markdown",
   "metadata": {},
   "source": [
    "#### Animation\n",
    "\n",
    "[Watch an animation](https://gwu-libraries.github.io/python-camp/img/gifs-lg/assigning-a-string.gif) of this concept!\n"
   ]
  },
  {
   "cell_type": "markdown",
   "metadata": {},
   "source": [
    "## Action 3a: Working with numbers"
   ]
  },
  {
   "cell_type": "code",
   "execution_count": null,
   "metadata": {
    "colab": {
     "base_uri": "https://localhost:8080/"
    },
    "id": "we5zzfMBH44c",
    "outputId": "88417d6c-7fc6-4adb-a0cb-99f8f84b4746"
   },
   "outputs": [],
   "source": [
    "num_students = 50\n",
    "book_price = 59.99\n",
    "total_cost = num_students * book_price\n",
    "print(total_cost)"
   ]
  },
  {
   "cell_type": "markdown",
   "metadata": {},
   "source": [
    "<details open=\"\">\n",
    "    <summary>Click for a Hint</summary>\n",
    "    <ul>\n",
    "        <li>Variables in programming are similar to variables in algebra. </li>\n",
    "        <li>But whereas algebraic variables represent unknown values in equations to be solved, in programming, we use variables for many different reasons.</li>\n",
    "        <li>One important use for variables is simply to make our code more readable: e.g., to assign names to quantities.</li>\n",
    "        <li>What happens if you put the numbers in the code above inside quotation marks? </li>\n",
    "    </ul>\n",
    "</details>"
   ]
  },
  {
   "cell_type": "markdown",
   "metadata": {},
   "source": [
    "## Action 3b: Working with strings"
   ]
  },
  {
   "cell_type": "code",
   "execution_count": null,
   "metadata": {
    "colab": {
     "base_uri": "https://localhost:8080/"
    },
    "id": "GSuH62FMMIHz",
    "outputId": "e2ed2f29-f64c-4142-88ca-924dfec919c9"
   },
   "outputs": [],
   "source": [
    "book_title = \"Python Distilled\"\n",
    "book_author = \"David Beazley\"\n",
    "print(book_title + \" by \" + book_author)"
   ]
  },
  {
   "cell_type": "markdown",
   "metadata": {},
   "source": [
    "<details>\n",
    "    <summary>Click for a Hint</summary>\n",
    "    <ul>\n",
    "        <li>Anything in Python between quotation marks is called a <em>string</em>.</li>\n",
    "        <li>When working with strings, it's important to pay close attention to what falls inside the quotation marks and what sits outside the quotation marks. </li>\n",
    "        <li> The Jupyter Notebook interface helpfully highlights strings in red to distinguish them from the surrounding code.</li>\n",
    "    </ul>\n",
    "</details>\n"
   ]
  },
  {
   "cell_type": "markdown",
   "metadata": {},
   "source": [
    "## Action 4a: Creating a list"
   ]
  },
  {
   "cell_type": "code",
   "execution_count": null,
   "metadata": {
    "colab": {
     "base_uri": "https://localhost:8080/"
    },
    "id": "5KlRKr7gMaJb",
    "outputId": "4d5477cc-6528-4ac3-a434-8778e7cac910"
   },
   "outputs": [],
   "source": [
    "book_prices = [129.99, 99.95, 13.99, 50.00, 250.00]\n",
    "print(book_prices[0])\n",
    "print(book_prices[4])\n",
    "print(book_prices[-1])"
   ]
  },
  {
   "cell_type": "markdown",
   "metadata": {},
   "source": [
    "<details>\n",
    "    <summary>Click for a Hint</summary>\n",
    "    <ul>\n",
    "        <li>We can access the values in the stored list by their position or <em>index</em>.</li>\n",
    "        <li>Try changing the numbers in square brackets to see what happens to the output.</li>\n",
    "        <li>In math, we use negative numbers to count down backwards from zero (<code>-1, -2, -3...</code>). Can you tell what the <code>-1</code> in <code>book_prices[-1]</code> is doing here?.</li>\n",
    "    </ul>\n",
    "</details>"
   ]
  },
  {
   "cell_type": "markdown",
   "metadata": {},
   "source": [
    "#### Animation\n",
    "\n",
    "[Watch an animation](https://gwu-libraries.github.io/python-camp/img/gifs-lg/items-in-a-list.gif) of this concept!\n"
   ]
  },
  {
   "cell_type": "markdown",
   "metadata": {},
   "source": [
    "## Action 4b: Slicing a string"
   ]
  },
  {
   "cell_type": "code",
   "execution_count": null,
   "metadata": {},
   "outputs": [],
   "source": [
    "course_info = \"CHEM 1012\"\n",
    "dept_code = course_info[0:4]\n",
    "print(dept_code)"
   ]
  },
  {
   "cell_type": "markdown",
   "metadata": {},
   "source": [
    "<details>\n",
    "    <summary>Click for a Hint</summary>\n",
    "    <ul>\n",
    "        <li>A string is a sequence of characters (just as written words in English can be described as sequences of letters).</li>\n",
    "        <li>Each character in the sequence has a position, called an <em>index</em>.</li>\n",
    "        <li>The first index in the sequence is numbered <code>0</code>, not <code>1</code>.</li>\n",
    "        <li>Note the numbers separated by the colon (<code>:</code>) and enclosed in <em>square brackets</em> (<code>[]</code>). Try changing these numbers and see how it effects the output.</li>\n",
    "    </ul>\n",
    "</details>"
   ]
  },
  {
   "cell_type": "markdown",
   "metadata": {},
   "source": [
    "#### Animation\n",
    "\n",
    "[Watch an animation](https://gwu-libraries.github.io/python-camp/img/gifs-lg/slicing-a-string.gif) of this concept!\n"
   ]
  },
  {
   "cell_type": "markdown",
   "metadata": {},
   "source": [
    "## Action 5: Looping over a list"
   ]
  },
  {
   "cell_type": "code",
   "execution_count": null,
   "metadata": {
    "colab": {
     "base_uri": "https://localhost:8080/"
    },
    "id": "yFKgL3-9NQfG",
    "outputId": "badafd3b-aedc-4778-f8be-83d09fadbb54"
   },
   "outputs": [],
   "source": [
    "book_prices = [129.99, 99.95, 13.99, 50.00, 250.00]\n",
    "for price in book_prices:\n",
    "    sales_tax = price * .1\n",
    "    print(price + sales_tax)"
   ]
  },
  {
   "cell_type": "markdown",
   "metadata": {},
   "source": [
    "<details>\n",
    "    <summary>Click for a Hint</summary>\n",
    "    <ul>\n",
    "        <li>We often use lists in Python to hold data that we want to process in sequence -- such as applying sales tax to every price in a list of prices.</li>\n",
    "        <li>Note that <code>book_prices</code> here is the same variable used in the previous action. </li>\n",
    "        <li>A <code>for</code> loop allows us to perform the same action for every value in a list of values.</li>\n",
    "        <li>Try adding or removing numbers from the <code>book_prices</code> list to see what happens to the output.</li>\n",
    "    </ul>\n",
    "</details>"
   ]
  },
  {
   "cell_type": "markdown",
   "metadata": {},
   "source": [
    "#### Animation\n",
    "\n",
    "[Watch an animation](https://gwu-libraries.github.io/python-camp/img/gifs-lg/looping-over-a-list.gif) of this concept!\n"
   ]
  }
 ],
 "metadata": {
  "colab": {
   "provenance": []
  },
  "kernelspec": {
   "display_name": "Python Camp",
   "language": "python",
   "name": "env"
  },
  "language_info": {
   "codemirror_mode": {
    "name": "ipython",
    "version": 3
   },
   "file_extension": ".py",
   "mimetype": "text/x-python",
   "name": "python",
   "nbconvert_exporter": "python",
   "pygments_lexer": "ipython3",
   "version": "3.11.4"
  }
 },
 "nbformat": 4,
 "nbformat_minor": 1
}
