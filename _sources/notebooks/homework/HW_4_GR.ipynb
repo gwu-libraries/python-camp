{
 "cells": [
  {
   "cell_type": "code",
   "execution_count": 2,
   "metadata": {},
   "outputs": [
    {
     "data": {
      "text/html": [
       "<style>\n",
       "details {\n",
       "  border: 1px solid;   border-radius: 4px;   padding: 0.5em 0.5em 0; }\n",
       "summary {\n",
       "  font-weight: bold;   margin: -0.5em -0.5em 0;   padding: 0.5em; background-color: rgba(233,140,61,.2);}\n",
       "details[open] {\n",
       "  padding: 0.5em; }\n",
       "details[open] summary {\n",
       "  border-bottom: 1px solid;   margin-bottom: 0.5em; background-color: rgba(66,129,81, .2); }\n",
       "details li {\n",
       "  margin: 10px 0;\n",
       "}\n",
       "</style>\n"
      ],
      "text/plain": [
       "<IPython.core.display.HTML object>"
      ]
     },
     "metadata": {},
     "output_type": "display_data"
    }
   ],
   "source": [
    "%%html\n",
    "<style>\n",
    "details {\n",
    "  border: 1px solid;   border-radius: 4px;   padding: 0.5em 0.5em 0; }\n",
    "summary {\n",
    "  font-weight: bold;   margin: -0.5em -0.5em 0;   padding: 0.5em; background-color: rgba(233,140,61,.2);}\n",
    "details[open] {\n",
    "  padding: 0.5em; }\n",
    "details[open] summary {\n",
    "  border-bottom: 1px solid;   margin-bottom: 0.5em; background-color: rgba(66,129,81, .2); }\n",
    "details li {\n",
    "  margin: 10px 0;\n",
    "}\n",
    "</style>"
   ]
  },
  {
   "cell_type": "markdown",
   "metadata": {},
   "source": [
    "# Graded Homework: Day 4"
   ]
  },
  {
   "cell_type": "markdown",
   "metadata": {},
   "source": [
    "## Instructions\n",
    "\n",
    "Below you will find one or more exercises. For each exercise, do the following:\n",
    "\n",
    "1. Run the first code cell under the exercise heading. This will execute some code needed to set up the problem.\n",
    "2. Reading the instructions and write code in the code cell labeled with the comment `Your code here`. Run this code.\n",
    "3. Assuming your code does not produce any errors, run the code in the cell below the `Tests` heading. Each line of this code consists of a Python [assert statement](https://gwu-libraries.github.io/python-camp/glossary.html#term-assert-statement). \n",
    "   - If you see an `AssertionError`, don't panic! The error is written so as to help you pinpoint the part of your code that's not working as expected. After making a change in your code, re-run **both** the cell with your code and the cell with the tests. Repeat until you see no errors.\n",
    "   - If you run the cell with the test code and you see no output, congratulations! That means that your code has passed all the tests and works as expected. Go to step 4 to submit.\n",
    "4. Submit your code by downloading this notebook from JupyterHub and uploading it to the GitHub repository for this assignment. See [the documentation](https://gwu-libraries.github.io/python-camp/homework.html) for detailed instructions."
   ]
  },
  {
   "cell_type": "markdown",
   "metadata": {},
   "source": [
    "## Exercise 1\n",
    "\n",
    "The following cell contains metadata for a course and its textbooks, as well as the definition of a `Text` class."
   ]
  },
  {
   "cell_type": "code",
   "execution_count": null,
   "metadata": {
    "tags": [
     "setup:ex1"
    ]
   },
   "outputs": [],
   "source": [
    "my_course = {'department': 'AMST',\n",
    "            'course': '6190',\n",
    "            'section': '10',\n",
    "            'instructor': 'Elisabeth Anker',\n",
    "            'term_name': 'Summer 2023',\n",
    "            'texts':[\n",
    "            {\n",
    "                \"isbn\": \"9781250753892\",\n",
    "                \"item_type\": \"print\",\n",
    "                \"price_display\": \"$29.99\",\n",
    "                \"type_condition\": \"BUY_NEW\"\n",
    "            },\n",
    "            {\n",
    "                \"isbn\": \"9780872867239\",\n",
    "                \"item_type\": \"print\",\n",
    "                \"price_display\": \"$16.95\",\n",
    "                \"type_condition\": \"BUY_NEW\"\n",
    "            \n",
    "            },\n",
    "            {\n",
    "                \"isbn\": \"9780385490818\",\n",
    "                \"item_type\": \"digital\",\n",
    "                \"price_display\": \"$17.00\",\n",
    "                \"type_condition\": \"BUY_NEW\"\n",
    "            }]}\n",
    "\n",
    "class Text:\n",
    "\n",
    "    def __init__(self, isbn, item_type, price, type_condition):\n",
    "        '''\n",
    "        All arguments should be of type str.\n",
    "        '''\n",
    "        self.isbn = isbn\n",
    "        self.item_type = item_type\n",
    "        self.price = price\n",
    "        self.type_condition = type_condition\n",
    "    \n",
    "    def convert_price(self):\n",
    "        '''\n",
    "        Convert the str representation of a price (with dollar sign) to a float\n",
    "        '''\n",
    "        return float(self.price[1:])"
   ]
  },
  {
   "cell_type": "markdown",
   "metadata": {},
   "source": [
    "Below is a version of our class definition for a `Course`.\n",
    "\n",
    "Add behavior to `Course` so that it will calculate **and return** the average price of the texts associated with a course. Fill out the definition for the `get_average_price()` method, which takes one argument, `item_type`, a string. \n",
    "\n",
    "If provided, the `item_type` argument should either be `print` or `digital`, and the average will be computed for just texts of that type. Otherwise, if the argument is missing (is `None`), then the average for all texts will be computed. \n",
    "\n",
    "Note that the `pass` keyword is a placeholder for an empty method body. Delete this line when adding your own code.\n",
    "\n",
    "The builtin Python function `sum()` can be helpful for this exercise. Review the [Python documentation](https://docs.python.org/3/library/functions.html?highlight=sum#sum) for help."
   ]
  },
  {
   "cell_type": "code",
   "execution_count": null,
   "metadata": {
    "tags": [
     "solution:ex1"
    ]
   },
   "outputs": [],
   "source": [
    "# Your code here\n",
    "class Course:\n",
    "    \n",
    "    def __init__(self, dept, course_number, section, instructor, term):\n",
    "        '''\n",
    "        Creates an instance of a course.\n",
    "        dept, course_number, section, instructor, term: should be of type str\n",
    "        '''\n",
    "        self.dept = dept\n",
    "        self.course_number = course_number\n",
    "        self.section = section\n",
    "        self.instructor = instructor\n",
    "        self.term = term\n",
    "        self.texts = []  \n",
    "    \n",
    "    def get_average_price(self, item_type=None):\n",
    "        '''\n",
    "        Returns the average price of the texts associated with the course. \n",
    "        item_type should be either None (default), or a string equal to 'digital' or 'print'\n",
    "        '''\n",
    "        pass # Your code here"
   ]
  },
  {
   "cell_type": "markdown",
   "metadata": {},
   "source": [
    "Expand the cell below for some hints."
   ]
  },
  {
   "cell_type": "markdown",
   "metadata": {},
   "source": [
    "<details>\n",
    "    <summary>Click for a Hint</summary>\n",
    "    <p>There are two different values that the <code>item_type</code> dictionary <a href=\"https://gwu-libraries.github.io/python-camp/glossary.html#term-key\">key</a> can have in the <code>my_course</code> dataset defined above. The <code>Course.get_average_price()</code> method should filter the <code>Course.texts</code> list to identify just those texts where the attribute <code>Text.item_type</code> is equal to the <code>item_type</code> argument provided to the <code>Course.get_average_price()</code> method. If no <code>item_type</code> has been provided, the variable in the method will have the <code>None</code> <a href=\"https://gwu-libraries.github.io/python-camp/glossary.html#term-null-value\">null value</a>, in which case the method should just compute the average price of all the texts.\n",
    "</p>\n",
    "    <p>\n",
    "        Here's a line-by-line description of one possible implementation of the <code>Course.get_average_price()</code> method in English. Your task is to translate it into Python.</p>\n",
    "<p>\n",
    "    <ol>\n",
    "        <li>Define an empty <a href=\"https://gwu-libraries.github.io/python-camp/glossary.html#term-list\">list</a> to hold the prices.</li>\n",
    "        <li>Write a <a href=\"https://gwu-libraries.github.io/python-camp/glossary.html#term-for-loop\">for loop</a> to loop over the items in the <code>self.texts</code> attribute. (Note that we use <code>self</code> here, not <code>Course</code>, because each <a href=\"https://gwu-libraries.github.io/python-camp/glossary.html#term-instance\">instance</a> of the <code>Course</code> class will have its own list of texts.) Within the loop,\n",
    "            <ol>\n",
    "                <li>Check whether the <code>item_type</code> argument has been provided (is not <code>None</code>), using an <a href=\"https://gwu-libraries.github.io/python-camp/glossary.html#term-if-statement\">if statement</a>.</li>\n",
    "                <li>If it has been provided, you need to check whether the value of the <code>item_type</code> argument matches the <code>item_type</code> attribute of the current text (using the <a href=\"https://gwu-libraries.github.io/python-camp/glossary.html#term-loop-variable\">loop variable</a>)</li>\n",
    "                <li> If it matches, then add the price to the list of prices. To get the price in a format suitable for calculation, you can use the <code>convert_price()</code> method defined on the <code>Text</code> class. So if <code>text</code> is your loop variable, you could call <code>text.convert_price()</code> to get the price as a float value.</li>\n",
    "                <li>If, on the other hand, the <code>item_type</code> argument is <code>None</code>, add the price (converted) to the list, regardless of its type.</li>\n",
    "            </ol>\n",
    "        </li>\n",
    "        <li>Use the <code>sum</code> function to find the total value of the price values in your list, and divide it by the length of the list. (Remember that the <code>len</code> function will provide the length of a list.)</li>\n",
    "        <li> Return the result obtained in step 3.</li>\n",
    "    </ol>\n",
    "  </p>\n",
    "</details>"
   ]
  },
  {
   "cell_type": "code",
   "execution_count": null,
   "metadata": {
    "tags": [
     "test-case:ex1"
    ]
   },
   "outputs": [],
   "source": [
    "course = Course('AMST', '6190', '10', 'Elisabeth Anker', 'Summer 2023')\n",
    "for text_dict in my_course['texts']:\n",
    "    text = Text(text_dict['isbn'], text_dict['item_type'], text_dict['price_display'],\n",
    "               text_dict['type_condition'])\n",
    "    course.texts.append(text)\n",
    "assert course.get_average_price() == 21.313333333333333, 'Average price, all items, should equal 21.32'\n",
    "assert course.get_average_price('digital') == 17.0, 'Average price, digital items, should equal 17'\n",
    "assert course.get_average_price('print') == 23.47, 'Average price, print items, should equal 23.47'"
   ]
  }
 ],
 "metadata": {
  "kernelspec": {
   "display_name": "Python 3 (ipykernel)",
   "language": "python",
   "name": "python3"
  },
  "language_info": {
   "codemirror_mode": {
    "name": "ipython",
    "version": 3
   },
   "file_extension": ".py",
   "mimetype": "text/x-python",
   "name": "python",
   "nbconvert_exporter": "python",
   "pygments_lexer": "ipython3",
   "version": "3.11.4"
  }
 },
 "nbformat": 4,
 "nbformat_minor": 4
}
