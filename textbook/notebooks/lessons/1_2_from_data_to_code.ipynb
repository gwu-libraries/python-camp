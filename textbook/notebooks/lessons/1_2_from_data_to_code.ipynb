{
 "cells": [
  {
   "cell_type": "markdown",
   "metadata": {},
   "source": [
    "# From Data to Code"
   ]
  },
  {
   "cell_type": "markdown",
   "metadata": {},
   "source": [
    "## Objectives\n",
    "\n",
    "- To explore a \"real-world\" dataset for use with Python.\n",
    "- To use Python to interact with data in a common, widely used format (JSON).\n",
    "- To explore the data structures and syntactical patterns of the Python language."
   ]
  },
  {
   "cell_type": "markdown",
   "metadata": {
    "tags": [
     "instructor",
     "remove-cell"
    ]
   },
   "source": [
    "<div class=\"lesson-plan\" style=\"background: rgba(144, 238, 144, .1)\">\n",
    "\n",
    "\n",
    "## Lesson Plan\n",
    "\n",
    "### Setup and goals\n",
    "\n",
    "1. Introduce the idea that we will be working with a single dataset throughout the four days of Python Camp.\n",
    "   - Explain the dataset and its relevance.\n",
    "   - Note that in this exercise, teams will be getting acquainted with the dataset by using some Python commands.\n",
    "   - The data is _represented_ by Python **types**. To start to understand how types work, teams should attend both to the _content_ of the data and how it is _represented_ (the syntax).\n",
    "   - Teams should designate a notetaker to jot down questions and observations that arise in team discussion. \n",
    "   - Remind teams to rotate the notetaker's role.\n",
    "\n",
    "2. Explain that we will encounter a lot of unfamiliar syntax in this lesson, but that as in the previous lesson, the goal is to see code in action **before** we spend time learning why the code is written as it is (syntax). \n",
    "   - Define **syntax** as the way code is written in a particular language.\n",
    "   - Emphasize that the syntax will be covered in depth in the homework, and that there will be ample time to clarify and solidify understanding over the course of Python Camp.\n",
    "\n",
    "\n",
    "\n",
    "------------------\n",
    "### The dataset\n",
    "    \n",
    "Introduce the dataset and JSON format, and ensure everyone can open the JSON file in a notebook.\n",
    "    \n",
    "------------------\n",
    "\n",
    "### Navigating lists \n",
    "\n",
    "Have each team work through the `Navigating lists` section. Pause so that groups can share what they notice.\n",
    "\n",
    "--------------------\n",
    "\n",
    "### Navigating nested data / Questions for discussion\n",
    "\n",
    "One goal for this discussion is to highlight how data formats like JSON allow us to *represent relationships*. Our dataset represents a model of something out in the world (textbooks/course materials used by courses at GW), and we're using Python in order to _interact with that model_ in various ways.\n",
    "\n",
    "Instructors should document the modeling that emerges from this discussion as a tool for use in subsequent team activities.\n",
    "\n",
    "1. Ask for volunteers (note takers or others) to share the data diagramming done by their teams. The cleaned data has the following hierarchy:\n",
    "\n",
    "```\n",
    "\n",
    "bkst_data[list]\n",
    "---a course[dict]\n",
    "------department[str] [...course, section, instructor, etc.]\n",
    "------texts[list]\n",
    "---------a text[dict]\n",
    "------------title[str] [...author, isbn, etc.]\n",
    "\n",
    "```\n",
    "\n",
    "2. Note the presence of the different data types, but emphasize that the homework for Day 1 will cover the differences in detail. For now, focus on how the data elements relate to one another. Language like the following can help:\n",
    "  - A course (in this dataset) _has_ a department, instructor, etc.\n",
    "  - A course _can have_ one or more texts.\n",
    "  - A text has a title, price, etc.\n",
    "  \n",
    "  \n",
    "3. Help teams surface any questions they have about the data or points of confusion.\n",
    "\n",
    "--------------------------\n",
    "\n",
    "The second goal of this part of the discussion is to start to identify the syntactic elements of Python that allow us to model the world in certain ways. \n",
    "\n",
    "Have each team/note taker share their inventory of syntactic elements.\n",
    "\n",
    "It's not necessary at this point to go through all of these elements in detail. Depending on the mood of the group, however, it may be useful to highlight the following (as preparation for the homework):\n",
    "\n",
    "  - **Quotation marks** `''`\n",
    "    - surround strings of characters (letters, numbers, other punctuation)\n",
    "    - occuring on the left side of a colon (e.g., `title`, `isbn`), they function as field names, in Python called **keys**\n",
    "    - occuring on the right side of a colon (e.g., `CHEM`, `Organic Chemistry Model Set`), they function as field **values**\n",
    "    - also used inside square brackets (see below) to retrieve values from their fields:  `text['title']`\n",
    "    - can be single or double: makes no difference to Python\n",
    "  - **Square brackets** `[]`\n",
    "    - enclose a collection of data elements called a **list**\n",
    "    - elements of a list can be any other type of Python data, or even multiple types\n",
    "    - also used for accessing data in two ways:\n",
    "      - by position (from a list): `bkst_data[0]`\n",
    "      - by field (from a dictionary): `my_course['department']`\n",
    "  - **Curly braces** `{}`\n",
    "    - enclose a collection of data elements called a **dictionary**\n",
    "    - dictionaries have more structure than lists: each element comprises a field name (**key**) associated with a **value**\n",
    "    - square brackets are used to access dictionary values by key (see above)\n",
    "  - **Commas**\n",
    "    - used to separate elements in a dictionary or list\n",
    "  - **Parentheses**\n",
    "    - used when calling **functions**: `print(\"Hello, world!\")`, `len(bkst_data)`\n",
    "    - enclose values or variables passed to the function for processing (**arguments**)\n",
    "\n",
    "</div>"
   ]
  },
  {
   "cell_type": "markdown",
   "metadata": {},
   "source": [
    "## Instructions\n",
    "\n",
    "The following notebook has cells containing Python code for interacting with an external data file. \n",
    "\n",
    "1. Before you begin, each team should assign the following roles:\n",
    "     - Notetaker (records the outcome of team discussions)\n",
    "     - Reporter (speaks for the team when sharing out)\n",
    "     - Advocate (makes sure everyone has a chance to contribute)\n",
    "2. Read the section below, [Getting to Know Your Data](#i-getting-to-know-your-data), and as a team, do the exercises marked `Try it out!`\n",
    "3. After we pause for sharing out from the teams, you'll work through the code in the notebook as a team.\n",
    "   - Run each cell of code in this notebook (by pressing `Control` + `Enter` on a PC,  `Command` + `Return` on a Mac). The output of running the code will appear below the cell.\n",
    "   - Each cell is accompanied by annotations, and in some cases, questions for discussion. Discuss your responses to these questions with your team. The note taker should brielfy document the conversation (including any further questions or points of confusion that arise).\n",
    "   - Blank cells labeled `Try it out!` invite you to write your own code based on the provided examples. Run your code and discuss the output with your team.\n",
    "4. Once everyone has worked through the notebook, we'll review the questions and your responses in the larger group.\n"
   ]
  },
  {
   "cell_type": "markdown",
   "metadata": {},
   "source": [
    "## I. Getting to Know Your Data\n",
    "\n",
    "### I.1 Data have structure"
   ]
  },
  {
   "cell_type": "markdown",
   "metadata": {},
   "source": [
    "````{admonition} About the Data\n",
    ":class: notes\n",
    "\n",
    "Over the next few days, we'll be working together on a dataset containing information about textbooks assigned by courses at GW for the Fall 2023 semester. \n",
    "\n",
    "Textbooks are linked from GW's [Schedule of Classes](https://my.gwu.edu/mod/pws/subjects.cfm?campId=1&termId=202303). (Note that we're using data for courses taught on the Foggy Bottom campus only.)\n",
    "\n",
    "The `Find Books` link under each course entry (see image below) leads to a page on the website of the GW Campus Store which contains a listing of textbooks for the course, along with the price of each book (through the GW Campus Store).\n",
    "\n",
    "````"
   ]
  },
  {
   "cell_type": "markdown",
   "metadata": {},
   "source": [
    "````{image} https://gwu-libraries.github.io/python-camp/img/schedule-of-classes.png\n",
    ":alt: Screenshot of a row from the GW Schedule of Classes table, showing information for the course Consuming Asian America. The link with text \"Find Books\" is highlighted by a red box.\n",
    ":width: 500px\n",
    ":align: center\n",
    "````"
   ]
  },
  {
   "cell_type": "markdown",
   "metadata": {},
   "source": [
    "````{admonition} Try it out!\n",
    ":class: try-it-out\n",
    "\n",
    "1. Take a moment to look at the [Schedule of Classes](https://my.gwu.edu/mod/pws/subjects.cfm?campId=1&termId=202303) and the linked textbook data.\n",
    "\n",
    "2. As a team, discuss possible uses for data about courses and textbooks. Who are the potential users, and what purposes might they have for these data? Make notes on your answers. (We call these scenarios _user stories_.)\n",
    "\n",
    "3. After generating a few user stories, discuss how you might organize such a dataset. Try not to focus too much on how the data is presented on the GW or GW Campus Store websites. Rather, given your user stories, and using what you know about courses and textbooks at GW, consider the following questions:\n",
    "   - What data elements would be useful to capture?\n",
    "   - How do those data elements relate to each other? (For example, a course might have multiple sections, and each section might have a separate instructor.)\n",
    "   - How would you structure (organize) a dataset so as to capture those relationships?\n",
    "\n",
    "4. Make a drawing that models the data structure your team discussed in answer to the previous questions.\n",
    "\n",
    "````"
   ]
  },
  {
   "cell_type": "markdown",
   "metadata": {},
   "source": [
    "````{admonition} For the curious\n",
    ":class: dropdown\n",
    "\n",
    "This dataset was obtained by scraping the [GW Bookstore](https://www.bkstr.com/georgewashingtonstore/shop/textbooks-and-course-materials) website. Because [web scraping](https://learning.oreilly.com/library/view/web-scraping-with/9781098145347/) is a rather advanced topic, we won't be covering that process in Python Camp.\n",
    "\n",
    "The dataset was also pre-processed to simplify it somewhat (removing extraneous and redundant elements, etc.).\n",
    "assign textbooks they themselves have authored"
   ]
  },
  {
   "cell_type": "markdown",
   "metadata": {},
   "source": [
    "### I.2 Data have a format\n",
    "\n",
    "When we talk about _data structure_, we mean _how the elements of a dataset relate to each other_. The structure describes something about the world, about that part of the world to which the data refer.\n",
    "\n",
    "The _data format_, on the other hand, is how the dataset is represented by the computer. The same format can be used to represent many different kinds of data structures, just as data with a given structure can be represented in many different formats. (As an analogy, think about music: a Baroque fugue and a blues song have very different musical structures, but both can be recorded as an MP3, which in this case is the data format.)\n",
    "\n",
    "The dataset we're using is in {term}`JSON` format. JSON (usually pronounced *jay-sawn*) is a common format for sharing data on the web. It's not as concise or human-readable as some formats (e.g., CSV, which is often used for sharing tabular data). But it has a few advantages that make it popular with programmers:\n",
    " - JSON data can be deeply nested, reflecting hierarchical relationships between data elements.\n",
    " - The JSON format comprises structures that map well onto the most common data structures used by modern programming languages. \n",
    " - The JSON syntax has a lot in common with languages like Python.\n",
    " \n",
    "We'll explore these three aspects of JSON today."
   ]
  },
  {
   "cell_type": "markdown",
   "metadata": {},
   "source": [
    "````{admonition} Try it out!\n",
    ":class: try-it-out\n",
    "\n",
    "Open the [GW bookstore dataset](https://go.gwu.edu/pythoncampdata) in your browser. As a team, discuss the following questions:\n",
    "\n",
    "1. What do you notice about the structure of this dataset? How are the various elements related to one another?\n",
    "2. How does it compare to the model you drew in the previous exercise?\n",
    "3. What data elements seem to be always present throughout the dataset?\n",
    "4. Are there elements that appear only sometimes? If so, make a list of those.\n",
    "5. Which elements might be useful for the user stories you developed in the first exercise?\n",
    "6. Do you see any elements that suggest user stories you hadn't thought of?\n",
    "\n",
    "Now draw the structure of this dataset, based on what you've observed.\n",
    "\n",
    "````"
   ]
  },
  {
   "cell_type": "markdown",
   "metadata": {},
   "source": [
    "## II. Working with Data in Code"
   ]
  },
  {
   "cell_type": "markdown",
   "metadata": {},
   "source": [
    "### II.1 Loading the dataset\n",
    "\n",
    "The code below will fetch data from a URL and save it locally as a file before loading the data in your notebook.\n",
    "\n",
    "1. We {term}`import` a Python function called `urlretrieve` and a Python {term}`module` called `json`. \n",
    "   - The `urlretrieve` function allows us to fetch data from a remote source and save a local copy.\n",
    "   - The `json` module allows us to convert data in JSON format to Python types. (More on types below).\n",
    "3. We use the `open` {term}`function` to open the file for reading. The file is called `bookstore-data.json`, where the `.json` extension indicates that this is a JSON-formatted file. (The file extension is part of the filename, like `docx` for Word documents or `.xlsx` for Excel spreadsheets.) \n",
    "4. The file is assigned to the temporary variable `f`.\n",
    "5. We use the `json.load` {term}`method` to read the file (`f`). This method is specifically designed for JSON files; it won't work if the file does not contain data in valid JSON format. \n",
    "6. The contents of the file, as processed by `json.load`, are assigned to a new {term}`variable`, `bkst_data`."
   ]
  },
  {
   "cell_type": "code",
   "execution_count": null,
   "metadata": {},
   "outputs": [],
   "source": [
    "from urllib.request import urlretrieve\n",
    "import json\n",
    "urlretrieve('https://go.gwu.edu/pythoncampdata', 'bookstore-data.json')\n",
    "with open('bookstore-data.json') as f:\n",
    "    bkst_data = json.load(f)"
   ]
  },
  {
   "cell_type": "markdown",
   "metadata": {},
   "source": [
    "### II.2 Navigating lists"
   ]
  },
  {
   "cell_type": "markdown",
   "metadata": {},
   "source": [
    "The `type` {term}`function` provides as output information about the value associated with the variable `bkst_data`. It tells us the name of the Python data structure that characterizes this value."
   ]
  },
  {
   "cell_type": "code",
   "execution_count": null,
   "metadata": {},
   "outputs": [],
   "source": [
    "type(bkst_data)"
   ]
  },
  {
   "cell_type": "markdown",
   "metadata": {},
   "source": [
    "````{admonition} Question\n",
    ":class: question\n",
    "\n",
    "You have encountered a Python {term}`list` before. What was the name of the variable that held a list in the [Modeling Code](https://gwu-libraries.github.io/python-camp/notebooks/lessons/1_1_modeling_code.html) exercise?\n",
    "````"
   ]
  },
  {
   "cell_type": "markdown",
   "metadata": {},
   "source": [
    "````{admonition} Notes\n",
    ":class: notes\n",
    "\n",
    "- Going forward, when referring to functions and their output, we will say that the function **returns** something.\n",
    "- Every Python value has a defined type.\n",
    "- When we use the word **variable**, we're generally referring to the combination of a name and a value. The name points to the value, which is located somewhere in memory. When we say, \"the variable `bkst_data` is a list,\" we mean that the value to which the name `bkst_data` points is represented in Python as a list. \n",
    "````"
   ]
  },
  {
   "cell_type": "code",
   "execution_count": null,
   "metadata": {},
   "outputs": [],
   "source": [
    "bkst_data[0]"
   ]
  },
  {
   "cell_type": "markdown",
   "metadata": {},
   "source": [
    "The code above uses {term}`index`ing to access the first element in the `bkst_data` list. When you run it, you should see data enclosed in curly braces (`{}`). "
   ]
  },
  {
   "cell_type": "markdown",
   "metadata": {},
   "source": [
    "````{admonition} Try it out!\n",
    ":class: try-it-out\n",
    "\n",
    "In the cell below, use indexing to look at other elements in the list. (Change the number inside the square brackets in the expression `bkst_data[0]`). \n",
    "\n",
    "````"
   ]
  },
  {
   "cell_type": "code",
   "execution_count": null,
   "metadata": {},
   "outputs": [],
   "source": [
    "# Your code here"
   ]
  },
  {
   "cell_type": "markdown",
   "metadata": {},
   "source": [
    "````{admonition} Try it out!\n",
    ":class: try-it-out\n",
    "\n",
    "For an example of course with assigned textbooks, look at the element in the 2nd position in the list (at index `[1]`).\n",
    "\n",
    "Note any additional data elements that might be useful, as well as any that you have questions about.\n",
    "\n",
    "````"
   ]
  },
  {
   "cell_type": "code",
   "execution_count": null,
   "metadata": {},
   "outputs": [],
   "source": [
    "# Your code here"
   ]
  },
  {
   "cell_type": "markdown",
   "metadata": {},
   "source": [
    "### II.3 Navigating nested data"
   ]
  },
  {
   "cell_type": "markdown",
   "metadata": {},
   "source": [
    "The `len()` function returns the length of a list."
   ]
  },
  {
   "cell_type": "code",
   "execution_count": null,
   "metadata": {},
   "outputs": [],
   "source": [
    "len(bkst_data)"
   ]
  },
  {
   "cell_type": "markdown",
   "metadata": {},
   "source": [
    "There are 4,970 top-level elements in `bkst_data`. But each element contains other elements nested within it. \n",
    "\n",
    "Here we assign one of those elements -- the element in the 2nd position -- to a new variable, `my_course`."
   ]
  },
  {
   "cell_type": "code",
   "execution_count": null,
   "metadata": {},
   "outputs": [],
   "source": [
    "my_course = bkst_data[1]\n",
    "my_course"
   ]
  },
  {
   "cell_type": "code",
   "execution_count": null,
   "metadata": {},
   "outputs": [],
   "source": [
    "type(my_course)"
   ]
  },
  {
   "cell_type": "markdown",
   "metadata": {},
   "source": [
    "A single course is represented as a Python {term}`dictionary` (`dict`) within the `bkst_data` list. \n",
    "\n",
    "Dictionaries allow us to store data in fields, similar to a database. The elements on the left-hand side of the colons are called **keys**, and the elements on the right-hand side of the colons are called **values**.\n",
    "\n",
    "Here the keys are strings; anything enclosed in quotation marks in Python is a {term}`string`.\n",
    "\n",
    "We can use the keys to retrieve the values from the dictionary."
   ]
  },
  {
   "cell_type": "code",
   "execution_count": null,
   "metadata": {},
   "outputs": [],
   "source": [
    "my_dept = my_course['department']\n",
    "my_dept"
   ]
  },
  {
   "cell_type": "markdown",
   "metadata": {},
   "source": [
    "````{admonition} Try it out!\n",
    ":class: try-it-out\n",
    "\n",
    "Practice accessing other elements within `my_course` using keys. \n",
    "\n",
    "````"
   ]
  },
  {
   "cell_type": "code",
   "execution_count": null,
   "metadata": {},
   "outputs": [],
   "source": [
    "# Your code here"
   ]
  },
  {
   "cell_type": "markdown",
   "metadata": {},
   "source": [
    "````{admonition} Questions\n",
    ":class: question\n",
    "\n",
    "Which pieces of information in `my_course` can you NOT access this way?\n",
    "\n",
    "````"
   ]
  },
  {
   "cell_type": "markdown",
   "metadata": {},
   "source": [
    "The textbooks associated with this course/section are stored within a **nested** element: a list associated with the key `'texts'`. "
   ]
  },
  {
   "cell_type": "code",
   "execution_count": null,
   "metadata": {},
   "outputs": [],
   "source": [
    "type(my_course['texts'])"
   ]
  },
  {
   "cell_type": "markdown",
   "metadata": {},
   "source": [
    "This particular course/section has three entries under the `texts` heading."
   ]
  },
  {
   "cell_type": "code",
   "execution_count": null,
   "metadata": {},
   "outputs": [],
   "source": [
    "len(my_course['texts'])"
   ]
  },
  {
   "cell_type": "markdown",
   "metadata": {},
   "source": [
    "````{admonition} Try it out!\n",
    ":class: try-it-out\n",
    "\n",
    "Use indexing to look at each of the items in the `my_books` variable below.\n",
    "\n",
    "````"
   ]
  },
  {
   "cell_type": "code",
   "execution_count": null,
   "metadata": {},
   "outputs": [],
   "source": [
    "my_books = my_course['texts']"
   ]
  },
  {
   "cell_type": "code",
   "execution_count": null,
   "metadata": {},
   "outputs": [],
   "source": [
    "# Your code here"
   ]
  },
  {
   "cell_type": "markdown",
   "metadata": {},
   "source": [
    "````{admonition} A note on nested data\n",
    ":class: notes\n",
    "\n",
    "Working with nested data can be a headache. Unfortunately, because of how databases tend to store data, there's a lot of it out there! Here's a rule of thumb that can help: when working with nested data, always try to keep track of the level at which you're working. Variables can be useful for this purpose. \n",
    "\n",
    "1. For instance, in the code above, the variable `bkst_data` holds a list of courses. \n",
    "2. We point to a single course (the second) using the variable `my_course`. If we wanted to point to a different course, we could simply reassign the variable, e.g., `my_course = bkst_data[100]`. After running that bit of code, `my_course` would point to the 101st course in the list.\n",
    "3. The `my_books` variable points to the list of textbooks associated with the course in `my_course` (either the second course or whatever other course we assigned to it). \n",
    "\n",
    "If you find visual analogies useful, think of our dataset as follows:\n",
    "\n",
    "- As a file cabinet, where each course corresponds to a separate drawer, and within each drawer, there is a folder containing sheets of paper about textbooks. (The folder may be empty.) \n",
    "- As a series of nesting dolls, or boxes inside boxes. \n",
    "- Or if you're a Marvel fan, as the multiverse, wherein each universe may or may not have its own version of your favorite superheroes.\n",
    "````"
   ]
  },
  {
   "cell_type": "markdown",
   "metadata": {},
   "source": [
    "````{admonition} A note on variable names\n",
    ":class: notes\n",
    "\n",
    "Note that it's purely a matter of convention that `my_course` uses the singular noun (\"course\") because it's pointing to a single course, and that `my_books` uses the plural (\"books\") because it's pointing to a list. These are helpful hints for the programmer, but they mean nothing to Python. We could name our variables `spiderman` and `doctor_strange`, if we wanted to, and they would work just as well (though _we_ might be more prone to make mistakes!).\n",
    "\n",
    "````"
   ]
  }
 ],
 "metadata": {
  "celltoolbar": "Tags",
  "kernelspec": {
   "display_name": "Python 3 (ipykernel)",
   "language": "python",
   "name": "python3"
  },
  "language_info": {
   "codemirror_mode": {
    "name": "ipython",
    "version": 3
   },
   "file_extension": ".py",
   "mimetype": "text/x-python",
   "name": "python",
   "nbconvert_exporter": "python",
   "pygments_lexer": "ipython3",
   "version": "3.11.4"
  }
 },
 "nbformat": 4,
 "nbformat_minor": 4
}
