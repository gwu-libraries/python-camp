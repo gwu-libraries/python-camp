{
 "cells": [
  {
   "cell_type": "markdown",
   "metadata": {},
   "source": [
    "# From Story to Code"
   ]
  },
  {
   "cell_type": "markdown",
   "metadata": {},
   "source": [
    "## Objectives\n",
    "\n",
    "- Collaboratively develop a plan for writing code to address specific user stories\n",
    "- Work together to implement this code, using the tools we've learned so far\n",
    "- Refactor the code using functions\n",
    "- Document the code for yourself and others"
   ]
  },
  {
   "cell_type": "markdown",
   "metadata": {
    "tags": [
     "instructor",
     "remove-cell"
    ]
   },
   "source": [
    "<div class=\"lesson-plan\" style=\"background: rgba(144, 238, 144, .1)\">\n",
    "\n",
    "\n",
    "## Lesson Plan\n",
    "\n",
    "### User Stories\n",
    "\n",
    "1. Walk through the first section, \"User Stories,\" and have each team do the exercise.\n",
    "\n",
    "2. Share all the user stories in a shared doc, so that teams can choose from among them for the next exercise.\n",
    "   - Acknowledge that some user stories may be beyond the scope of what we can accomplish now, either because we haven't learned the relevant tools yet (e.g., making a website), or because our dataset doesn't support it (e.g., correlating textbook cost with course enrollment).\n",
    "   - Note that writing code is almost always an interative process. If we can't tackle the full scope of a user story at the moment, we can find identify a piece of it to work on, given our skills and resources.\n",
    "\n",
    "-----------\n",
    "\n",
    "### Planning\n",
    "\n",
    "1. Have each team do the planning exercise.\n",
    "\n",
    "2. At this point, instructors should check in with each team to help them work through the above questions and/or address any questions the teams have flagged about implementation.\n",
    "   - If a team has chosen a more complex user story and/or an implementation that requires a Python feature or programming technique we haven't covered, consider one of two approaches:\n",
    "\n",
    "      1. Steer the team toward a simpler version of what they're trying to accomplish, e.g., \"Python has great tools for data visualization, but we aren't learning about them in Python Camp. But instead of actually producing a graph or chart, try thinking through what the data would need to look like (in terms of structure) in order to produce such a chart. Can you write some code to transform the bookstore dataset into that structure?\"\n",
    "\n",
    "      2. If the team seems up for it, _and if you feel comfortable supporting them_, you can introduce the feature or technique that the team needs to do what they propose. Examples at this stage might include things like\n",
    "         - creating a CSV file;\n",
    "         - using one or more string methods we haven't covered;\n",
    "         - sorting a list;\n",
    "         - looping over the items (key/value pairs) in a dictionary;\n",
    "         - etc.\n",
    "      3. Make sure to refer the team to documentation about the feature in the official Python docs and/or elsewhere.\n",
    "      \n",
    "-----------------------\n",
    "\n",
    "### Implementation\n",
    "\n",
    "Possible solutions to the two provided user stories can be found at the end of the instructor notebook. It's likely that some teams will need a lot of help with this part. Try to have them break the problem into conceptual parts and focus on each part. For instance, for the first user story, the development might proceed as follows:\n",
    "  - What elements do we need from the data in order to compute these summary stats?\n",
    "  - How can we iterate over the dataset and just print these elements?\n",
    "  - Now how can we extract/save them to another list instead of printing them?\n",
    "  - And how do we associate these elements with each other so that we can use them in calculations?\n",
    "\n",
    "\n",
    "### Wrap Up\n",
    "\n",
    "Before the end of the day, whether or not all teams have finished, instructors should make time for sharing and discussion. The following questions might serve as prompts. Alternately, it may be useful to have everyone answer one or two of these in writing (as a self-assessment).\n",
    "\n",
    "- How did you approach implementation?\n",
    "- What obstacles did you encounter? How did you solve or try to solve them?\n",
    "- If you found yourself revising your user story or your plan during implementation, how and why did that happen?\n",
    "- What do you wish you knew about Python or programming in doing this exercise?\n",
    "- What have you learned from this process?\n",
    "\n",
    "    </div>"
   ]
  },
  {
   "cell_type": "markdown",
   "metadata": {},
   "source": [
    "## I.  User Stories\n",
    "\n",
    "We can think about code as telling a story. A story about the intentions of those who wrote the code: \n",
    " - what they imagined users would do with their code,\n",
    " - and for what purpose,\n",
    " - and who they imagined those users would be.\n",
    "\n",
    "In software development, we often make this way of thinking explicit by developing **user stories**.\n",
    "\n",
    "Put simply, a user story expresses the _who_, _what_, and _why_ in a succinct but concrete way. Written at the outset of a project, user stories provide developers both with guidance as they plan the project, and with benchmarks for measuring the project's success.\n",
    "\n",
    "As an example, here are a couple of user stories we could have written about the materials for Python Camp:\n",
    "\n",
    "1. As a beginning learner of Python (**who**), I want to write code in the context of explanations and examples (**what**), so that I can refer back to the material for review (**why**).\n",
    "2. As an instructor of Python Camp (**who**), I want to give learners self-paced exercises (**what**), so that I can focus on where individual learners get stuck (**why**).\n",
    "\n",
    "Ideally, developers create user stories with input from the people who will actually use their software. But even when that's not possible, user stories can offer a helpful framework for development.\n",
    "\n",
    "In other cases, the only user of your code might be you! But it's still good practice to document your intentions, and writing user stories can help you identify specific aspects or features of the code (developers call these _requirements_) that you need to target in order to meet your needs.\n"
   ]
  },
  {
   "cell_type": "markdown",
   "metadata": {},
   "source": [
    "````{admonition} Try it out!\n",
    ":class: try-it-out\n",
    "\n",
    "With you team, develop at least one user story about our bookstore dataset. The users in your story can be whoever you like, but it should be something that can be addressed using the dataset we worked with on Days 1 and 2.\n",
    "\n",
    "\n",
    "Don't worry about details of implementation at this point: just focus on the who, what, and why, following the template:\n",
    "```\n",
    "As a ___________, I want to _____________________, so that ____________________.\n",
    "```\n",
    "````"
   ]
  },
  {
   "cell_type": "markdown",
   "metadata": {},
   "source": [
    "## II. Coding Your Story\n",
    "\n",
    "### II.1 Planning \n",
    "\n",
    "Your team's task now is to select a user story and start implementing it in code. \n",
    "\n",
    "Choose a user story that your team wrote, or that was written by another team. \n",
    "\n",
    "Alternately, pick one of the following to implement:\n",
    "\n",
    "- As a student, I want to see summary statistics about textbook cost by department, so that I can know what to expect from various possible majors: e.g, average textbook cost, most expensive textbook, least expensive textbook, etc.\n",
    "\n",
    "\n",
    "- As a librarian, I want to enter an ISBN (the unique 10- or 13-digit number publishers use to identify their books) and see which courses at GW require that text, so that I can anticipate demand on library reserves.\n",
    "\n",
    "Once your team has agreed upon a user story, work together to develop a plan for implementation. The questions below can help you get started."
   ]
  },
  {
   "cell_type": "markdown",
   "metadata": {},
   "source": [
    "````{admonition} Questions\n",
    ":class: question\n",
    "\n",
    "1. Is there more than one way to interpret this user story? If so, the team should document the different interpretations but then choose one to work with.\n",
    "\n",
    "\n",
    "2. What tools and techniques can we apply to this problem? (Think about the Python data and control structures you've encountered so far: lists, dictionaries, `for` loops, and conditionals.)\n",
    "\n",
    "\n",
    "3. What challenges might arise during implementation? Since this user story concerns our bookstore dataset, are there aspects of that dataset that might pose problems? \n",
    "\n",
    "\n",
    "4. What would a **minimal implementation** look like that would satisfy this user story? \n",
    "\n",
    "  For example, if my user story is about students' looking up courses to identify required texts, I might start thinking about a website with a search feature, a browse feature, etc. But a _minimal_ implementation might be a Python {term}`dictionary`. Why? Because a Python dictionary is a data structure that can associate data with certain keys (like course identifiers).\n",
    "  \n",
    "  \n",
    "5. Once you've settled on a minimal implementation, how are you going to get there? Try to describe the sequence of steps your implementation will take, and flag any steps that you have questions about. \n",
    "\n",
    "````"
   ]
  },
  {
   "cell_type": "markdown",
   "metadata": {},
   "source": [
    "### II.2 Implementation\n",
    "\n",
    "Now it's time to implement your code! As a reminder, in working together on the implementation with your team, **make sure that everyone in the team has the opportunity to write code**. At this stage, developing the muscle memory associated with writing Python syntax and patterns is crucial to learning.\n",
    "\n",
    "The following hints and code snippets may be helpful, depending on which user story you've chosen to implement."
   ]
  },
  {
   "cell_type": "code",
   "execution_count": 1,
   "metadata": {},
   "outputs": [],
   "source": [
    "# As usual, we need to load the bookstore dataset as JSON before we can work with it\n",
    "from urllib.request import urlretrieve\n",
    "import json\n",
    "urlretrieve('https://go.gwu.edu/pythoncampdata', 'bookstore-data.json')\n",
    "with open('bookstore-data.json') as f:\n",
    "    bkst_data = json.load(f)"
   ]
  },
  {
   "cell_type": "markdown",
   "metadata": {},
   "source": [
    "````{admonition} Try it out!\n",
    ":class: try-it-out\n",
    "\n",
    "Write code below to implement your solution to your team's user story. The Python Camp facilitators are happy to help if you get stuck!\n",
    "\n",
    "````"
   ]
  },
  {
   "cell_type": "code",
   "execution_count": 8,
   "metadata": {},
   "outputs": [],
   "source": [
    "# Your code here\n",
    "# Add as many code cells below as you need"
   ]
  },
  {
   "cell_type": "markdown",
   "metadata": {},
   "source": [
    "````{admonition} Implementation Notes\n",
    ":class: notes\n",
    "\n",
    "If your team chose either of the user stories provided above, the following may help.\n",
    "\n",
    "\n",
    "- This task involves transforming one complex data structure into another. You'll need to use {term}`for loop`s. \n",
    "\n",
    "\n",
    "- To associate one discrete piece of information (a department code, or an ISBN) with other pieces of information, a **nested dictionary** can be useful. In a nested dictionary, each {term}`key` is associated with something other than a single {term}`value` (like a string or a float).\n",
    "  - This could be a {term}`list`.\n",
    "  - Or another dictionary.\n",
    "  - Or even another nested dictionary!\n",
    "  \n",
    "  \n",
    "- Keep in mind that you can't {term}`append` to a list (or update a dictionary) that doesn't exist. So your code will have to handle those cases where a given key has not been encountered before.\n",
    "  - To test whether a key exists in a dictionary, we can use Python's `in` keyword in the context of a {term}`Boolean expression`:\n",
    "  ```\n",
    "  if 'name' in my_dict:    # 'name' may or may not be a key in my_dict\n",
    "      [do something]\n",
    "  else:\n",
    "      [do something else]\n",
    "  ```\n",
    "````"
   ]
  },
  {
   "cell_type": "markdown",
   "metadata": {},
   "source": [
    "````{admonition} More Implementation Notes\n",
    ":class: notes\n",
    "\n",
    "An analogy might help illustrate the last point. Imagine you and a friend are packing up your kitchen prior to a move. Your friend (acting here like a Python `for` loop) is handing you one item after another from the kitchen. You're putting the items in boxes. You want to keep like things in the same box: plates in one box, glasses in another, utensils in a third, etc.\n",
    " 1. Your friend hands you a glass: there's already a \"Glasses\" box, so in it goes.\n",
    " 2. Your friend hands you a saucepan. You don't yet have a saucepan box, so you need to create one before you can pack the saucepan.\n",
    " \n",
    "````"
   ]
  },
  {
   "cell_type": "markdown",
   "metadata": {},
   "source": [
    "````{admonition} Even More Implementation Notes\n",
    "\n",
    "A final hint: you don't have to do everything all at once (inside the same `for` loop). \n",
    "\n",
    "For example, if you're computing averages, it might easier to use two separate loops:\n",
    "1. In the first loop, collect all the quantities to be averaged, using lists. If you're using a dictionary as your outer data structure, you can associate each list with a different key.\n",
    "2. In a second loop -- after the first loop is finished -- you can loop over the dictionary from step 1, finding the average of the quantities in each list.\n",
    "3. To loop over a dictionary, you can use the following pattern:\n",
    "  ```\n",
    "  # The loop variable holds each key in the dictionary in sequence\n",
    "  for key in my_dict:    \n",
    "       print(my_dict[key])  # Prints the value associated with each key\n",
    "  ```\n",
    "\n",
    "````"
   ]
  },
  {
   "cell_type": "markdown",
   "metadata": {
    "tags": [
     "instructor",
     "remove-cell"
    ]
   },
   "source": [
    "<div class=\"lesson-plan\" style=\"background: rgba(144, 238, 144, .1)\">\n",
    "\n",
    "\n",
    "## Solutions\n",
    "\n",
    "Here is a solution to the first optional user story: \n",
    "\n",
    "> As a student, I want to see summary statistics about textbook cost by department, so that I can know what to expect from various possible majors: e.g, average textbook cost, most expensive textbook, least expensive textbook, etc.\n",
    "\n",
    "\n",
    "```\n",
    "# First, we create a dictionary to associate each department with a list of textbook prices\n",
    "\n",
    "prices_by_dept = {}\n",
    "for course in bkst_data:\n",
    "    dept = course['department']\n",
    "    # If this key doesn't exist in our dictionary, we need to create new list\n",
    "    if dept not in prices_by_dept:\n",
    "        prices = []\n",
    "    # Otherwise, we want to add to an existing list\n",
    "    else:\n",
    "        prices = prices_by_dept[dept]\n",
    "    for text in course['texts']:\n",
    "        price = float(text['price_display'][1:])\n",
    "        prices.append(price)\n",
    "    # We update the dictionary with our new/modified list for this key\n",
    "    prices_by_dept[dept] = prices\n",
    "    \n",
    "# Next we convert each department's list of prices into summary stats\n",
    "\n",
    "for dept in prices_by_dept:\n",
    "    prices = prices_by_dept[dept]\n",
    "    # Only create stats for lists that are not empty\n",
    "    if prices:\n",
    "        # Replace the department's list of prices with a dictionary holding the stats\n",
    "        # Using built-in Python functions sum, len, max, and min\n",
    "        prices_by_dept[dept] = {'average_cost': sum(prices)/len(prices),\n",
    "                    'max_cost': max(prices),\n",
    "                    'min_cost': min(prices)}\n",
    "    # If there are no prices, we use Python's null value\n",
    "    # Could also just have left it an empty list\n",
    "    else:\n",
    "        prices_by_dept[dept] = None\n",
    "```\n",
    "---------------\n",
    "\n",
    "If a team has successfully implemented this user story and is ready to work on enhancements, have them choose one of the following next steps:\n",
    "\n",
    "- Add a summary statistic indicating the average number of texts per course. (Note that the same text might appear multiple times under a single course, for instance, if it's being offered for purchase and for rent, and/or in print and digitally. Teams might want to focus on a single combination of `item_type` and `type_condition`, e.g., new print books for purchase.)\n",
    "- Revise the price statistics so that they are based only on new books available for purchase.\n",
    "    \n",
    "</div>"
   ]
  },
  {
   "cell_type": "markdown",
   "metadata": {
    "tags": [
     "instructor",
     "remove-cell"
    ]
   },
   "source": [
    "<div class=\"lesson-plan\" style=\"background: rgba(144, 238, 144, .1)\">\n",
    "\n",
    "## Solutions\n",
    "\n",
    "Here is a solution to the second optional user story:\n",
    "\n",
    "> As a librarian, I want to enter an ISBN (the unique 10- or 13-digit number publishers use to identify their books) and see which courses at GW require that text, so that I can anticipate demand on library reserves.\n",
    "\n",
    "\n",
    "\n",
    "```\n",
    "# Create a dictionary to hold each ISBN and its associated courses\n",
    "courses_by_isbn = {}\n",
    "for course in bkst_data:\n",
    "    # Capture data about the course as a new dictionary\n",
    "    course_info = {'department': course['department'],\n",
    "                    'course': course['course'],\n",
    "                    'section': course['section']}\n",
    "    for text in course['texts']:\n",
    "        # Get the ISBN for each text\n",
    "        isbn = text['isbn']\n",
    "        # If the ISBN already exists in the outer dictionary, \n",
    "        # append this course to the list\n",
    "        if isbn in courses_by_isbn:\n",
    "            courses_by_isbn[isbn].append(course_info)\n",
    "        # If the ISBN hasn't been seen before, \n",
    "        # we need to initialize the list of courses\n",
    "        # Note the brackets around the course_info variable: \n",
    "        # we're creating a list with one element\n",
    "        else:\n",
    "            courses_by_isbn[isbn] = [course_info]\n",
    "```\n",
    "---------\n",
    "\n",
    "A problem with this implementation is that duplication can arise when the same course lists the a given ISBN multiple times (because it's available for both purchase and rental, etc.). As a follow-up, teams can work on refining the code to remove duplication, by checking for the presence of a given course in the ISBN list before appending it.\n",
    "    \n",
    "</div>"
   ]
  }
 ],
 "metadata": {
  "celltoolbar": "Tags",
  "kernelspec": {
   "display_name": "Python 3 (ipykernel)",
   "language": "python",
   "name": "python3"
  },
  "language_info": {
   "codemirror_mode": {
    "name": "ipython",
    "version": 3
   },
   "file_extension": ".py",
   "mimetype": "text/x-python",
   "name": "python",
   "nbconvert_exporter": "python",
   "pygments_lexer": "ipython3",
   "version": "3.11.4"
  }
 },
 "nbformat": 4,
 "nbformat_minor": 4
}
