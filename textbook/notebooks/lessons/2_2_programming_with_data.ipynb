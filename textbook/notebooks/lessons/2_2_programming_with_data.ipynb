{
 "cells": [
  {
   "cell_type": "markdown",
   "metadata": {},
   "source": [
    "# Programming with Data"
   ]
  },
  {
   "cell_type": "markdown",
   "metadata": {},
   "source": [
    "## Objectives\n",
    "\n",
    "- To use lists, loops, and conditionals to answer basic questions about a dataset\n",
    "- To design data structures with specific purposes (use cases) in mind"
   ]
  },
  {
   "cell_type": "markdown",
   "metadata": {
    "tags": [
     "instructor",
     "remove-cell"
    ]
   },
   "source": [
    "<div class=\"lesson-plan\" style=\"background: rgba(144, 238, 144, .1)\">\n",
    "\n",
    "\n",
    "## Lesson Plan\n",
    "\n",
    "Instructors should review the material in the `Preliminaries` section with the whole group, before giving teams their assignments.\n",
    "\n",
    "#### First exercise\n",
    "\n",
    "Solicit examples from the group. Make sure to demonstrate the case of equality, emphasizing the double equals sign, e.g.,\n",
    "\n",
    "`book_price == 55` \n",
    "\n",
    "It may help also to point out that just as we saw that it's not possible to add a `str` value and an `int` (or `float`), we also can't compare string and numeric types:\n",
    "\n",
    "```\n",
    "'$55.99' > 60\n",
    "```\n",
    "The code above will produce a `TypeError`.\n",
    "\n",
    "-------------\n",
    "\n",
    "#### if statements\n",
    "\n",
    "Make sure to take questions at this point. In particular, the implications of the third rule above may not be immediately apparent to learners. An example may help:\n",
    "\n",
    "```\n",
    "pub_price = 100.99\n",
    "on_sale = True\n",
    "if pub_price > 100 and on_sale:\n",
    "    retail_price = pub_price * 1.25\n",
    "elif on_sale:\n",
    "    retail_price = pub_price * 1.35\n",
    "else:\n",
    "    retail_price = pub_price * 1.40\n",
    "    \n",
    "```\n",
    "In this example, we calculate retail price from a publisher's price, using a markup percentage. The percentage to be applied depends on whether or not the book is on sale, with an extra discount for books over $100 that are on sale.\n",
    "\n",
    "If we didn't put the compound condition in the first position (`if pub_price > 100 and on_sale`), then sale books over $100 would not get the appropriate discount. \n",
    "\n",
    "----------------\n",
    "\n",
    "#### for loops/counter pattern\n",
    "\n",
    "(for instructors)\n",
    "\n",
    "Point out that the `print()` statements emphasize the fact that the `counter` variable is incremented by the loop, so that it goes from 0 to 1250 (the number of items in the list).\n",
    "\n",
    "Point out that this code essentially does the same thing as `len(bkst_data)`. \n",
    "\n",
    "-----------------\n",
    "\n",
    "\n",
    "#### Team activity 1\n",
    "\n",
    "Solutions should look something like the following:\n",
    "\n",
    "```\n",
    "with_texts = 0\n",
    "for course in bkst_data:\n",
    "    if len(course['texts']) > 0:\n",
    "        with_texts += 1\n",
    "print('Percentage of courses with textbooks:', with_texts / len(bkst_data)) \n",
    "```\n",
    "\n",
    "Take a moment to review solutions from the teams before proceeding to the next activity. \n",
    "\n",
    "Highlight the levels of indentation involved with the `if` statement.\n",
    "\n",
    "------------------\n",
    "    \n",
    "#### Team activity 2\n",
    "\n",
    "Have each team share either their solution OR where they go stuck (if they did not find a solution).\n",
    "\n",
    "The following code represents one possible solution:\n",
    "```\n",
    "most_expensive = 0                                     # Initialize variable to track most expensive seen\n",
    "for course in bkst_data:                               # Loop over courses (outer loop)\n",
    "    for text in course['texts']:                       # Loop over textbooks (inner loop)\n",
    "        price = float(text['price_display'][1:])       # Slice string, convert to float\n",
    "        if price > most_expensive:                     # Compare this price with most expensive\n",
    "            most_expensive = price                     # Update if necessary\n",
    "print('Most expensive textbook costs', most_expensive)\n",
    "```\n",
    "It may be worth pointing out that when `course['texts']` is empty, the line `for book in course['texts']:` will simply exit without iterating (as opposed to throwing an error). This is useful, since it means we don't need explicitly to check for a list length > 0.\n",
    "\n",
    "------------------\n",
    "\n",
    "#### Team activity 3\n",
    "\n",
    "Possible solution to the first question: Can you and your team adapt the preceding solution so as to identify _the course_ with the most expensive textbook? \n",
    "\n",
    "\n",
    "```\n",
    "most_expensive = 0              \n",
    "most_exp_course = {}\n",
    "for course in bkst_data:        \n",
    "    for text in course['texts']: \n",
    "        price = float(text['price_display'][1:])  \n",
    "        if price > most_expensive:  \n",
    "            most_expensive = price   \n",
    "            most_exp_course = course\n",
    "print('Course with the most expensive textbook:', most_exp_course)  \n",
    "```\n",
    "\n",
    "Possible solution to the second above:  What about the _title_ and _author_ of the most expensive textbook?\n",
    "\n",
    "```\n",
    "most_expensive = 0              \n",
    "most_exp_text = {}\n",
    "for course in bkst_data:        \n",
    "    for text in course['texts']: \n",
    "        price = float(text['price_display'][1:])  \n",
    "        if price > most_expensive:  \n",
    "            most_expensive = price   \n",
    "            most_exp_text['title'] = text['title']\n",
    "            most_exp_text['author'] = text['author']\n",
    "print('The most expensive textbook:', most_exp_text) \n",
    "```\n",
    "\n",
    "If teams get stuck, it may help to explain that all this problem requires is the use of an additional variable to keep track of which course/text is the most expensive. It is perhaps most straightfoward to create a dictionary for this second variable, since the information that we want (describing the course and/or the text) is already in this form. \n",
    "\n",
    "#### Wrap up\n",
    "\n",
    "Review how to submit the homework to GH classroom.\n",
    "\n",
    "</div>"
   ]
  },
  {
   "cell_type": "markdown",
   "metadata": {},
   "source": [
    "````{admonition} Taking stock\n",
    ":class: notes\n",
    "\n",
    "At this point, you've covered _almost_ all the essential parts of the Python language. In particular, you have practiced\n",
    "\n",
    "- Using integers, floats, and strings to represent numbers and text\n",
    "- Creating lists to store multiple pieces of information\n",
    "- Creating dictionaries to store information in a more structured way\n",
    "- Using for loops to manipulate nested data structures\n",
    "- Writing functions to organize code in a logical way and reduce redundancy\n",
    "\n",
    "With these tools, you have almost everything you need to write Python code for \"real-world\" situations, like analyzing a dataset. \n",
    "\n",
    "Today you'll equip yourself with a couple more tools, and then you and your team will start to tackle some more complex problems with Python.\n",
    "\n",
    "````"
   ]
  },
  {
   "cell_type": "markdown",
   "metadata": {},
   "source": [
    "````{admonition} A reminder\n",
    ":class: notes\n",
    "\n",
    "But if you feel a little overwhelmed at this point, that's to be expected! Learning a programming language, especially your first language, can be a long process, with periods of excitement alternating with periods of frustration. \n",
    "\n",
    "As we forge ahead today and tomorrow, please keep these two things in mind:\n",
    "1. You should be proud of yourself for having made it this far!\n",
    "2. When you feel stuck, try to have compassion for yourself, take a deep breath, and even walk away for a bit if you need to. \n",
    "\n",
    "Human minds are not computers. When a computer program gets stuck, it means that something's off -- an error in the code, a hardware issue, an unexpected piece of data -- and the program won't work until the problem has been fixed (usually, by outside intervention). But when the human mind feels stuck, that is usually a sign that learning is happening. Today's frustrations pave the way for tomorrow's epiphanies. \n",
    "\n",
    "Learning means getting stuck, and sticking with it.\n",
    "\n",
    "````"
   ]
  },
  {
   "cell_type": "markdown",
   "metadata": {},
   "source": [
    "## I. What if?\n",
    "\n",
    "Programming is a powerful tool because it can respond to different situations, provided we can anticipate them. The real world is full of variation, and useful programs are those that account for some amount of variation. After all, it would hardly be efficient if we had to re-write our code from scratch whenever we encountered a new dataset, for instance, or if we had no way of dealing with different users' preferences.\n",
    "\n",
    "Conversely, think of how frustrating it is to encounter an application or a website that doesn't seem designed to let you do what it seems obvious that you should be able to do with it. \n",
    "\n",
    "At the core of the programmer's ability to anticipate and cope with variable user preferences, data structures, and computing environments is {term}`conditional logic`. "
   ]
  },
  {
   "cell_type": "markdown",
   "metadata": {},
   "source": [
    "### I.1 Conditionals & Boolean values\n",
    "\n",
    "In a very abstract sense, a computer is a machine for implementing binary logic. In binary logic, the only values allowed are `1`'s and `0`'s, which represent `True` and `False`, respectively. \n",
    "\n",
    "Thus, at some level, _everything_ we do in computation can be reduced to `True` or `False` (from the computer's perspective). But from a programmer's perspective, this usually only matters in situations where we want the program to do different things based on certain conditions that may or may not obtain. These cases are called {term}`Boolean expression`s. \n",
    "\n",
    "For instance, we can tell Python to compare two numbers, using the standard operators you might remember from your math courses: greater than, less than, equal to, etc.\n",
    "\n",
    "Note that in Python, we represent equality by the **double equals sign** (`==`). A single equals sign is reserved for {term}`variable` assignment."
   ]
  },
  {
   "cell_type": "markdown",
   "metadata": {},
   "source": [
    "Running the code below should return `True`, which is one of two special Python values called {term}`Boolean value`s (so named because the binary logic that computers implement was invented by the mathematician George Boole)."
   ]
  },
  {
   "cell_type": "code",
   "execution_count": 1,
   "metadata": {},
   "outputs": [
    {
     "data": {
      "text/plain": [
       "True"
      ]
     },
     "execution_count": 1,
     "metadata": {},
     "output_type": "execute_result"
    }
   ],
   "source": [
    "book_price = 55.99 # Assignment: single equals sign\n",
    "book_price < 60"
   ]
  },
  {
   "cell_type": "markdown",
   "metadata": {},
   "source": [
    "````{admonition} Try it out!\n",
    ":class: try-it-out\n",
    "\n",
    "Write an expression with the `book_price` variable that returns `False`.\n",
    "\n",
    "````"
   ]
  },
  {
   "cell_type": "code",
   "execution_count": 1,
   "metadata": {},
   "outputs": [],
   "source": [
    "# Your code here"
   ]
  },
  {
   "cell_type": "markdown",
   "metadata": {},
   "source": [
    "### I.2 `if` statements\n",
    "\n",
    "Usually, we want to do more than evaluate whether an expression (like `book_price < 60`) is `True` or `False`. Usually, we want the program to _take some action_ based on the outcome of that evaluation.\n",
    "\n",
    "For this, we use an {term}`if statement`. \n",
    "\n",
    "To print a message **if** the value of the `book_price` variable is above a certain threshhold, we can write the following:"
   ]
  },
  {
   "cell_type": "code",
   "execution_count": 3,
   "metadata": {},
   "outputs": [],
   "source": [
    "if book_price > 100:\n",
    "    print(\"That's an expensive textbook!\")"
   ]
  },
  {
   "cell_type": "markdown",
   "metadata": {},
   "source": [
    "Running the code above produces no output, at least not if `book_price` is assigned as above (to the {term}`float` value `55.99`). \n",
    "\n"
   ]
  },
  {
   "cell_type": "markdown",
   "metadata": {},
   "source": [
    "````{admonition} Try it out!\n",
    ":class: try-it-out\n",
    "\n",
    "Change the value of `book_price` in the preceding code cell so that the condition is `True`.\n",
    "````"
   ]
  },
  {
   "cell_type": "code",
   "execution_count": 1,
   "metadata": {},
   "outputs": [],
   "source": [
    "#Your code here"
   ]
  },
  {
   "cell_type": "markdown",
   "metadata": {},
   "source": [
    "### 1.3 Iffy operations\n",
    "\n",
    "What if we want to check for books within a certain range of prices? \n",
    "\n",
    "We can use the {term}`Boolean operator` `and` to do this. The `and` keyword links two conditions: if both sub-conditions are `True`, then the whole condition (with the `and`) is also `True`. Otherwise, it is `False`. \n",
    "\n",
    "The other common Boolean operators are `or` and `not`. `or` is `True` if _at least one_ sub-condition is `True`. `not` flips (inverts) a condition: so `not True` is `False`.\n",
    "\n",
    "The following truth table summarizes the basic results of using `and` and `or` with two variables, `A` and `B`. Assume both `A` and `B` refer to some Boolean expression, such as `4 < 5` (which would be `True`) or `1 == 2` (which would be `False`).\n",
    "\n",
    "|A|B|Operator|Result|\n",
    "|-|-|-|-|\n",
    "|True|True|and|True|\n",
    "|True|True|or|True|\n",
    "|True|False|and|False|\n",
    "|False|True|and|False|\n",
    "|True|False|or|True|\n",
    "|False|True|or|True|\n",
    "|False|False|and|False|\n",
    "|False|False|or|False|"
   ]
  },
  {
   "cell_type": "code",
   "execution_count": null,
   "metadata": {},
   "outputs": [],
   "source": [
    "book_price = 55.99\n",
    "if book_price >= 20 and book_price <= 100:\n",
    "    print(\"Not too expensive\")"
   ]
  },
  {
   "cell_type": "markdown",
   "metadata": {},
   "source": [
    "In the examples above, our code either performed an action or not, depending on a single condition. We can also specify multiple conditions, only one of which can be true. For example, if `book_price` is between `20` and `100`, the following code will print `Not too expensive`), but it will print other messages if `book_price` is less than `20` or greater than `100`."
   ]
  },
  {
   "cell_type": "code",
   "execution_count": 7,
   "metadata": {},
   "outputs": [
    {
     "name": "stdout",
     "output_type": "stream",
     "text": [
      "Not too expensive\n"
     ]
    }
   ],
   "source": [
    "if book_price >= 20 and book_price <= 100:\n",
    "    print(\"Not too expensive\")\n",
    "elif book_price < 20:\n",
    "    print(\"That's a relatively cheap textbook.\")\n",
    "else:\n",
    "    print(\"That's an expensive textbook!\")"
   ]
  },
  {
   "cell_type": "markdown",
   "metadata": {},
   "source": [
    "````{admonition} Notes\n",
    ":class: notes\n",
    "\n",
    "Here are some rules of thumb for writing `if` statements in Python:\n",
    "- You can have as many `elif` statements as you want, provided they follow an `if` statement.\n",
    "- The `else` statement is a catch-all: it will be executed if none of the preceding `if` or `elif` statements evaluates to `True`.\n",
    "- Otherwise, the _first_ `if`/`elif` statement that is `True` will be executed, and _all the rest_ will be ignored. In other words, if the conditions you're testing for are not mutually exclusive, you should write the most specific test first. \n",
    "- Each `if`/`elif`/`else` statement ends with a colon and is followed by an indented {term}`block` of code. This is the same pattern we saw with `for` loops. \n",
    "\n",
    "````"
   ]
  },
  {
   "cell_type": "markdown",
   "metadata": {},
   "source": [
    "````{admonition} Try it out!\n",
    ":class: try-it-out\n",
    "\n",
    "Take another look at our [bookstore dataset](https://go.gwu.edu/pythoncampdata) as JSON. As you might recall, some but not all courses have textbooks listed. Courses that lack textbooks have a `texts` key that points to an empty Python list (`[]`).\n",
    "\n",
    "How could you write an `if` statement to determine whether a given course has any textbooks associated with it in our dataset? \n",
    "\n",
    "The first code cell below defines a variable `course` and assigns it to a dictionary for a course with textbooks. Run this code, then write some code in the cell below to check whether the `course` variable has any textbooks. **Your code should print the price of the first textbook if any textbooks are listed. Otherwise, your code should print a message like `\"No textbooks found\"`.**\n",
    "\n",
    "Once you've written your code, run the third code cell below, which re-assigns the `course` variable to a dictionary for a course **without** textbooks. Re-run your code cell to make sure that your code works for both situations.\n",
    "````"
   ]
  },
  {
   "cell_type": "markdown",
   "metadata": {},
   "source": [
    "````{hint}\n",
    ":class: dropdown\n",
    "\n",
    "To find the length of a list, you can use the built-in `len()` function.\n",
    "\n",
    "The length of an empty list is 0, so `len([]) == 0` is `True`.\n",
    "\n",
    "````"
   ]
  },
  {
   "cell_type": "code",
   "execution_count": 3,
   "metadata": {},
   "outputs": [],
   "source": [
    "course = {\"department\": \"IAFF\",\n",
    "            \"course_num\": \"1002\",\n",
    "            \"section\": \"10\",\n",
    "            \"instructor\": \"Adas\",\n",
    "            \"texts\": [{\"title\": \"International Affairs: Theories and Practice\",\n",
    "                       \"author\": \"Janice Witherspoon\",\n",
    "                       \"publisher\": \"Addison/Wesley\",\n",
    "                       \"price_display\": \"$100.75\"}]} "
   ]
  },
  {
   "cell_type": "code",
   "execution_count": null,
   "metadata": {},
   "outputs": [],
   "source": [
    "#Your code here"
   ]
  },
  {
   "cell_type": "code",
   "execution_count": 4,
   "metadata": {},
   "outputs": [],
   "source": [
    "course = {\"department\": \"IAFF\",\n",
    "            \"course_num\": \"1001\",\n",
    "            \"section\": \"10\",\n",
    "            \"instructor\": \"Jaffrey\",\n",
    "            \"texts\": []}"
   ]
  },
  {
   "cell_type": "markdown",
   "metadata": {},
   "source": [
    "## II. Loops & conditionals"
   ]
  },
  {
   "cell_type": "markdown",
   "metadata": {},
   "source": [
    "### II.1 Counting with loops\n",
    "\n",
    "A very common use of a {term}`for loop` in Python is to count, aggregate, or otherwise keep track of certain values when processing a list. \n",
    "\n",
    "We've seen a version of this pattern before: in the homework, you use a loop to convert some prices from strings to floats and then to adjust the price with sales tax. You collected the adjusted prices in a new list.\n",
    "\n",
    "In the example below, we'll use this pattern to keep track of a single value. The value we're tracking will simply be the number of items in the list.\n",
    "\n",
    "We'll use our bookstore dataset, so the first step is to read the file into Python from disk."
   ]
  },
  {
   "cell_type": "code",
   "execution_count": 8,
   "metadata": {},
   "outputs": [],
   "source": [
    "from urllib.request import urlretrieve\n",
    "import json\n",
    "urlretrieve('https://go.gwu.edu/pythoncampdata', 'bookstore-data.json')\n",
    "with open('bookstore-data.json') as f:\n",
    "    bkst_data = json.load(f)"
   ]
  },
  {
   "cell_type": "markdown",
   "metadata": {},
   "source": [
    "````{admonition} A recipe for counting\n",
    ":class: notes\n",
    "\n",
    "To use this pattern, you usually have at least _three_ variables to deal with:\n",
    "1. The variable that holds your list (`bkst_data`)\n",
    "2. A loop variable (`course` in the code below)\n",
    "3. A **variable defined before the loop** that will be used to track or accumulate values. Since this loop is just counting items, we'll call this variable `counter`. We set `counter` initially to `0`, since before we run the loop, we haven't counted any items.\n",
    "\n",
    "Note also that `counter += 1` is shorthand for `counter = counter + 1`. Either way of writing that expression is fine.\n",
    "````"
   ]
  },
  {
   "cell_type": "code",
   "execution_count": null,
   "metadata": {},
   "outputs": [],
   "source": [
    "counter = 0\n",
    "print(\"Counter before loop\", counter)\n",
    "for course in bkst_data:\n",
    "    counter += 1\n",
    "print(\"Counter after loop\", counter)"
   ]
  },
  {
   "cell_type": "markdown",
   "metadata": {},
   "source": [
    "````{admonition} Question\n",
    "\n",
    "After running the code above, discuss it with your team. Do you know of another way to accomplish the same thing? \n",
    "\n",
    "Hint: think about the built-in Python functions you've already encountered.\n",
    "\n",
    "````"
   ]
  },
  {
   "cell_type": "markdown",
   "metadata": {},
   "source": [
    "### II.2 Counting with conditionals\n",
    "\n",
    "Admittedly, there are more concise ways to calculate the length of a list than using the for loop and the `counter` variable above. But what if we wanted to count something a bit more complex? "
   ]
  },
  {
   "cell_type": "markdown",
   "metadata": {},
   "source": [
    "````{admonition} Try it out!\n",
    ":class: try-it-out\n",
    "\n",
    "Building on the recipe above, can you write some code to count how many courses in our bookstore dataset **have textbooks**? \n",
    "\n",
    "````"
   ]
  },
  {
   "cell_type": "code",
   "execution_count": null,
   "metadata": {},
   "outputs": [],
   "source": [
    "#Your code here"
   ]
  },
  {
   "cell_type": "markdown",
   "metadata": {},
   "source": [
    "## III. Working with data\n",
    "\n",
    "Now you have seen how lists, loops, conditionals, and variables work together to allow us to perform non-trivial computations with data. The next step is to develop your programmer's intuition by putting these tools into practice with more complex tasks.\n",
    "\n",
    "As a team, you should work through the exercises below. For each exercise, there's a suggestion for a both a **less challenging** and a **more challenging** approach. **Before starting each exercise, each team should discuss the approach they plan to take.** If everyone in the group feels up to the more challenging version of the exercise, you're welcome to skip the less challenging version. But if not everyone feels up to the former, we strongly recommend starting **as a team** with the less challenging approach. Extra practice never hurts!"
   ]
  },
  {
   "cell_type": "markdown",
   "metadata": {},
   "source": [
    "````{admonition} A less challenging dataset\n",
    ":class: notes\n",
    "\n",
    "Our bookstore dataset has a few thousand elements and a non-trivially nested structure. For a less challenging dataset, you can use the **team dataset** you produced during Day 2's activity \"Describing the Team.\" Assuming you saved that dataset to a JSON file on JupyterHub called `team-dataset.json`, the following code should open the file and store its contents in a variable called `my_team`.\n",
    "\n",
    "````"
   ]
  },
  {
   "cell_type": "code",
   "execution_count": null,
   "metadata": {},
   "outputs": [],
   "source": [
    "with open(\"./team-dataset.json\") as f:\n",
    "    my_team = json.load(f)"
   ]
  },
  {
   "cell_type": "markdown",
   "metadata": {},
   "source": [
    "````{admonition} Can't find your team data?\n",
    "\n",
    "If the code above shows a `FileNotFound` error, you can use a prepared dataset that has more or less the same structure as your team dataset (with randomly generated names).\n",
    "\n",
    "Copy the code below into a new code cell and run it:\n",
    "\n",
    "```\n",
    "urlretrieve('https://go.gwu.edu/pythoncampdata2', 'team-dataset-prepared.json')\n",
    "with open('team-dataset-prepared.json') as f:\n",
    "    my_team = json.load(f)\n",
    "```\n",
    "\n",
    "````"
   ]
  },
  {
   "cell_type": "markdown",
   "metadata": {},
   "source": [
    "### III.1 Computing averages\n",
    "\n",
    "We can compute an average by dividing some total quantity by the number of occurences of each quantity. For instance, let's say we have a list `prices` defined as follows:\n",
    "```\n",
    "prices = [100.5, 75, 85.75, 90, 55]\n",
    "```\n",
    "We can compute the average price like this:\n",
    "```\n",
    "avg_price = sum(prices) / len(prices)\n",
    "```\n",
    "Note that the `sum()` function works only on numeric types (integers and floats)."
   ]
  },
  {
   "cell_type": "markdown",
   "metadata": {},
   "source": [
    "````{admonition} Try it out!\n",
    ":class: try-it-out\n",
    "\n",
    "**Less Challenging**\n",
    "\n",
    "Each dictionary in your team dataset should include a key `\"years_at_gw\"`. Calculate the average number of years at GW for members of your team.\n",
    "\n",
    "**More Challenging**\n",
    "\n",
    "Calculate the average cost of a textbook in the bookstore dataset. \n",
    "\n",
    "````"
   ]
  },
  {
   "cell_type": "code",
   "execution_count": null,
   "metadata": {
    "solution2": "hidden",
    "solution2_first": true
   },
   "outputs": [],
   "source": [
    "# Your code here"
   ]
  },
  {
   "cell_type": "markdown",
   "metadata": {
    "solution2": "hidden"
   },
   "source": [
    "````{hint}\n",
    ":class: dropdown\n",
    "\n",
    "For the **less challenging** version of the problem, you might take this approach:\n",
    "\n",
    "1. Define a variable called `total_years`.\n",
    "2. Use a {term}`for loop` to iterate over the `my_team` list.\n",
    "3. For each `member` in `my_team` (assuming `member` is your {term}`loop variable`), add the value of `member[\"years_at_gw\"]` to the `total_years` variable.\n",
    "4. Outside the loop, divide the `total_years` variable by the length of the `my_team` list.\n",
    "\n",
    "For the more **challenging version**, a similar approach could work, with these differences:\n",
    "\n",
    "- Each textbook's price corresponds to the `\"price_display\"` {term}`key` of a {term}`dictionary`. These dictionaries are stored in a list nested under the dictionary corresponding to each course. \n",
    "- Because there are two levels of list -- a list of courses, and under each course, a list of textbooks -- you'll probably want to use a nested for loop.\n",
    "- Each price is stored as a string, so you'll want to **convert it to a float** before doing any math with it.\n",
    "- You'll also need to keep track -- perhaps in a separate variable -- of the total number of textbooks. Note that `len(bkst_data)` will return the number of **courses**, not the number of textbooks.\n",
    "\n",
    "````"
   ]
  },
  {
   "cell_type": "markdown",
   "metadata": {},
   "source": [
    "### III.2 Finding the maximum and minimum \n",
    "\n",
    "For this exercise, feel free to reuse and modify the code you write for exercise III.1."
   ]
  },
  {
   "cell_type": "markdown",
   "metadata": {},
   "source": [
    "````{admonition} Try it out!\n",
    ":class: try-it-out\n",
    "\n",
    "**Less challenging**\n",
    "\n",
    "Use your team dataset to identify the team member with **the longest name** (the string containing the most characters). \n",
    "\n",
    "**More challenging**\n",
    "\n",
    "Identify the most expensive and/or the least expensive **textbook** in the bookstore dataset.\n",
    "````"
   ]
  },
  {
   "cell_type": "code",
   "execution_count": 17,
   "metadata": {},
   "outputs": [],
   "source": [
    "# Your code here"
   ]
  },
  {
   "cell_type": "markdown",
   "metadata": {},
   "source": [
    "````{hint}\n",
    ":class: dropdown\n",
    "\n",
    "This exercise is subtly different from the first. When finding the average, we were computing a single number. Here we want to find the **data element** that satisfies the criterion (e.g., max or minimum price, maximum length of name). \n",
    "\n",
    "The following considerations may prove important:\n",
    "\n",
    "1. We'll need to keep track of **both** the maximum (or minumum) value we've seen so far (e.g., price, name length), **and** the textbook or team member associated with that value. One way to do that is to define two variables **outside** of the for loop, for instance:\n",
    "```\n",
    "max_price = 0\n",
    "most_expensive_textbook = {}\n",
    "```\n",
    "2. **Inside** the for loop -- or the inner for loop, if you're working with the textbook data -- you may want to use an {term}`if statement` to compare the current value to the maximum value you've seen so far, and to update the latter accordingly. \n",
    "3. You need to decide how to handle situations where there is more than one data element satisfying the maximum/minimum criterion. One option is to define the variable `most_expensive_textbook` (or `longest_name`) **as a list**, and then to use the list's **append()** method to add a new element to it whenever one satisfies the criterion.\n",
    "\n",
    "````"
   ]
  },
  {
   "cell_type": "markdown",
   "metadata": {},
   "source": [
    "### III.3 Restructuring Data\n",
    "\n",
    "When working with data, sometimes we're not trying to find a single answer, like the average price of textbooks or the most expensive textbook. Rather, we want to transform our dataset to make it more useful in answering multiple questions.\n",
    "\n",
    "In building your team dataset and analyzing the bookstore dataset, you've worked with lists of dictionaries, which is a fairly common data structure you'll encounter in Python (and other languages). It's probably the most intuitive way, for instance, to represent data from a spreadsheet or other tabular format.\n",
    "\n",
    "The only problem with a list in Python is that as the list grows longer, finding individual elements becomes less efficient. In such cases, it might be more useful to store the data in a dictionary. Even in a **dictionary of dictionaries**, if your data happens to be nested!"
   ]
  },
  {
   "cell_type": "markdown",
   "metadata": {},
   "source": [
    "````{admonition} Try it out!\n",
    ":class: try-it-out\n",
    "\n",
    "**Less challenging**\n",
    "\n",
    "Convert the team dataset into a Python dictionary, where each {term}`key` is the team member's name, and the associated {term}`value` is the information you've collected about that team member.\n",
    "\n",
    "**More challenging**\n",
    "\n",
    "Imagine that you're managing the bookstore's data, and you get a request from GW Libraries for a dataset they can use to look up books by ISBN. (The [ISBN](https://en.wikipedia.org/wiki/ISBN) is the _International Standard Book Number_; most commercially books published today have an ISBN, which serves as the book's unique identifier.)\n",
    "\n",
    "Create a Python dictionary out of all the textbooks in the bookstore dataset, where the keys are ISBN's, and the values contain the information about each book. If a book lacks an ISBN, you can leave it out of the dicionary.\n",
    "````"
   ]
  },
  {
   "cell_type": "code",
   "execution_count": 23,
   "metadata": {},
   "outputs": [],
   "source": [
    "# Your code here"
   ]
  },
  {
   "cell_type": "markdown",
   "metadata": {},
   "source": [
    "````{hint}\n",
    "\n",
    "To visualize the transformation of the team dataset, the following visual model might be useful:\n",
    "\n",
    "```{image} https://gwu-libraries.github.io/python-camp/img/list-to-dict.png\n",
    ":alt: Diagram with two larger boxes, with three smaller nested inside each. Each smaller box contains labels and information asosciated with each label. The smaller nested boxes are labeled with numbers (0, 1, 2) in the first larger box, representing items in a list, and are labeled with names (Alex, Max, Josh) in the second, representing a dictionary. A large red arrow is pointing from the list box to the dictioanry box\n",
    ":width: 250px\n",
    ":align: center\n",
    "```\n",
    "\n",
    "You can accomplish this with a single for loop. For the bookstore dataset, the procedure is similar, but you will need to use a nested for loop (because textbooks are nested under courses).\n",
    "\n",
    "````"
   ]
  },
  {
   "cell_type": "markdown",
   "metadata": {},
   "source": [
    "Once you have created your new, dictionary-based dataset, you should be able to use it look up items by their identifier. \n",
    "\n",
    "For instance, if `my_team_dict` is a dictionary of information about your team, you should be able to write `my_team_dict[\"Alex\"]` to call up the information about a team member named Alex.\n",
    "\n",
    "And if `isbn_text_dict` is a dictionary of textbooks stored by ISBN, you should be able to enter something like `isbn_text_dict[\"9782370210371\"]` to retrieve the information about that particular book (_Regarde les Lumieres mon Amour_)."
   ]
  },
  {
   "cell_type": "markdown",
   "metadata": {},
   "source": [
    "### Wrap up\n",
    "\n",
    "Today you did the following:\n",
    "\n",
    "- Used Python dictionaries to store and update data about your team.\n",
    "- Used conditionals, for loops, and the \"counter\" pattern to answers basic questions about a dataset.\n",
    "- Transformed the structure of a dataset to facilitate a different kind of access.  \n",
    "\n",
    "In the homework tonight, you'll practice some techniques for troubleshooting code when errors arise.\n",
    "\n",
    "And tomorrow, for the final day of Python Camp, you'll work with your team to design and write some code from scratch to address a user story that your team comes up with."
   ]
  }
 ],
 "metadata": {
  "celltoolbar": "Tags",
  "kernelspec": {
   "display_name": "Python 3 (ipykernel)",
   "language": "python",
   "name": "python3"
  },
  "language_info": {
   "codemirror_mode": {
    "name": "ipython",
    "version": 3
   },
   "file_extension": ".py",
   "mimetype": "text/x-python",
   "name": "python",
   "nbconvert_exporter": "python",
   "pygments_lexer": "ipython3",
   "version": "3.11.4"
  }
 },
 "nbformat": 4,
 "nbformat_minor": 4
}
