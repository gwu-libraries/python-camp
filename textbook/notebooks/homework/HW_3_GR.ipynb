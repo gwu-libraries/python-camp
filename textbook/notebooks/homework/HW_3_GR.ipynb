{
 "cells": [
  {
   "cell_type": "markdown",
   "metadata": {},
   "source": [
    "# Graded Homework: Day 3\n",
    "\n",
    "This homework should be completed after the [Error Stories](https://gwu-libraries.github.io/python-camp/notebooks/homework/HW_3_error_stories.html) notebook.\n"
   ]
  },
  {
   "cell_type": "markdown",
   "metadata": {},
   "source": [
    "## Instructions\n",
    "\n",
    "Below you will find one or more exercises. For each exercise, do the following:\n",
    "\n",
    "1. Run the first code cell under the exercise heading. This will execute some code needed to set up the problem.\n",
    "2. Reading the instructions and write code in the code cell labeled with the comment `Your code here`. Run this code.\n",
    "3. Assuming your code does not produce any errors, run the code in the cell below the `Tests` heading. Each line of this code consists of a Python {term}`assert statement`. \n",
    "   - If you see an `AssertionError`, don't panic! The error is written so as to help you pinpoint the part of your code that's not working as expected. After making a change in your code, re-run **both** the cell with your code and the cell with the tests. Repeat until you see no errors.\n",
    "   - If you run the cell with the test code and you see no output, congratulations! That means that your code has passed all the tests and works as expected. Go to step 4 to submit.\n",
    "4. Submit your code by downloading this notebook from JupyterHub and uploading it to the GitHub repository for this assignment. See [the documentation](https://gwu-libraries.github.io/python-camp/homework.html) for detailed instructions."
   ]
  },
  {
   "cell_type": "markdown",
   "metadata": {},
   "source": [
    "## Exercise 1\n",
    "\n",
    "The following sample contains metadata about some course texts."
   ]
  },
  {
   "cell_type": "code",
   "execution_count": 1,
   "metadata": {
    "editable": true,
    "slideshow": {
     "slide_type": ""
    },
    "tags": [
     "setup:ex1"
    ]
   },
   "outputs": [],
   "source": [
    "books = [{'title': 'Crack-Up Capitalism', 'isbn': '9781250753892', 'price': '$29.99'},\n",
    " {'title': 'Crack-Up Capitalism', 'isbn': '9781250753892', 'price': '$22.50'},\n",
    " {'title': 'Loaded', 'isbn': '9780872867239', 'price': '$16.95'},\n",
    " {'title': 'Loaded', 'isbn': '9780872867239', 'price': '$12.71'},\n",
    " {'title': 'Loaded', 'isbn': '9780872867239', 'price': '$12.75'},\n",
    " {'title': \"Handmaid's Tale\", 'isbn': '9780385490818', 'price': '$17.00'},\n",
    " {'title': \"Handmaid's Tale\", 'isbn': '9780385490818', 'price': '$12.75'},\n",
    " {'title': \"Handmaid's Tale\", 'isbn': '9780385490818', 'price': '$7.48'},\n",
    " {'title': \"Handmaid's Tale\", 'isbn': '9780385490818', 'price': '$12.75'},\n",
    " {'title': \"Billy Lynn's Long Halftime Walk\", 'isbn': '9780060885618', 'price': '$16.99'}]"
   ]
  },
  {
   "cell_type": "markdown",
   "metadata": {},
   "source": [
    "The following function, `create_isbn_dict`, converts a list like the above to a dictionary, according to the following requirements:\n",
    "\n",
    "- The dictionary should associate each ISBN with the price of the text.\n",
    "- When duplicate ISBNs exist, the function should assign the lowest price to the ISBN.\n",
    "- The function should return the dictionary of ISBNs & prices.\n",
    "\n",
    "The function is currently failing a couple of tests. Can you fix the code so that it passes the tests?"
   ]
  },
  {
   "cell_type": "code",
   "execution_count": 2,
   "metadata": {
    "editable": true,
    "slideshow": {
     "slide_type": ""
    },
    "tags": [
     "solution:ex1"
    ]
   },
   "outputs": [],
   "source": [
    "# Your code here\n",
    "def create_isbn_dict(book_list):\n",
    "    isbn_dict = {}\n",
    "    for book in book_list:\n",
    "        isbn = book['isbn']\n",
    "        price = book['price']\n",
    "        if (isbn not in isbn_dict) or (isbn_dict[isbn] > price):\n",
    "            isbn_dict[isbn] = price"
   ]
  },
  {
   "cell_type": "markdown",
   "metadata": {},
   "source": [
    "Run the following cell to see which tests the `create_isbn_dict` function is failing. Your work is complete when all tests pass (do not produce any errors)."
   ]
  },
  {
   "cell_type": "code",
   "execution_count": null,
   "metadata": {
    "editable": true,
    "slideshow": {
     "slide_type": ""
    },
    "tags": [
     "test-case:ex1"
    ]
   },
   "outputs": [],
   "source": [
    "# Tests\n",
    "test_phrase = 'Testing: create_isbn_dict'\n",
    "print(test_phrase, 'is a function')\n",
    "assert callable(create_isbn_dict), 'create_isbn_dict is not a function'\n",
    "print(test_phrase, 'returns a dictionary')\n",
    "assert isinstance(create_isbn_dict(books), dict), 'create_isbn_dict should return a dictionary.'\n",
    "print(test_phrase, 'contains specific key') \n",
    "assert '9781250753892' in create_isbn_dict(books), '9781250753892 missing from returned dictionary.'\n",
    "print(test_phrase, 'uses floats for values')\n",
    "assert isinstance(create_isbn_dict(books)['9780385490818'], float), 'Dictionary values should be floats.'\n",
    "print(test_phrase, 'assigns lowest value for each key')\n",
    "assert create_isbn_dict(books)['9780385490818'] == 7.48, 'ISBN 9780385490818 should correspond to 7.48.'"
   ]
  },
  {
   "cell_type": "markdown",
   "metadata": {},
   "source": [
    "## Exercise 2\n",
    "\n",
    "The following code creates another sample, similar to the `books` variable above."
   ]
  },
  {
   "cell_type": "code",
   "execution_count": null,
   "metadata": {
    "editable": true,
    "slideshow": {
     "slide_type": ""
    },
    "tags": [
     "setup:ex2"
    ]
   },
   "outputs": [],
   "source": [
    "more_books = [{'title': 'Critical Social Theories & Education',\n",
    "  'isbn': '9781594518577',\n",
    "  'price': '$127.50'},\n",
    " {'title': 'Critical Approaches to the Study of Higher Education',\n",
    "  'isbn': '9781421416663',\n",
    "  'price': '$34.75'},\n",
    " {'title': 'Rethinking College Student Development Theory Using Critical Frameworks',\n",
    "  'isbn': '9781620367667',\n",
    "  'price': '$36.95'},\n",
    " {'title': 'Critical Theory and Qualitative Data Analysis in Education',\n",
    "  'isbn': '9781351657846',\n",
    "  'price': '$56.95'},\n",
    " {'title': 'Rethinking College Student Development Theory Using Critical Frameworks',\n",
    "  'price': '$39.95'}]"
   ]
  },
  {
   "cell_type": "markdown",
   "metadata": {},
   "source": [
    "However, if you run `create_isbn_dict` on `more_books` -- assuming you have fixed it to satisfy the tests in exercise 1 -- you will see a `KeyError`. Try it below."
   ]
  },
  {
   "cell_type": "code",
   "execution_count": null,
   "metadata": {
    "editable": true,
    "slideshow": {
     "slide_type": ""
    },
    "tags": []
   },
   "outputs": [],
   "source": [
    "create_isbn_dict(more_books)"
   ]
  },
  {
   "cell_type": "markdown",
   "metadata": {},
   "source": [
    "Your task now: modify `create_isbn_dict` so that it works on `more_books` as well as `books`. Enter your new version of the function in the cell below. "
   ]
  },
  {
   "cell_type": "markdown",
   "metadata": {},
   "source": [
    "````{hint}\n",
    "For books without an ISBN, the function should simply skip them. \n",
    "````"
   ]
  },
  {
   "cell_type": "code",
   "execution_count": null,
   "metadata": {
    "editable": true,
    "slideshow": {
     "slide_type": ""
    },
    "tags": [
     "solution:ex2"
    ]
   },
   "outputs": [],
   "source": [
    "# Your code here"
   ]
  },
  {
   "cell_type": "markdown",
   "metadata": {},
   "source": [
    "You can run the following test cell to confirm that your new code works with both kinds of data."
   ]
  },
  {
   "cell_type": "code",
   "execution_count": null,
   "metadata": {
    "tags": [
     "test-case:ex2"
    ]
   },
   "outputs": [],
   "source": [
    "test_phrase = 'Testing: create_isbn_dict'\n",
    "print(test_phrase, 'handles missing data')\n",
    "assert create_isbn_dict([{'title': 'Test', \n",
    "                          'price': '39.99'},\n",
    "                         {'title': 'Test2', \n",
    "                          'isbn': '9782441757935', \n",
    "                          'price': '$19.99'}]) == {'9782441757935': 19.99}, 'Should return dictionary with one element.'"
   ]
  }
 ],
 "metadata": {
  "celltoolbar": "Tags",
  "kernelspec": {
   "display_name": "Python 3 (ipykernel)",
   "language": "python",
   "name": "python3"
  },
  "language_info": {
   "codemirror_mode": {
    "name": "ipython",
    "version": 3
   },
   "file_extension": ".py",
   "mimetype": "text/x-python",
   "name": "python",
   "nbconvert_exporter": "python",
   "pygments_lexer": "ipython3",
   "version": "3.11.4"
  }
 },
 "nbformat": 4,
 "nbformat_minor": 4
}
