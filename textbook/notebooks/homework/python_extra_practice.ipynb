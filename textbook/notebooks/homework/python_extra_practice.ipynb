{
 "cells": [
  {
   "cell_type": "markdown",
   "id": "9a9d9cf8-4732-465f-a155-1a7087357d16",
   "metadata": {},
   "source": [
    "# Extra Practice for Python Camp"
   ]
  },
  {
   "cell_type": "markdown",
   "id": "7ac51098-e0fe-481a-a388-525da12ea7c1",
   "metadata": {},
   "source": [
    "## Agenda & Instructions\n",
    "\n",
    "This notebook provides a series of exercises designed as extra practice for the material covered in the daily lessons and the homework. You are by no means required to work through these exercises, but doing so may prove helpful in a couple of situations:\n",
    "\n",
    "- If you want to review a particular concept in order to solidify your understanding.\n",
    "- If you want to build more \"muscle memory\" by writing code beyond the opportunities provided by the group activities and homework.\n",
    "\n",
    "The exercises below are arranged by concept, largely following the order in which the concepts were presented in the course materials. The code in each section is self-contained, so feel free to jump around and/or pick only certain sections to do. \n",
    "\n",
    "Answers to the challenges in each section are provided in a collapsed (Solution) cell at the bottom of the section."
   ]
  },
  {
   "cell_type": "markdown",
   "id": "549bc440-e061-4f46-b8e0-849bc9affa4d",
   "metadata": {},
   "source": [
    "````{admonition} How to Use this Notebook\n",
    ":class: how-to\n",
    "\n",
    "1. Read the documentation above each cell containing code and run the cell (`Ctrl+Enter` or `Cmd+Return`) to view the output.\n",
    "\n",
    "\n",
    "2. Follow the prompts labeled `Try it out!` that ask you to write your own code in the provided blank cells.\n",
    "\n",
    "\n",
    "3. (Hidden) solutions to these exercises follow the blank cells; click the toggle bar to expand the solution to compare with your approach.\n",
    "\n",
    "\n",
    "4. Some prompts include alternative exercises (Parsons Problems) that will be linked from the prompt. These alternatives may help clarify concepts (especially if you find yourself struggling to keep up with all the syntax).\n",
    "\n",
    "\n",
    "5. Optional annotations (labeled `For the curious...`) provide additional explanation and/or context for those who want them. Feel free to skip these sections if you like. As a beginner, it's important to maintain a balanced cognitive load: taking in too much information all at once can impede your progress toward understanding. This balance looks different for everyone, but we have tried to keep the main content focused on a few key concepts, tools, and techniques, while providing that additional context for those who might benefit from it.\n",
    "\n",
    "````"
   ]
  },
  {
   "cell_type": "markdown",
   "id": "24a0cc82-273d-4803-81ec-4897430729c9",
   "metadata": {},
   "source": [
    "## Integers, floats & strings"
   ]
  },
  {
   "cell_type": "markdown",
   "id": "1f3ba6d8-da58-4f81-a257-f2c5f1afbca5",
   "metadata": {},
   "source": [
    "Li X. is a graduate student working in a bioinformatics lab, and he is learning how to process protein and DNA sequences using Python. His first task is to compute the lengths of various sequences, three examples of which are given below. Write some code to compute the length of each of these sequences."
   ]
  },
  {
   "cell_type": "code",
   "execution_count": 1,
   "id": "6ebc5c98-a395-4f6a-93c0-e8e927edc359",
   "metadata": {},
   "outputs": [],
   "source": [
    "seq1 = \"LYLIFGAWAGMVGTALSLLIRAELGQPGTLLGDDQIYNVIVTAHAFVMIFFMVMPIMIGGFGNWLVPLMIGAPDMAFPRMNNMSFWLLPPSFLLLLASSTVEAGAGTGWTVYPPLAGNLAHAGASVDLAIFSLHLAGVSSILGAINFITTAINMKPPTLSQYQTPLFVWSVLITAVLLLLSLPVLAAGITMLLTDRNLNTTFFDPAGGGDPVLYQHLFWFFGHPEVYILIL\"\n",
    "seq2 = \"VGTALXLLIRAELXQPGALLGDDQIYNVVVTAHAFVMIFFMVMPIMIGGFGNWLVPLMIGAPDMAFPRMNNMSFWLLPPSFLLLMASSTVEAGAGTGWTVYPPLAGNLAHAGASVDLAIFSLHLAGISSILGAINFITTAINMKPPALSQYQTPLFVWSVLITAVLLLLSLPVLAAGITMLLTDRNLNTTFFDPAGGGDPVLYQHLFWFFGHPEVYILIL\"\n",
    "seq3 = \"WAGMVGTALSLLIRAELGQPGALLGDDQIYNVVXTAHAFVMIFFMVMPIMIGGFGNWLVPLMIGAPDMAFPRMNNMSFWLLPPSFLLLMASSTVEAGVGTGWTVYPPLAGNLAHAGASVDLAIFSLHLAGISSILGAINFITTAINMKPPALSQYQTPLFVWSVLITAVLLLLSLPVLAAGITMLLTDRNLNTTFFDPAGGGDPVLYQHLFWFFGHPEVYILIL\""
   ]
  },
  {
   "cell_type": "code",
   "execution_count": 6,
   "id": "b6e7c60e-3122-41a1-92ce-0069ea30a1dd",
   "metadata": {},
   "outputs": [],
   "source": [
    "#Your code here"
   ]
  },
  {
   "cell_type": "markdown",
   "id": "c599a8ff-eb6d-4e46-916e-a254592b32d2",
   "metadata": {},
   "source": [
    "Now Li needs to find the average length of a collection of sequences, `seq1` through `seq3` above, in addition to the following two sequences. Write some code to find the average length of all five sequences."
   ]
  },
  {
   "cell_type": "code",
   "execution_count": 2,
   "id": "c2e786d6-c6a5-4334-bd2d-fcf398dd114c",
   "metadata": {},
   "outputs": [],
   "source": [
    "seq4 = \"VGTALSLLIRAELGQPGTLLGDDQIYNVIVTAHAFVMIFFMVMPVMIGGFGNWLVPLMIGAPDMAFPRMNNMSFWLLPPSFLLLLASSTVEAGAGTGWTVYPPLAGNLAHAGASVDLAIFSLHLAGVSSILGAINFITTAINMKPPALSQYQTPLFVWSVLITAVLLLLSLPVLAAGITMLLTDRNLNTTFFDPAGGGDPVLYQHLFWFFGHPEVYILIL\"\n",
    "seq5 = \"LYLIFGAWAGMVGTALSLLIRAELGQPGALLGDDQVYNVVVTAHAFVMIFFMVMPIMIGGFGNWLVPLMIGAPDMAFPRMNNMSFWLLPPSFLLLLASSTVEAGVGTGWTVYPPLAGNLAHAGASVDLAIFSLHLAGISSILGAINFITTAINMKPPALSQYQTPLFVWSVLITAVLLLLSLPVLAAGITMLLTDRNLNTTFFDPAGGGDPVLYQHLFWFFGHPEVYILIX\""
   ]
  },
  {
   "cell_type": "code",
   "execution_count": 8,
   "id": "da583b2c-db0a-4b65-86b3-01d1889b328d",
   "metadata": {},
   "outputs": [],
   "source": [
    "#Your code here"
   ]
  },
  {
   "cell_type": "markdown",
   "id": "555d4075-5b5d-44a2-ad3e-6d2187539d97",
   "metadata": {},
   "source": [
    "The lab director is pleased with Li's progress and gives him another task. The lab is trying out some new software, and this software requires that each sequence used as input be prefixed with a number representing the length of the sequence, followed by a space. So for `seq1` above, the input would look as follows (the sequence has been abbreviated for display purposes):\n",
    "```\n",
    "231 LYLIFGAWAGMVGTALSLL....\n",
    "```\n",
    "Write some code to add the sequence length (and a space) to the beginning of each of the sequences given above."
   ]
  },
  {
   "cell_type": "code",
   "execution_count": 12,
   "id": "441edd6c-758b-4d72-a365-1f0c9868b4ca",
   "metadata": {},
   "outputs": [],
   "source": [
    "#Your code here"
   ]
  },
  {
   "cell_type": "markdown",
   "id": "2a50c9f8-9b06-4033-a041-9fbf91fb248a",
   "metadata": {},
   "source": [
    "So far Li really likes working with Python; he can see how it will make his work in the lab a lot more efficient. One thing that confuses him, however, is that whole numbers in Python are represented sometimes as one-place decimals, e.g., `30.0`, and sometimes without the decimal part, e.g., `30`. Surely Python isn't being arbitary? Comparing the output of the following two lines of code, what can you tell about the kinds of situations in which the decimal part appears when dealing with whole numbers? "
   ]
  },
  {
   "cell_type": "code",
   "execution_count": null,
   "id": "7a1203b1-4407-448f-88ca-02acbf451298",
   "metadata": {},
   "outputs": [],
   "source": [
    "len(seq1)"
   ]
  },
  {
   "cell_type": "code",
   "execution_count": null,
   "id": "aad04633-ac2b-4822-95b7-fbda41257a1b",
   "metadata": {},
   "outputs": [],
   "source": [
    "len(seq2) / 10"
   ]
  },
  {
   "cell_type": "markdown",
   "id": "d484cd44-1544-4149-b703-64febf864b1e",
   "metadata": {},
   "source": [
    "````{admonition} Solutions\n",
    ":class: dropdown\n",
    "\n",
    "**Finding the length of strings**\n",
    "\n",
    "Li's sequences are represented as Python {term}`string`s -- we can tell because each sequence is surrounded by quotation marks (`\"\"`). In Python, a string has a length, which we can find by using the built-in `len()` {term}`function`. To find the length of the string represented by the variable `seq1`, we write\n",
    "```\n",
    "len(seq1)\n",
    "```\n",
    "\n",
    "To find the average of all five sequences, we add up the lengths of each sequence and divide by the total number of sequences (5). Note the use of parentheses in the code below, which ensures that the addition happens before the division. (Python's order of operations is similar to what you'd expect from a calculator.)\n",
    "```\n",
    "avg_length = (len(seq1) + len(seq2) + len(seq3) + len(seq4) + len(seq5)) / 5\n",
    "```\n",
    "\n",
    "**Concatenating strings**\n",
    "\n",
    "To prefix the length of the sequence to the sequence itself, we need to make a new string. In Python, we can join two strings together -- called concatenation -- by using the `+` operator. Note that in the context of strings, the `+` does not do numeric addition, it does concatenation. In other words,  `1 + 2` produces `3` (addition), but `\"1\" + \"2\"` produces `\"12\"` (concatenation), because the quotation marks around the digits in the second example tell Python to treat them as strings, not numbers.\n",
    "\n",
    "As a result, the following code will produce a `TypeError`:\n",
    "\n",
    "```\n",
    "new_seq1 = len(seq1) + seq1\n",
    "```\n",
    "Here we asked Python to \"add\" an integer (the result of `len(seq1)`) to a string (the value of `seq1`), which is an undefined operation in Python. To remedy the error, we need to make sure that the values on both sides of the plus sign are strings. We can use the built-in `str()` function to convert the integer result of `len()` to a string. While we're at it, we also concatenate a single space (between quotation marks) as required in the instructions:\n",
    "```\n",
    "new_seq1 = str(len(seq1)) + \" \" + seq1\n",
    "```\n",
    "\n",
    "**Floats vs. integers**\n",
    "\n",
    "- `len(seq1)` returns `231` (no decimal part) because the `len()` function is defined always to return a value of type {term}`integer`. That makes sense; nothing in Python that has a length (e.g., a string, a list) is ever going to have a fractional length. \n",
    "- `len(seq2) / 10` returns `22.0`, which is mathematically a whole number, but here it is given a one-place decimal representation because division in Python (the `/` operator) is defined always to return a value of type {term}`float`. Division returns a float even in cases where the result _could be_ represented as an integer (as in this case). Python behaves this way in order to provide consistency: as a programmer, you can rely on the division operator always to return the same data type. Generally speaking, integers and floats in Python are interoperable, meaning that you can mix both freely in most types of calculation. \n",
    "- If for some reason you need to convert a float to an integer, you can use the `int()` function: e.g. `int(len(seq2) / 10)` returns `22` (no decimal part). \n",
    "\n",
    "````"
   ]
  },
  {
   "cell_type": "markdown",
   "id": "d0c0afd2-4b24-4ebe-bb78-9876885e5e47",
   "metadata": {},
   "source": [
    "## Working with strings (1)\n",
    "\n",
    "Alia M. is a social scientist working with data on residential housing patterns. She has a large datafile of residential properties in the United States, consisting of street addresses and some information about the type of housing at each address. For each row in the datafile, the first part consists of a {term}`string` that represents the property's street address, including city, state abbreviation, and zip code. The address is preceded by a seven-digit unique identifier. One such string is given below."
   ]
  },
  {
   "cell_type": "code",
   "execution_count": 1,
   "id": "4314de08-b2db-4c35-931f-eb55ad7941d8",
   "metadata": {},
   "outputs": [],
   "source": [
    "address1 = \"AGF5670 2123 N. 3rd St., St. Cloud, MN 56301\""
   ]
  },
  {
   "cell_type": "markdown",
   "id": "0897d0af-71ff-48ad-986a-77f06ce2282f",
   "metadata": {},
   "source": [
    "Alia's first task is to extract the unique identifier (`AGF5670` in the example above) from each string. How can she use a string {term}`slice` to accomplish this task? Write some code that extracts the identifier from the string stored in the `address1` variable."
   ]
  },
  {
   "cell_type": "code",
   "execution_count": 2,
   "id": "ed872695-987a-4225-a1cb-82e3bf393235",
   "metadata": {},
   "outputs": [],
   "source": [
    "#Your code here"
   ]
  },
  {
   "cell_type": "markdown",
   "id": "0d95f3ad-b3cc-40a8-87a6-3fb848fc840d",
   "metadata": {},
   "source": [
    "Next Alia would like to extract the five-digit zip code from the address string. (The zip code is `56301` in the example provided.) What code can she use to do that? (Assume that all zip codes in the datafile consist of five digits.) "
   ]
  },
  {
   "cell_type": "code",
   "execution_count": 3,
   "id": "40d331d6-3821-4029-b814-93e305896fb8",
   "metadata": {},
   "outputs": [],
   "source": [
    "#Your code here"
   ]
  },
  {
   "cell_type": "markdown",
   "id": "8aa6432c-a698-41b7-991e-6b07d1c65abe",
   "metadata": {},
   "source": [
    "Great work! This code is really going to make Alia's life easier -- no more manual data entry for her! The next challenge, as you might guess, is to extract the US postal code for the state. Assume that the addresses in this datafile all have a two-letter abbreviation (`MN`, for Minnesota, in the example above)."
   ]
  },
  {
   "cell_type": "code",
   "execution_count": 4,
   "id": "d532e424-3a07-418a-9575-47f5401d12f6",
   "metadata": {},
   "outputs": [],
   "source": [
    "#Your code here"
   ]
  },
  {
   "cell_type": "markdown",
   "id": "18f7882b-5e00-4875-b828-4be59b1b4289",
   "metadata": {},
   "source": [
    "Finally, Alia needs to extract the street address itself, together with the city name: e.g., `2123 N. 3rd St., St. Cloud`. The length of this portion of the address varies throughout the datafile, so ideally, your code would work for any string fitting the above pattern, regardless of length."
   ]
  },
  {
   "cell_type": "code",
   "execution_count": 5,
   "id": "d787cc2f-3180-43be-bb78-80a9387035c7",
   "metadata": {},
   "outputs": [],
   "source": [
    "#Your code here"
   ]
  },
  {
   "cell_type": "markdown",
   "id": "2f27e754-4464-4149-9822-c4e26b1449ca",
   "metadata": {},
   "source": [
    "To make sure your code works properly on addresses of different lengths, try extracting the different parts of `address2` below."
   ]
  },
  {
   "cell_type": "code",
   "execution_count": 2,
   "id": "9b186a87-dbcb-4e26-b468-08aa1a2e2801",
   "metadata": {},
   "outputs": [],
   "source": [
    "address2 = \"WGA9753 412 Mockingbird Lane, Crowley, LA 70506\""
   ]
  },
  {
   "cell_type": "code",
   "execution_count": null,
   "id": "c15f553b-3bab-4c74-8962-8e4fccc5d0a6",
   "metadata": {},
   "outputs": [],
   "source": [
    "#Your code here"
   ]
  },
  {
   "cell_type": "markdown",
   "id": "b2110339-4266-445b-a934-25611fbb120e",
   "metadata": {},
   "source": [
    "````{admonition} Solutions\n",
    ":class: dropdown\n",
    "\n",
    "There are other ways to accomplish Alia's tasks, but all of the above can be done using slicing. How can we determine that? Looking at the example given, and assuming that the rest of the datafile is consistent, we have the following pattern:\n",
    "\n",
    "$$\n",
    "\\underbrace{\\text{AGF5670}}_\\text{7}\\text{ 2123 N. 3rd St., St. Cloud, }\\underbrace{\\text{MN}}_\\text{2}\\text{ }\\underbrace{\\text{56301}}_\\text{5}\n",
    "$$\n",
    "\n",
    "Alia wants to subdivide the string into four elements, three of which have a fixed length: the identifier, the state abbreviation, and the zip code. Only the street address and city are variable, and if we treat the latter as a single element, we can construct slices for all four elements using what we know about the lengths of the first three, together with negative indexing.\n",
    "\n",
    "The table below shows the lengths of each element along with the indices for slicing (taking into account the white space between identifier, address, state, and zip code):\n",
    "\n",
    "|Element|Length|Slice From|Slice To|Slice Value|\n",
    "|-|-|-|-|-|\n",
    "|identifier|7 characters|0|7|`\"AGF5670\"`|\n",
    "|street address & city|varies|8|-9|`\"2123 N. 3rd St., St. Cloud,\"`|\n",
    "|state abbreviation|2 characters|-8|-6|`\"MN\"`|\n",
    "|zip code|5 characters|-5|-|`\"56301\"`|\n",
    "\n",
    "\n",
    "1. To extract the **identifier**, we write: `address1[0:7]` or `address1[:7]`. (These expressions are equivalent.)\n",
    "2. To extract the **zip code**, we count back five characters from the end, starting with `-1`, which yields `address1[-5:]`. Note that we leave off the second number in the slice (after the colon) because we want to take a slice _including_ the last character.\n",
    "3. To extract the **state abbreviation**, we count back again from the end to the `-8` position (the `M`) and add 2 to get our slice: `address1[-8:-6]`.\n",
    "4. To extract the remaining part of the address, we start from the second position _after_ the end of the 7-digit identifier (to account for the white space, which we don't want in our slice), and we take _up to_ (but _not_ including) the 9th character from the end (the space before the state code): `address1[8:-9]`. \n",
    "\n",
    "We could use slightly different code for step 4 in order to exclude the comma after the city name (`\"St. Cloud\"`), i.e., `address1[8:-10]`.\n",
    "\n",
    "**N.b.** We could have also accomplished these tasks using Python's `str.split()` method instead of slicing. See the next section for details.  \n",
    "\n",
    "````"
   ]
  },
  {
   "cell_type": "markdown",
   "id": "e0133f45-34b2-4136-8028-bf2c77c4ed62",
   "metadata": {},
   "source": [
    "## Working with strings (and lists)\n",
    "\n",
    "Social scientist Alia has some additional data points in her file that she wishes to extract. These data consist of two alphanumeric codes and a four-digit year. The first element indicates the type of dwelling, the second indicates whether the property is a rental or occupant-owned, and the third indicates the year in which the property was built. The following example shows the string for a single-family rental property built in 1986."
   ]
  },
  {
   "cell_type": "code",
   "execution_count": 19,
   "id": "cdcf2492-d285-4d0b-9d56-162a600e5e92",
   "metadata": {},
   "outputs": [],
   "source": [
    "address_info1 = \"SF,R,1986\""
   ]
  },
  {
   "cell_type": "markdown",
   "id": "929bca93-0dff-4e18-9321-89265bc5f850",
   "metadata": {},
   "source": [
    "Alia is feeling pretty confident about Python string slicing, so her first approach is to write three {term}`slice` expressions to extract the information between the commas in the string above. Can you write those expressions below, assigning each part of the string (without the commas) to a new variable?"
   ]
  },
  {
   "cell_type": "code",
   "execution_count": 20,
   "id": "18a4f2be-5226-422f-90a7-949984d021e2",
   "metadata": {},
   "outputs": [],
   "source": [
    "#Your code here"
   ]
  },
  {
   "cell_type": "markdown",
   "id": "c6686a8f-3dc7-4c9e-8181-250c15634c15",
   "metadata": {},
   "source": [
    "Alia is pleased with herself until she realizes that not all of the codes in the datafile are of the same length. The code in the first position can be either \"SF\" (single-family), \"MF\" (multi-family), or \"Mixed\" (for properties with a mix of residential and commercial spaces). Likewise, the second code can be either \"R\" (rental), \"O\" (owned), or \"n/a\" (a null value, used when the information was not available). \n",
    "\n",
    "Since two of the three elements in this string are of variable lengths, it's not easy to write slice expressions that will extract all three elements. Fortunately, Alia has learned about the [str.split()](https://docs.python.org/3.3/library/stdtypes.html#str.split) method. Write some code that will split the `address_info1` string into three parts, and assign each part to a new variable."
   ]
  },
  {
   "cell_type": "code",
   "execution_count": 21,
   "id": "e8b2b090-de9b-4464-9fc3-661f1c5d0916",
   "metadata": {},
   "outputs": [],
   "source": [
    "#Your code here"
   ]
  },
  {
   "cell_type": "markdown",
   "id": "c2c0b824-9028-4477-9608-a6fd1b2a7609",
   "metadata": {},
   "source": [
    "Now verify that your approach works for strings with elements of different lengths: `address_info2` and `address_info3` below."
   ]
  },
  {
   "cell_type": "code",
   "execution_count": 22,
   "id": "bcd35613-e831-40f5-90b8-34c0e588da03",
   "metadata": {},
   "outputs": [],
   "source": [
    "address_info2 =  \"MF,n/a,1996\""
   ]
  },
  {
   "cell_type": "code",
   "execution_count": 23,
   "id": "7ec959b6-507d-4f33-8077-500440f691ba",
   "metadata": {},
   "outputs": [],
   "source": [
    "#Your code here"
   ]
  },
  {
   "cell_type": "code",
   "execution_count": 24,
   "id": "d559e6c5-db77-49a1-a74b-ad5b069de2cd",
   "metadata": {},
   "outputs": [],
   "source": [
    "address_info3 = \"Multi,R,2007\""
   ]
  },
  {
   "cell_type": "code",
   "execution_count": 25,
   "id": "150807bd-c18f-47ec-bf74-8c89a09e8e08",
   "metadata": {},
   "outputs": [],
   "source": [
    "#Your code here"
   ]
  },
  {
   "cell_type": "markdown",
   "id": "d8145d8f-63d9-4cea-ac80-5bb45bb1af5c",
   "metadata": {},
   "source": [
    "\"That slice method is pretty cool!\" Alia thinks. She wonders whether it would be a good idea to split the address strings as well (see the introduction to [Working with Strings (1)](#working-with-strings-1)), instead of slicing them. \n",
    "\n",
    "Given the `address1` variable below, what happens if you split it on the {term}`white space`? Do you think this would be a good approach for separating out the elements of the string: the 7-digit identifier, the street address and city name (of variable length), the two-letter state abbreviation, and the five-digit zip code? Why or why not?"
   ]
  },
  {
   "cell_type": "code",
   "execution_count": 27,
   "id": "2b796a30-f773-4bed-b6db-1d9a8e22c2a7",
   "metadata": {},
   "outputs": [],
   "source": [
    "address1 = \"AGF5670 2123 N. 3rd St., St. Cloud, MN 56301\""
   ]
  },
  {
   "cell_type": "code",
   "execution_count": 29,
   "id": "ea821fb5-c111-4301-8676-532e3201aefd",
   "metadata": {},
   "outputs": [],
   "source": [
    "#Your code here"
   ]
  },
  {
   "cell_type": "markdown",
   "id": "c1bcbc37-7d4d-42d9-b5b4-0501421d3f05",
   "metadata": {},
   "source": [
    "Using the result of splitting `address1`, can you extract the identifier, state abbreviation, and zip code?"
   ]
  },
  {
   "cell_type": "code",
   "execution_count": 30,
   "id": "fd35170b-c6f0-4058-ae11-0833b6e5e55f",
   "metadata": {},
   "outputs": [],
   "source": [
    "#Your code here"
   ]
  },
  {
   "cell_type": "markdown",
   "id": "24e344ef-89eb-4677-8f4f-a0ab31fb303f",
   "metadata": {},
   "source": [
    "**Bonus** Now Alia is having trouble working with the street address and city name in the result of splitting `address1`. A colleague mentioned the [str.join()](https://docs.python.org/3.3/library/stdtypes.html#str.join) method, which does the inverse operation of `str.split()`. \n",
    "\n",
    "Can you use list slicing and the `join` method to produce a single string corresponding to the street address and city name in `address1`, starting from the result of splitting the latter?"
   ]
  },
  {
   "cell_type": "markdown",
   "id": "aad6d88f-6ed0-464e-a94d-389a7e7e38ef",
   "metadata": {},
   "source": [
    "````{admonition} Solutions\n",
    ":class: dropdown\n",
    "\n",
    "Since the three elements in the `address_info` strings are separated by commas, we can use the `str.split()` method with its optional first argument, `sep`. Note that the Python [documentation](https://docs.python.org/3.3/library/stdtypes.html#str.split) tells us the following:\n",
    "\n",
    "> If `sep` is not specified or is `None`, a different splitting algorithm is applied: runs of consecutive whitespace are regarded as a single separator, and the result will contain no empty strings at the start or end if the string has leading or trailing whitespace.\n",
    "\n",
    "In other words, if we write `address_info1.split()` with nothing between parentheses, the `sep` argument will be `None` by default, which means that the string will be split on {term}`white space`, with any number of consecutive spaces being treated as a single instance (a single separator). That's the default behavior, but we can modify this by providing a single argument to `split` for the separator, either with or without the argument name:\n",
    "\n",
    "```\n",
    "address_info1.split(\",\")\n",
    "```\n",
    "and \n",
    "```\n",
    "address_info1.split(sep=\",\")\n",
    "```\n",
    "work equally well, giving the {term}`list` `[\"SF\", \"R\", \"1986\"]` as the result.\n",
    "\n",
    "The same approach works also for `address_info2` and `address_info3`. In each case, we can access the individual elements by {term}`index`ing into the list returned by `split`:\n",
    "```\n",
    "result1 = address_info1.split(\",\")\n",
    "property_type1 = result1[0]\n",
    "rent_or_owned1 = result1[1]\n",
    "year_built1 = result1[2]\n",
    "```\n",
    "Assuming that the strings with this information always have _two and only two_ commas, the `split` method will always return a three-element list. \n",
    "\n",
    "We could take the same approach with the `address1` string (`\"AGF5670 2123 N. 3rd St., St. Cloud, MN 56301\"`), splitting this time on the whitespace (the default):\n",
    "```\n",
    "address_parts1 = address1.split()\n",
    "```\n",
    "Now `address_parts1` will be the following list: `['AGF5670', '2123', 'N.', '3rd', 'St.,', 'St.', 'Cloud,', 'MN', '56301']`\n",
    "\n",
    "Assuming the strings in Alia's datafile are consistently formed, we could extract the identifer, state abbreviation, and zip code as follows:\n",
    "```\n",
    "identifier1 = address_parts1[0]\n",
    "state_abbreviation1 = address_parts1[-2]\n",
    "zip_code1 = address_parts1[-1]\n",
    "```\n",
    "Extracting the street adddress and city proves more difficult, however. In our example, each part of the street address (`\"2123 N. 3rd St.,\"`) is separated by white space, as are the two parts of the city name (`\"St. Cloud,\"`). This situation poses two problems for using the `str.split()` method:\n",
    "  - It's not going to be terribly useful -- at least, not for Alia's purposes -- to treat the parts of the street address or city name as different elements. For instance, the \"N.\" and the \"St.\" in \"N. 3rd St.\" don't really mean anything on their own, and the same goes for \"St.\" and \"Cloud\" in \"St. Cloud.\" \n",
    "  - Different addresses and cities will involve different amounts of white space. Consider \"3150 Elm St.\" or \"Roanoke.\"\n",
    "\n",
    "To to extract the address/city name element from our original address string using split, we could take the following approach:\n",
    "\n",
    "1. Split the originl string on white space, producing a list.\n",
    "```\n",
    "address_parts1 = address1.split()\n",
    "```\n",
    "2. Take a slice _of the resulting list_ (not the original string) in order to get the elements between the first (the identifier) and the second-to-last (the state abbreviation).\n",
    "```\n",
    "street_address1 = address_parts1[1:-2]\n",
    "```\n",
    "3. Note that `street_address1` is also a list. (Slicing a string returns a string; slicing a list returns a list.) We can use this list with the `str.join` method, which takes as its argument a list and returns a string that consists of each element in the list separated by whatever string the method is called on. The following code creates a new string out of the street address/city name elements by gluing them together (so to speak) with white space:\n",
    "```\n",
    "street_and_city1 = \" \".join(street_address1)\n",
    "```\n",
    "\n",
    "In this case, splitting isn't necessarily a better approach to Alia's first problem than slicing. But the larger point is that there are almost always more ways than one of solving a problem with Python. In this case, which approach you choose might come down to your preferences as a programmer. \n",
    "\n",
    "````"
   ]
  },
  {
   "cell_type": "markdown",
   "id": "bee23c80-5ec2-4392-b6c1-910ca46c423b",
   "metadata": {},
   "source": [
    "## Working with lists\n",
    "\n",
    "Priya J.'s office at the university has surveyed students about the need for additional resources and support for learning programming languages. Having recently learned about Python herself, Priya would like to use it to analyze the survey results. She has managed to load the survey data from a {term}`CSV` file using Python. Each row of the survey responses is a Python {term}`list`. \n",
    "\n",
    "One such list is shown below. The elements, in order from left to right, comprise the following data points:\n",
    "   - Respondent's email address\n",
    "   - Department code (of the respondent's major or field of study)\n",
    "   - Respondent's status (undergraduate or graduate student)\n",
    "   - Respondent's degree (BA, MA, PhD, etc.)\n",
    "   - Respondent's expected year of graduation\n",
    "   - A string representing one or more programming languages the respondent has studied, separated by commas\n",
    "   - Five numbers corresponding to Likert-scale responses to a series of questions (each response being a number between 1 and 10)  "
   ]
  },
  {
   "cell_type": "code",
   "execution_count": 9,
   "id": "dbb2040f-3729-4a25-b854-100c5df30c6d",
   "metadata": {},
   "outputs": [],
   "source": [
    "response1 = [\"george.washington@gwu.edu\", \"Engl\", \"UND\", \"BA\", 2025, \"Python,R\", 5, 6, 4, 7, 8]"
   ]
  },
  {
   "cell_type": "markdown",
   "id": "33fc6203-a7b7-47e0-aed6-aec4b3ceffc1",
   "metadata": {},
   "source": [
    "From Python Camp, Priya knows that she can use indexing to access individual elements in a list, but she's a little fuzzy on the details. Can you help her out? In the cells below, write some code to access the following elements:\n",
    "  - The respondent's email address\n",
    "  - The respondent's status (`\"UND\"` in the example provided)\n",
    "  - The respondent's expected year of graduation"
   ]
  },
  {
   "cell_type": "code",
   "execution_count": null,
   "id": "69b031bb-40fa-419a-919b-764ce1a43959",
   "metadata": {},
   "outputs": [],
   "source": [
    "#Your code here"
   ]
  },
  {
   "cell_type": "code",
   "execution_count": null,
   "id": "89da6fea-c79d-4a2f-bc45-740d14fe6c00",
   "metadata": {},
   "outputs": [],
   "source": [
    "#Your code here"
   ]
  },
  {
   "cell_type": "code",
   "execution_count": null,
   "id": "f639a34d-db34-43f2-800c-a2f1e529c087",
   "metadata": {},
   "outputs": [],
   "source": [
    "#Your code here"
   ]
  },
  {
   "cell_type": "markdown",
   "id": "0649613b-94a0-4623-aba5-23557f493ca6",
   "metadata": {},
   "source": [
    "Priya needs to perform some data cleanup on the responses, as well as a preliminary analysis. First, she wants to anonymize the results, replacing each email address with a unique, random identifier. The standard Python installation includes a handy library for generating such identifiers called [uuid](https://docs.python.org/3/library/uuid.html). In the following code, Priya imports the `uuid1()` function, which will generate a single identifier. "
   ]
  },
  {
   "cell_type": "code",
   "execution_count": 4,
   "id": "52acd4c8-1793-402b-90fb-4a30adce3768",
   "metadata": {},
   "outputs": [],
   "source": [
    "from uuid import uuid1"
   ]
  },
  {
   "cell_type": "markdown",
   "id": "7afb872e-3925-4482-bb48-d8917d7e64ee",
   "metadata": {},
   "source": [
    "In the cell below, write some code that assigns the result of calling the `uuid()` function to the _first_ position in the `response1` list, replacing the email address.\n",
    "\n",
    "If your code works as intended the `response1` list should look something like the following:\n",
    "```\n",
    "[UUID('ed603b16-a8c7-11ee-90be-ee5daa8b5d7a'), 'Engl', 'UND', 'BA', 2025, 'Python,R', 5, 6, 4, 7, 8]\n",
    "```"
   ]
  },
  {
   "cell_type": "code",
   "execution_count": 8,
   "id": "9aa1e5e6-2b21-46a0-ac29-9d52bca5f159",
   "metadata": {},
   "outputs": [],
   "source": [
    "#Your code here"
   ]
  },
  {
   "cell_type": "markdown",
   "id": "8035f36a-4c4f-474c-b6ce-fc0ef49724da",
   "metadata": {},
   "source": [
    "Priya notices that the values for the possible department codes (the second element in the `response1` list) were not coded consistently on the survey form. Some of them are given in uppercase (e.g., `\"Engl\"`), while some are given in title case (`\"CHEM\"`). To fix this problem, Priya decides to use the `str.upper()` method to convert every department code to uppercase. \n",
    "\n",
    "Write some code to replace the second element of the `response1` list, which is a string, with its uppercase version, using the `.upper()` method available on the string. (For example, if `dept1` is a variable holding a string, `dept1.upper()` will return a new string composed of converting the original string to uppercase.)"
   ]
  },
  {
   "cell_type": "code",
   "execution_count": 10,
   "id": "8256468b-ef0e-4c80-ab24-e1d3f34540ba",
   "metadata": {},
   "outputs": [],
   "source": [
    "#Your code here"
   ]
  },
  {
   "cell_type": "markdown",
   "id": "e268485e-dec0-429c-bfe4-5ee65f466961",
   "metadata": {},
   "source": [
    "Now onto some analysis. Priya would like compute the average of the five response scores (the last five elements of the list) and add this value to the end of the list. That way, each row of responses will contain its average score as its final element.\n",
    "\n",
    "Create a new variable, `average1`, and assign it to the average of the five scores in `response1`. Hint: Priya has learned about the [sum()](https://docs.python.org/3/library/functions.html#sum) function, which takes as its argument a list of numbers and returns their sum. To find the average score, divide the sum of scores by the number of scores (5). "
   ]
  },
  {
   "cell_type": "code",
   "execution_count": 11,
   "id": "92f2d1d1-0754-4b1f-84c3-2854144e11c4",
   "metadata": {},
   "outputs": [],
   "source": [
    "#Your code here"
   ]
  },
  {
   "cell_type": "markdown",
   "id": "926da080-2268-4482-ad28-51d96c5e1af3",
   "metadata": {},
   "source": [
    "**Bonus**. Now Priya needs to add the value in `average1` to the end of the list. She remembers learning about the `list.append()` method; when called with an argument on a Python list, `.append()` will add its argument to the end of the list. When Priya runs the following code, it produces no errors. \n",
    "```\n",
    "response1 = response1.append(average1)\n",
    "```\n",
    "But then when she runs `print(response1)`, instead of displaying her list with the average included, she gets `None`. What happened to her list? \n",
    "\n",
    "Can you tell what went wrong? How _should_ Priya append `average1` to the `response1` list?"
   ]
  },
  {
   "cell_type": "code",
   "execution_count": 17,
   "id": "072d81f1-0b72-4743-885f-018bde27971c",
   "metadata": {},
   "outputs": [],
   "source": [
    "#Your code here"
   ]
  },
  {
   "cell_type": "markdown",
   "id": "514e990f-6e9f-4f21-b53f-410feea3260c",
   "metadata": {},
   "source": [
    "````{admonition} Solutions\n",
    ":class: dropdown\n",
    "\n",
    "**List indices**\n",
    "\n",
    "We can use the following code to access the values in the 1st, 3rd, and 5th positions in the `response1` list. Remember that in Python, indexing starts at `0`, not `1`.\n",
    "```\n",
    "email1 = response1[0]\n",
    "status1 = response1[2]\n",
    "grad_year1 = response1[4]\n",
    "```\n",
    "\n",
    "**Replacing an element in a list**\n",
    "\n",
    "To replace the the email address with a random indentifier, we can use indexing, too. The code below replaces whatever is in the 1st position with the result of calling the function `uuid1()`:\n",
    "```\n",
    "response1[0] = uuid1()\n",
    "```\n",
    "\n",
    "The same logic holds for replacing the department code (position 2) with its uppercase variant. Note that we can call the `str.upper()` method directly on `response1[1]` because we know that the expression `response1[1]` will return a value of type string (`str`), and every string in Python has access to the `.upper()` method.\n",
    "```\n",
    "response1[1] = response1[1].upper()\n",
    "```\n",
    "\n",
    "**Slicing a list**\n",
    "\n",
    "The most efficient way to sum over the five scores in the `response1` list is to access the scores with a {term}`slice`. Slicing works for lists as well as strings; just as the slice of a string returns a string, the slice of a list returns a list. We can even use negative indexing. The slice syntax `[-5:]` means \"starting with the 5th element from the end, return the elements up to **and including** the last element in the list.\"\n",
    "```\n",
    "average1 = sum(response1[-5:]) / 5\n",
    "```\n",
    "\n",
    "**Appending to a list**\n",
    "\n",
    "Priya's confusion stems from the fact that strings and lists, while both {term}`collection`s in Python, behave differently when using the methods associated with each. Whenever we modify a string in Python, **we get back a new string** (i.e., an entirely new sequence of characters in memory). \n",
    "\n",
    "So if the variable `dept1` holds a string, in order to make `dept1` uppercase, we have to assign the result of the `str.upper()` method back to the variable:\n",
    "```\n",
    "dept1 = dept1.upper()\n",
    "```\n",
    "Or if we're applying the method directly to a string in a list, we assign the result back to that element:\n",
    "```\n",
    "response1[1] = response1[1].upper()\n",
    "```\n",
    "\n",
    "Lists, on the other hand, **are modified in place** in Python. In other words, modifying a list -- e.g., by adding an element to the end -- will transform the original list in memory, instead of creating an entirely new list. (This is done to conserve memory; since Python lists can contain any combination of valid data types, they can get quite large, depending on the program, and it wouldn't be optimally efficient to have multiple copies of such lists sitting around in memory.) \n",
    "\n",
    "The upshot is that to append to the `response1` list, we use the following code, which calls the `.append()` method **without reassigning the result to the original list**. (Note the absence of the equals sign).\n",
    "```\n",
    "response1.append(average1)\n",
    "```\n",
    "\n",
    "````"
   ]
  },
  {
   "cell_type": "markdown",
   "id": "5b3a9929-749d-4d63-8f29-cf156a1dd6a9",
   "metadata": {},
   "source": [
    "## Working with dictionaries\n",
    "\n",
    "Priya has tried a different method of loading the survey responses from the CSV file, such that each row of responses is now a Python {term}`dictionary`. The following cell defines one such dictionary."
   ]
  },
  {
   "cell_type": "code",
   "execution_count": 22,
   "id": "ab93eb49-6ba9-42eb-82ba-e3b716bd72c8",
   "metadata": {},
   "outputs": [],
   "source": [
    "r1_dict = {\"email\": \"martha.washington@gwu.edu\", \n",
    "             \"department\": \"BISC\", \n",
    "             \"status\": \"GRAD\", \n",
    "             \"degree\": \"PhD\", \n",
    "             \"year\": 2028, \n",
    "             \"languages\": \"Python,R,C++\", \n",
    "             \"q1\": 3, \n",
    "             \"q2\": 4, \n",
    "             \"q3\": 6, \n",
    "             \"q4\": 2, \n",
    "             \"q5\": 3} "
   ]
  },
  {
   "cell_type": "markdown",
   "id": "9e4e728e-b053-45a5-8941-6f71687db9dc",
   "metadata": {},
   "source": [
    "In the cell below, write some code to access the values associated with the `\"degree\"`, `\"languages\"` and `\"q1\"` keys. Assign each value to a new variable."
   ]
  },
  {
   "cell_type": "code",
   "execution_count": 21,
   "id": "336ccf24-f511-4703-b198-3a6913873ee2",
   "metadata": {},
   "outputs": [],
   "source": [
    "#Your code here"
   ]
  },
  {
   "cell_type": "markdown",
   "id": "595076ea-9ac0-4d12-9270-f3761d3e17ed",
   "metadata": {},
   "source": [
    "The `\"languages\"` {term}`key` is associated with a string representing one or more languages studied by the respondent. (If the respondent has studied no programming languages, the string \"n/a\" is used as a null value.) When multiple languages are present, they are separated by commas. Priya would like to convert this string to a list. \n",
    "\n",
    "Write some code to `split()` the {term}`value` of the `\"languages\"` key in `r1_dict` on the commas, and assign the result back to the same key. "
   ]
  },
  {
   "cell_type": "code",
   "execution_count": 23,
   "id": "5fb4a22e-2b0d-449f-be05-0a393458d577",
   "metadata": {},
   "outputs": [],
   "source": [
    "#Your code here"
   ]
  },
  {
   "cell_type": "markdown",
   "id": "035e748a-3e72-4ed8-97af-58d0ffea72b9",
   "metadata": {},
   "source": [
    "Previously, Priya calculated the average of all five question scores and appended the result to the end of the list that represented the survey response. Since she's using a dictionary now, she can add the average as its own key.\n",
    "\n",
    "Write some code to calculate the average of the values associated with `\"q1\"` through `\"q5\"` and add that result to the `r1_dict` dictionary, using a key called `\"average_score\"`."
   ]
  },
  {
   "cell_type": "code",
   "execution_count": 24,
   "id": "2366ddb3-1675-4cc5-8bc6-d3e5f0933562",
   "metadata": {},
   "outputs": [],
   "source": [
    "#Your code here"
   ]
  },
  {
   "cell_type": "markdown",
   "id": "48f6724a-c3fa-4edc-8c20-1c328140e622",
   "metadata": {},
   "source": [
    "````{admonition} Solutions\n",
    ":class: dropdown\n",
    "\n",
    "**Accessing values by key**\n",
    "\n",
    "With lists we access individual elements by providing the index (as an integer) between square brackets (`[]`). Access to dictionary elements follows a similar pattern, except that the element between brackets is the dictionary key (usually, but not always, a string). \n",
    "\n",
    "To access the values for the `\"degree\"`, `\"languages\"` and `\"q1\"` keys, we can write the following. Note the use of quotation marks around the keys inside brackets: that is important, because the keys are strings.\n",
    "```\n",
    "degree1 = r1_dict[\"degree\"]\n",
    "languages1 = r1_dict[\"languages\"]\n",
    "q1_1 = r1_dict[\"q1\"]\n",
    "```\n",
    "**Updating values by keys**\n",
    "\n",
    "Updating works the same as access. Note that if we want to update the value associated with a key, we put the expression with the key on **the left side** of the equals sign.\n",
    "```\n",
    "l = r1_dict[\"languages\"].split(\",\")\n",
    "r1_dict[\"languages\"] = l\n",
    "```\n",
    "In the code above, the first line retrieves the value of the `\"languages\"` key, splits the string on the commas, and then assigns the result to the temporary variable `l`. We could also write this code in one line, as follows:\n",
    "```\n",
    "r1_dict[\"languages\"] = r1_dict[\"languages\"].split(\",\")\n",
    "```\n",
    "Conceptually, this code is similar to the code for reassigning a variable, e.g. `n = n + 1`.\n",
    "\n",
    "**Adding new keys and values**\n",
    "\n",
    "Adding a new key & value uses the same syntax as updating the value of an existing key. Because dictionaries do not have a syntax analogous to slicing a list, in order to calculate the average of the respondent's survey scores, we have to access each value separately:\n",
    "```\n",
    "average1 = (r1_dict[\"q1\"] + r1_dict[\"q2\"] + r1_dict[\"q3\"] + r1_dict[\"q4\"] + r1_dict[\"q5\"]) / 5\n",
    "r1_dict[\"average_score\"] = average1\n",
    "```\n",
    "\n",
    "````"
   ]
  },
  {
   "cell_type": "markdown",
   "id": "f8ae3eb7-fa23-4a5b-87ca-4c12d841cd01",
   "metadata": {},
   "source": [
    "## Loops & lists: Summarizing a list\n",
    "\n",
    "In [Integers, Floats, & Strings](#integers-floats-strings), bioinformatics student Li calculated the average length of a number of protein sequences, where each sequence was represented by a separate Python string variable (`seq1`, `seq2`, `seq3`, etc.). Li's colleague pointed out that this approach will become cumbersome when dealing with large amounts of data: typically, the number of sequences to be analyzed runs to the hundreds or thousands, so it's not feasible to create a separate variable to hold the string representing each sequence. \n",
    "\n",
    "Instead, Li's colleague proposes that he use a Python list to hold the sequences (a list of strings), and a {term}`for loop` to do the calculation. After a little research, Li understands that he can use the loop to add up the lengths of all the sequences in the list, and he can divide the total length (of sequences) by the length of the list itself (the number of sequences). \n",
    "\n",
    "The following code defines such a list of sequences:"
   ]
  },
  {
   "cell_type": "code",
   "execution_count": 5,
   "id": "e149b404-c49c-4a75-9c86-71f9ee7ca1a4",
   "metadata": {},
   "outputs": [],
   "source": [
    "sequences = [\"FQTWEEFSRAAEKLYLADPMKVRVVLKYRHVDGNLCIKVTDDLVCLVYRTDQAQDVKKIEKF\", \n",
    "            \"KYRTWEEFTRAAEKLYQADPMKVRVVLKYRHCDGNLCIKVTDDVVCLLYRTDQAQDVKKIEKFHSQLMRLME LKVTDNKECLKFKTDQAQEAKKMEKLNNIFFTLM\",\n",
    "            \"EEYQTWEEFARAAEKLYLTDPMKVRVVLKYRHCDGNLCMKVTDDAVCLQYKTDQAQDVKKVEKLHGK\",\n",
    "            \"MYQVWEEFSRAVEKLYLTDPMKVRVVLKYRHCDGNLCIKVTDNSVCLQYKTDQAQDVK\",\n",
    "            \"EEFSRAVEKLYLTDPMKVRVVLKYRHCDGNLCIKVTDNSVVSYEMRLFGVQKDNFALEHSLL\",\n",
    "            \"SWEEFAKAAEVLYLEDPMKCRMCTKYRHVDHKLVVKLTDNHTVLKYVTDMAQDVKKIEKLTTLLMR\",\n",
    "            \"FTNWEEFAKAAERLHSANPEKCRFVTKYNHTKGELVLKLTDDVVCLQYSTNQLQDVKKLEKLSSTLLRSI\",\n",
    "            \"SWEEFVERSVQLFRGDPNATRYVMKYRHCEGKLVLKVTDDRECLKFKTDQAQDAKKMEKLNNIFF\",\n",
    "            \"SWDEFVDRSVQLFRADPESTRYVMKYRHCDGKLVLKVTDNKECLKFKTDQAQEAKKMEKLNNIFFTLM\",\n",
    "            \"KNWEDFEIAAENMYMANPQNCRYTMKYVHSKGHILLKMSDNVKCVQYRAENMPDLKK\",\n",
    "            \"FDSWDEFVSKSVELFRNHPDTTRYVVKYRHCEGKLVLKVTDNHECLKFKTDQAQDAKKMEK\"]"
   ]
  },
  {
   "cell_type": "markdown",
   "id": "05392a2d-08b7-41ae-91f2-12766dd7c6aa",
   "metadata": {},
   "source": [
    "Note that in the list above, a single variable -- `sequences` -- is defined to hold the entire list of strings. To access each string in the list, we can either use indexing (see [Working with Lists](#working-with-lists), or we can write a loop. \n",
    "\n",
    "The {term}`loop variable` in a for loop gives us access to each element in the list in order. For example, in the code below, the `seq` variable would first get assigned the string beginning with `FQTWEEF`, then the string beginning with `KYRTWEEF`, and so on, for every string in the list:\n",
    "```\n",
    "for seq in sequences:\n",
    "```\n",
    "For loops are a very powerful construct for dealing with a large amount of data that needs to be processed in the same way. \n",
    "\n",
    "In this case, the task is to add up the lengths of all the sequences. Li realizes that _in addition to the loop variable_, he'll need to use another variable to keep track of the running total of lengths. Such a variable is defined below."
   ]
  },
  {
   "cell_type": "code",
   "execution_count": 6,
   "id": "b11c875b-bdd5-4c8a-949e-065d2807f982",
   "metadata": {},
   "outputs": [],
   "source": [
    "total_length = 0"
   ]
  },
  {
   "cell_type": "markdown",
   "id": "27160a03-4d32-454e-982d-44df5bfe8fa1",
   "metadata": {},
   "source": [
    "Write a loop for Li that will add the length of each string in `sequences` to the `total_length` variable. "
   ]
  },
  {
   "cell_type": "code",
   "execution_count": 7,
   "id": "c4e61fd5-afbc-4e48-983c-a393522a6370",
   "metadata": {},
   "outputs": [],
   "source": [
    "#Your code here"
   ]
  },
  {
   "cell_type": "markdown",
   "id": "5ad24839-077d-4c3d-9659-b85ac643f282",
   "metadata": {},
   "source": [
    "Now using `total_length`, find the average length of sequences in the list. (Hint: you can find the number of elements in a list by taking its length.)"
   ]
  },
  {
   "cell_type": "code",
   "execution_count": 8,
   "id": "b0e5ceea-a64f-4d6c-90b4-df88087097d9",
   "metadata": {},
   "outputs": [],
   "source": [
    "#Your code here"
   ]
  },
  {
   "cell_type": "markdown",
   "id": "15ca3298-8710-4d72-902c-3696eb49d9a2",
   "metadata": {},
   "source": [
    "**Bonus** Can you modify the loop code from above in order to find the length of the longest sequence in the `sequences` list? Hint: Python has a built-in `max()` function that, when given two arguments, will return the larger of the two: e.g., `max(1, 2)` returns `2`. "
   ]
  },
  {
   "cell_type": "code",
   "execution_count": null,
   "id": "8c8a8385-26c3-43b2-8561-ad58ea1481d3",
   "metadata": {},
   "outputs": [],
   "source": [
    "#Your code here"
   ]
  },
  {
   "cell_type": "markdown",
   "id": "0b97fc39-8f3f-46a2-b571-cecf71236726",
   "metadata": {},
   "source": [
    "````{admonition} Solutions\n",
    ":class: dropdown\n",
    "\n",
    "**Summing over a list**\n",
    "\n",
    "Since we have already defined `total_length` by assigning it to `0`, to add up all the lengths, we just need to increment `total_length` _inside_ the body of the loop. Each time, add the length of the current list element, which we can find by applying the `len()` function to the loop variable (`seq` in the code below):\n",
    "```\n",
    "for seq in sequences:\n",
    "    total_length = total_length + len(seq)\n",
    "```\n",
    "Note that the line incrementing `total_length` is indented, since we want it to be executed once per element in `sequences`. \n",
    "\n",
    "To find the average length, we then divide `total_length` by the length of `sequences` itself:\n",
    "```\n",
    "average_length = total_length / len(sequences)\n",
    "```\n",
    "The latter line of code should be executed _after the loop is finished_, so we don't indent it. In terms of the logic of our code, it's important to observe that `len(seq)` (inside the loop) and `len(sequences)` represent two very different things: the first represents the length of each string (one after the other, in order, as the loop executes); the second represents the length of the list itself, i.e., the _number_ of strings (sequences) within it.  \n",
    "\n",
    "**Finding the max length**\n",
    "\n",
    "To find the length of the longest sequence, we can use the following code:\n",
    "```\n",
    "max_length = 0\n",
    "for seq in sequences:\n",
    "    max_length = max(len(seq), max_length))\n",
    "```\n",
    "\n",
    "The pattern is quite similar to what we used above. The only difference is that instead of reassigning `total_length` to itself plus the length of the current sequence, we reassign `max_length` to the result of comparing the previous value of `max_length` and the length of the current sequence. The following table shows the values of `max_length` and `len(seq)` for the first few iterations of our loop:\n",
    "\n",
    "|Iteration|Previous value of `max_length`|Value of `len(seq)`|New value of `max_length`|\n",
    "|-|-|-|-|\n",
    "|1st|0|62|62|\n",
    "|2nd|62|107|107|\n",
    "|3rd|107|67|107|\n",
    "\n",
    "Stepping through a loop like this is a good way to get a handle on what actually happens when the loop is run.\n",
    "````"
   ]
  },
  {
   "cell_type": "markdown",
   "id": "f8f7c707-86c9-4f85-a45f-8eedd0cdbc75",
   "metadata": {},
   "source": [
    "## Loops & lists: Transforming a list\n",
    "\n",
    "Social scientist Alia would like to extract the seven-digit unique identifiers from a list of addresses, where each address is a string starting with the identifer. \n",
    "\n",
    "The following code defines such a list."
   ]
  },
  {
   "cell_type": "code",
   "execution_count": 61,
   "id": "dc6fbd9c-e83d-4833-9eea-7da0d3e38a11",
   "metadata": {},
   "outputs": [],
   "source": [
    "addresses = [\"UP63659 93 North 9th Street, Brooklyn, NY 11211\",\n",
    "            \"LH06225 380 Westminster St, Providence, RI 02903\",\n",
    "            \"AJ30648 177 Main Street, Littleton, MA 03561\",\n",
    "            \"QL46276 202 Harlow St, Bangor, ME 04401\",\n",
    "            \"QQ72122 46 Front Street, Waterville, ME 04901\",\n",
    "            \"PY84657 22 Sussex St, Hackensack, NJ 07601\",\n",
    "            \"CJ55552 75 Oak Street, Patchogue, NY 11772\",\n",
    "            \"FU76399 1 Clinton Ave, Albany, NY 12207\",\n",
    "            \"ZK38387 7242 Route 9, Plattsburgh, NY 12901\",\n",
    "            \"JF67659 520 5th Ave, Mckeesport, NY 15132\",\n",
    "            \"KJ13496 122 W 3rd Street, Greensburg, NY 15601\",\n",
    "            \"HW78470 901 University Dr, State College, PA 16801\",\n",
    "            \"PL44372 240 W 3rd St, Williamsport, PA 17701\",\n",
    "            \"NJ95036 41 N 4th St, Allentown, PA 18102\"]"
   ]
  },
  {
   "cell_type": "markdown",
   "id": "f9ea04e9-d1e5-4fbb-9af7-e30fcb8c732a",
   "metadata": {},
   "source": [
    "Alia knows that she can extract the identifier from each string by using a slice, such that if the variable `addr` holds the string `\"UP63659 93 North 9th Street, Brooklyn, 11211\"`, then the expression `addr[:7]` will give the string `\"UP63659\"`. \n",
    "\n",
    "How can Alia write a {term}`for loop` to perform this slice for every string in the `addresses` list, storing the results (the identifiers) in a separate list called `identifiers`? \n",
    "\n",
    "(She knows that the first step is to define the new `identifiers` list, which is empty to start with.)"
   ]
  },
  {
   "cell_type": "code",
   "execution_count": 28,
   "id": "eef7d47b-cca1-4f21-85ce-365b44f052e8",
   "metadata": {},
   "outputs": [],
   "source": [
    "identifiers = []"
   ]
  },
  {
   "cell_type": "markdown",
   "id": "3bb9a677-1369-41a3-8291-24deca9c47d1",
   "metadata": {},
   "source": [
    "(She also knows that she needs to use the `.append()` method, which is available on any Python list, to add each identifer to the `identifiers` list.)"
   ]
  },
  {
   "cell_type": "code",
   "execution_count": 29,
   "id": "fa415998-e68a-48c1-97d3-5ccbfd215775",
   "metadata": {},
   "outputs": [],
   "source": [
    "#Your code here"
   ]
  },
  {
   "cell_type": "markdown",
   "id": "ff3690d8-7786-47e7-b092-3911eab092b3",
   "metadata": {},
   "source": [
    "````{admonition} Solution \n",
    ":class: dropdown\n",
    "\n",
    "The goal here is to transform one list of strings (those representing complete street addresses, along with unique identifiers) into a new list, which will contains strings representing only the identifiers from the original list. \n",
    "\n",
    "This is a common pattern, similar to the patterns used in [Summarizing a list](#loops-lists-summarizing-a-list), except that where previously we were computing a single value (a total or maximum amount), here we're populating a list of values derived from the original list.\n",
    "\n",
    "Code to accomplish this (assuming that `identifiers` has first been defined as an empty list, as above) might look as follows:\n",
    "```\n",
    "for addr in addresses:\n",
    "    unique_id = addr[:7]\n",
    "    identifiers.append(unique_id)\n",
    "```\n",
    "Alternately, skipping the intermediate variable assignment, we can write\n",
    "```\n",
    "for addr in addresses:\n",
    "    identifiers.append(addr[:7])\n",
    "```\n",
    "The crucial bit is the indentation of the line(s) after `for addr in addresses:` -- as elsewhere in Python, the {term}`white space` designates the code that should be run _inside_ the loop (i.e., the code to be repeated). Thus, we are taking the same slice (of the first seven characters) from every string (`addr`) in `addresses`, and then adding the result of each slice to the `identifiers` list.\n",
    "\n",
    "````"
   ]
  },
  {
   "cell_type": "markdown",
   "id": "682bb957-3ec1-4206-8c61-47dbce53d043",
   "metadata": {},
   "source": [
    "## Nested data 1: Loops, lists, & dictionaries\n",
    "\n",
    "Data analyst Priya needs to calculate the average response score for each of five questions on her survey of GW students and programming support. As described in [Working with Dictionaries](#working-with-dictionaries), Priya has loaded a datafile using Python such that each survey response is represented by a {term}`dictionary`. The complete set of responses is represented by a list of dictionaries, with each dictionary having the same {term}`key`s but different {term}`value`s. A sample of the dataset is shown below."
   ]
  },
  {
   "cell_type": "code",
   "execution_count": 53,
   "id": "b7d5828c-d7b0-4795-ad7d-818297e84b95",
   "metadata": {},
   "outputs": [],
   "source": [
    "responses = [{\"id\": \"27a20f28-ab40-11ee-ac72-acde48001122\",  \"department\": \"GEOG\",  \"status\": \"GRAD\",  \"degree\": \"MA\",  \"year\": 2025,  \"languages\": \"Python,R\",  \"q1\": 7,  \"q2\": 6,  \"q3\": 1,  \"q4\": 1,  \"q5\": 6},\n",
    " {\"id\": \"27a2100e-ab40-11ee-ac72-acde48001122\",  \"department\": \"GEOG\",  \"status\": \"UND\",  \"degree\": \"BA\",  \"year\": 2026,  \"languages\": \"Python\",  \"q1\": 1,  \"q2\": 4,  \"q3\": 1,  \"q4\": 9,  \"q5\": 3},\n",
    " {\"id\": \"27a21068-ab40-11ee-ac72-acde48001122\",  \"department\": \"CHEM\",  \"status\": \"GRAD\",  \"degree\": \"PhD\",  \"year\": 2025,  \"languages\": \"Python,R,C++\",  \"q1\": 2,  \"q2\": 7,  \"q3\": 5,  \"q4\": 3,  \"q5\": 4},\n",
    " {\"id\": \"27a210a4-ab40-11ee-ac72-acde48001122\",  \"department\": \"ECON\",  \"status\": \"UND\",  \"degree\": \"BA\",  \"year\": 2024,  \"languages\": \"R\",  \"q1\": 7,  \"q2\": 4,  \"q3\": 8,  \"q4\": 5,  \"q5\": 2},\n",
    " {\"id\": \"27a210e0-ab40-11ee-ac72-acde48001122\",  \"department\": \"PSYC\",  \"status\": \"UND\",  \"degree\": \"BA\",  \"year\": 2028,  \"languages\": \"Python\",  \"q1\": 1,  \"q2\": 1,  \"q3\": 4,  \"q4\": 8,  \"q5\": 9}]"
   ]
  },
  {
   "cell_type": "markdown",
   "id": "2bdebf9a-c89e-4240-b133-0f3941099198",
   "metadata": {},
   "source": [
    "For each response, the numeric scores for the five questions are stored under the keys `\"q1\"` through `\"q5\"`. Can you write some code to calculate the average score for each question, across all five responses in the `responses` list?\n",
    "\n",
    "**Hint**: you'll need to use a for loop, combined with one or more variables, defined outside the loop, to store the running totals for each question's scores."
   ]
  },
  {
   "cell_type": "code",
   "execution_count": 54,
   "id": "ec131e62-ff15-4e25-a4ba-9aa0bf915f84",
   "metadata": {},
   "outputs": [],
   "source": [
    "#Your code here"
   ]
  },
  {
   "cell_type": "markdown",
   "id": "dbdd4ba0-e7a4-4e05-ad9a-473502136e45",
   "metadata": {},
   "source": [
    "Priya is interested in possible correlations between respondents' answers to the five survey questions and the number of programming languages the respondents have studied. \n",
    "\n",
    "The response data include, for each respondent, a string that consists of one or more programming languages, separated by commas. Priya knows that by using the `str.split()` method with an argument of `\",\"`(see [Working with Dictionaries](#working-with-dictionaries)), she can obtain a list of programming languages for each respondent, and she reasons that by taking the length of that list, she can obtain an integer representing the number of languages reported by that respondent. \n",
    "\n",
    "Can you write some code to add a `\"num_languages\"` key to each dictionary in the `responses` list, where the value of the key corresponds to the number of languages listed under the `\"languages\"` key?  "
   ]
  },
  {
   "cell_type": "code",
   "execution_count": 55,
   "id": "a954a74c-7e44-4959-bbb4-dfa69d96251c",
   "metadata": {},
   "outputs": [],
   "source": [
    "#Your code here"
   ]
  },
  {
   "cell_type": "markdown",
   "id": "09aa28db-feaa-4b84-bec3-331b85f977d2",
   "metadata": {},
   "source": [
    "**Bonus**: If you find that your code for computing the averages seems rather redundant, with multiple lines doing almost the same thing, can you identify any ways to reduce the redunancy? (Shorter code is necessarily better code, but situations where code gets repetitive do tend to multiply opportunities for programmer error.)"
   ]
  },
  {
   "cell_type": "code",
   "execution_count": 56,
   "id": "39c864b6-4361-40fa-843b-31f4eaca7aca",
   "metadata": {},
   "outputs": [],
   "source": [
    "#Your code here"
   ]
  },
  {
   "cell_type": "markdown",
   "id": "80521f88-a6d2-4634-8631-ff949164876d",
   "metadata": {},
   "source": [
    "````{admonition} Solutions\n",
    ":class: dropdown\n",
    "\n",
    "**Accessing values in a list of dictionaries**\n",
    "\n",
    "To compute the average score for each of the five survey questions, a logical plan might look like the following:\n",
    "1. Define five variables to hold the total scores for the five questions.\n",
    "2. Loop through the list of responses.\n",
    "3. For each response, access the value in each of the question keys (`\"q1\"` through `\"q5\"`) and add it to the appropriate variable.\n",
    "4. Outside the loop, divide each response total by the number of responses.\n",
    "\n",
    "Here is some code to implement this plan:\n",
    "\n",
    "```\n",
    "q1 = 0\n",
    "q2 = 0\n",
    "q3 = 0\n",
    "q4 = 0\n",
    "q5 = 0\n",
    "for resp in responses:\n",
    "    q1 = q1 + resp[\"q1\"]\n",
    "    q2 = q2 + resp[\"q2\"]\n",
    "    q3 = q3 + resp[\"q3\"]\n",
    "    q4 = q4 + resp[\"q4\"]\n",
    "    q5 = q5 + resp[\"q5\"]\n",
    "    \n",
    "q1_avg = q1 / len(responses)\n",
    "q2_avg = q2 / len(responses)\n",
    "q3_avg = q3 / len(responses)\n",
    "q4_avg = q4 / len(responses)\n",
    "q5_avg = q5 / len(responses)\n",
    "```\n",
    "Whenever you're working with for loops, it's a good idea to pay close attention to the indentation. THe five lines indented under the line `for resp in responses:` will be executed once for each response in the list. This pattern allows us to tally up the total for each question. The lines beginning with `q1_avg`, etc., are _not_ indented; these lines will each run only once, after we have finished adding up the totals. (Feel free to use as many blank lines as you like in order to make your code readable; in most situations, blank lines are ignored by the Python interpreter.)\n",
    "\n",
    "**Adding values to dictionaries in a list**\n",
    "\n",
    "To add the number of languages to the data for each respondent, we also need to use a loop. The logical plan for this task is a bit more straightforward: for each response, (1) we need to access the value stored under the `\"languages\"` key, which we expect to be a Python string; (2) then we need to split that string on the commas, (3) take the length of the resulting list, (4) and store the result under a `\"num_languages\"` key in that response dictionary:\n",
    "```\n",
    "for resp in responses:\n",
    "    languages = resp[\"languages\"]\n",
    "    resp[\"num_languages\"] = len(languages.split(\",\"))\n",
    "```\n",
    "The code provided does steps 2, 3, and 4 in the same line, but you could also code those as separate lines. The crucial parts are that we're retrieving the value from the `\"languages\"` key (`resp[\"languages\"]` is on the right side of an equals sign), doing something to that value, and saving the result under the `\"num_languages\"` key (`resp[\"num_languages\"]` is on the left side of an equals sign). \n",
    "\n",
    "And don't forget the quotation marks around `\"languages\"` and `\"num_languages\"` when using them as dictionary keys -- the dictionary keys are strings, and here we're providing their literal string values.\n",
    "\n",
    "**Bonus**\n",
    "\n",
    "To reduce repetition when finding the average scores, we can use a dictionary to store the running totals instead of separate variables.\n",
    "For instance, we could define a `total_scores` dictionary, with a key for each question, and we could initialize them all to 0:\n",
    "```\n",
    "total_scores = {\"q1\": 0, \n",
    "                \"q2\": 0,\n",
    "                \"q3\": 0,\n",
    "                \"q4\": 0,\n",
    "                \"q5\": 0}\n",
    "```\n",
    "Then, inside the for loop that gives us each response, to avoid having to type `total_scores[\"q1\"]`, `total_scores[\"q2\"]`, etc., we can take advantage of the fact that looping over a _dictionary_ in Python returns the dictionary keys. Then the rest of logical plan would look like this:\n",
    "1. Loop over the list of response.\n",
    "2. For each response, _loop over the keys_ in the `total_scores` dictionary. (We do this _inside_ the first loop.)\n",
    "3. For each key from `total_scores`, increment its value in `total_scores` with the value of the same key in the current response dictionary.\n",
    "4. To find the averages, loop over the `total_scores` dictionary again (after the loop over the responses is done), dividing the value for each key by the length of `responses`.\n",
    "\n",
    "The following code implements our plan:\n",
    "```\n",
    "for resp in responses:\n",
    "    for q in total_scores:\n",
    "        total_scores[q] = total_scores[q] + resp[q]\n",
    "for q in total_scores:\n",
    "    total_scores[q] = total_scores[q] / len(responses)\n",
    "```\n",
    "Note that this code is less repetitive than our previous version, but it's also potentially harder to understand. In using this code, it's important to keep in mind that the loop variable `resp` and the loop variable `q` refer to very different things:\n",
    " - `resp` will hold each of the dictionaries in the list `responses`\n",
    " - `q` will hold each of the keys, which are strings in `total_scores`: so `\"q1\"`, `\"q2\"`, etc.\n",
    "\n",
    "This code illustrates _using a variable as a key_ to access a value in a dictionary. So `resp[q]` is equivalent to `resp[\"q1\"]`, `resp[\"q2\"]`, and so on. \n",
    "\n",
    "Feel free to stick with the initial, more repetitive implementation. There's nothing wrong with code that takes up a few more lines if it's easier to reason about or understand.\n",
    "\n",
    "````"
   ]
  },
  {
   "cell_type": "markdown",
   "id": "27ee361b-8184-4a4e-b89d-11ef37a81fbc",
   "metadata": {},
   "source": [
    "## Nested data 2: Creating a list of dictionaries\n",
    "\n",
    "In analyzing nucleotide sequences, it's common to count the number of bases of each type -- A, G, C, T -- that appear in the sequence. A list of such sequences is defined below, where each sequence is a string consisting of the same four characters but in different combinations."
   ]
  },
  {
   "cell_type": "code",
   "execution_count": 57,
   "id": "ab9f319c-406d-43b8-b166-ad5d50146143",
   "metadata": {},
   "outputs": [],
   "source": [
    "sequences = [\"ggtaagtcctctagtacaaacacccccaatattgtgatataattaaaattatattcatattctgttgccagaaaaaacacttttaggctatattagagccatcttctttgaagcgttgtc\",\n",
    "             \"ggtaagtcctctagtacaaacacccccaatattgtgatataattaaaattatattcatattctgttgccagaaaaaacacttttaggctatattagagccatcttctttgaagcgttgtc\",\n",
    "             \"ggtaagtgctctagtacaaacacccccaatattgtgatataattaaaattatattcatattctgttgccagattttacacttttaggctatattagagccatcttctttgaagcgttgtctatgcatcgatcgacgactg\",\n",
    "             \"tgcaccaaacatgtctaaagctggaaccaaaattactttctttgaagacaaaaactttcaaggccgccactatgacagcgattgcgactgtgcagatttccacatgtacctgagccgctg\",\n",
    "             \"caactccatcagagtggaaggaggcacctgggctgtgtatgaaaggcccaattttgctgggtacatgtacatcctaccccggggcgagtatcctgagtaccagcactggatgggcctcaa\"]"
   ]
  },
  {
   "cell_type": "markdown",
   "id": "64009d82-b0c4-4688-bdb9-b039ff48361a",
   "metadata": {},
   "source": [
    "Li wants to analzye the sequences in the `sequences` list. For each sequence, he needs to record how many times each base occurs in the sequence. Since each nucleotide consists of the same four bases, one approach would be to create a list of dictionaries, where each dictionary would contain a key for each base. For example, a single sequence might be represented by the following dictionary:\n",
    "```\n",
    "{\"a\": 24,\n",
    "\"c\": 55,\n",
    "\"g\": 33,\n",
    "\"t\": 28}\n",
    "```\n",
    "The values in the dictionary record the number of occurences of each base. The following is Li's logical plan for implementation:\n",
    "1. Define a new, empty list to hold the base counts for each sequence..\n",
    "2. Loop over the list of sequences.\n",
    "3. For each sequence, define a new dictionary to hold the base counts, initializing each base to 0.\n",
    "4. Within the outer loop, loop over the letters (the bases) in the sequence itself. (Looping over a string gives each character in turn.)\n",
    "5. For each base, increment the key corresponding to that base by 1.\n",
    "6. Add the dictionary of base counts to the list. \n",
    "\n",
    "Can you write some code to implement Li's plan?"
   ]
  },
  {
   "cell_type": "code",
   "execution_count": 58,
   "id": "3158d069-6c93-4cf4-8885-ee012c698f9e",
   "metadata": {},
   "outputs": [],
   "source": [
    "#Your code here"
   ]
  },
  {
   "cell_type": "markdown",
   "id": "239d7022-2168-4fae-ae2f-e2f7a49d2169",
   "metadata": {},
   "source": [
    "````{admonition} Solution\n",
    ":class: dropdown\n",
    "\n",
    "The following code has been annotated with comments corresponding to the steps from the plan described above.\n",
    "```\n",
    "base_counts = []  #Step 1\n",
    "for seq in sequences:    #2\n",
    "    base_count_dict = {\"a\": 0, \"c\": 0, \"g\": 0, \"t\": 0}      #3\n",
    "    for base in seq:      #4\n",
    "        base_count_dict[base] += 1       #5\n",
    "    base_counts.append(base_count_dict)  #6\n",
    "```\n",
    "As usual, the indetation levels are of particular importance. There are three levels in the code above. The following table makes explicit what is happening at each level.\n",
    "\n",
    "|Level|Step|Action|\n",
    "|-|-|-|\n",
    "|1|1|Defines the empty list to hold all the dictionaries|\n",
    "|1|2|For loop: over the list of sequences|\n",
    "|2|3|Defines a new dictionary to hold the base counts for the current sequence in the loop|\n",
    "|2|4|For loop: over the characters in the current sequence string|\n",
    "|3|5|Using the loop variable from the inner loop, which holds the current character, increments the value in the dictionary associated with that key|\n",
    "|2|6|Adds the dictionary to the list of base counts (using the list `append()` method).|\n",
    "\n",
    "The other thing to notice is that we use the `base` loop variable as the key in the `base_count_dict` dictionary, because this variable will hold each character from the sequence in succession, and we have defined `base_count_dict` to have a key for each character. The keys are one-character strings: `\"a\"`, `\"c\"`, `\"g\"`, and `\"t\"`.\n",
    "````"
   ]
  },
  {
   "cell_type": "markdown",
   "id": "a9117c45-b838-4b76-ba1a-ce76849870d3",
   "metadata": {},
   "source": [
    "## Nested data 3: Loops and conditionals\n",
    "\n",
    "Using Python, Alia has transformed her dataset into a list of dictionaries, such that each dictionary contains data about a particular residential property, including its address and the year in which the dwelling was built. The dataset now looks like the following example:"
   ]
  },
  {
   "cell_type": "code",
   "execution_count": 68,
   "id": "6c98880e-3716-49c1-a8d1-e3ea0d019d2f",
   "metadata": {},
   "outputs": [],
   "source": [
    "address_data = [{\"street_address\": \"93 North 9th Street\",\n",
    "  \"city\": \"Brooklyn\",\n",
    "  \"state\": \"NY\",\n",
    "  \"zip\": \"11211\",\n",
    "  \"year_built\": 1995},\n",
    " {\"street_address\": \"380 Westminster St\",\n",
    "  \"city\": \"Providence\",\n",
    "  \"state\": \"RI\",\n",
    "  \"zip\": \"02903\",\n",
    "  \"year_built\": 1979},\n",
    " {\"street_address\": \"177 Main Street\",\n",
    "  \"city\": \"Littleton\",\n",
    "  \"state\": \"MA\",\n",
    "  \"zip\": \"03561\",\n",
    "  \"year_built\": 1992},\n",
    " {\"street_address\": \"202 Harlow St\",\n",
    "  \"city\": \"Bangor\",\n",
    "  \"state\": \"ME\",\n",
    "  \"zip\": \"04401\",\n",
    "  \"year_built\": 1964},\n",
    " {\"street_address\": \"46 Front Street\",\n",
    "  \"city\": \"Waterville\",\n",
    "  \"state\": \"ME\",\n",
    "  \"zip\": \"04901\",\n",
    "  \"year_built\": 2007},\n",
    " {\"street_address\": \"22 Sussex St\",\n",
    "  \"city\": \"Hackensack\",\n",
    "  \"state\": \"NJ\",\n",
    "  \"zip\": \"07601\",\n",
    "  \"year_built\": 1983},\n",
    " {\"street_address\": \"75 Oak Street\",\n",
    "  \"city\": \"Patchogue\",\n",
    "  \"state\": \"NY\",\n",
    "  \"zip\": \"11772\",\n",
    "  \"year_built\": 1996},\n",
    " {\"street_address\": \"1 Clinton Ave\",\n",
    "  \"city\": \"Albany\",\n",
    "  \"state\": \"NY\",\n",
    "  \"zip\": \"12207\",\n",
    "  \"year_built\": 1961},\n",
    " {\"street_address\": \"7242 Route 9\",\n",
    "  \"city\": \"Plattsburgh\",\n",
    "  \"state\": \"NY\",\n",
    "  \"zip\": \"12901\",\n",
    "  \"year_built\": 1932},\n",
    " {\"street_address\": \"520 5th Ave\",\n",
    "  \"city\": \"Mckeesport\",\n",
    "  \"state\": \"NY\",\n",
    "  \"zip\": \"15132\",\n",
    "  \"year_built\": 1958},\n",
    " {\"street_address\": \"122 W 3rd Street\",\n",
    "  \"city\": \"Greensburg\",\n",
    "  \"state\": \"NY\",\n",
    "  \"zip\": \"15601\",\n",
    "  \"year_built\": 1976},\n",
    " {\"street_address\": \"901 University Dr\",\n",
    "  \"city\": \"State College\",\n",
    "  \"state\": \"PA\",\n",
    "  \"zip\": \"16801\",\n",
    "  \"year_built\": 1939},\n",
    " {\"street_address\": \"240 W 3rd St\",\n",
    "  \"city\": \"Williamsport\",\n",
    "  \"state\": \"PA\",\n",
    "  \"zip\": \"17701\",\n",
    "  \"year_built\": 1934},\n",
    " {\"street_address\": \"41 N 4th St\",\n",
    "  \"city\": \"Allentown\",\n",
    "  \"state\": \"PA\",\n",
    "  \"zip\": \"18102\",\n",
    "  \"year_built\": 1981}]"
   ]
  },
  {
   "cell_type": "markdown",
   "id": "57f46c25-385b-4790-b1cc-1586672392db",
   "metadata": {},
   "source": [
    "Alia would like to do some statistics on the ages of the dwellings in her dataset, and she'd like to group the analysis by state. Ideally, she like to be able to select a state and see a list of the years in which dwellings were built. So using the example above, `\"PA\"` would correspond to 1939, 1934, and 1981. \n",
    "\n",
    "A reasonable structure would be a dictionary in which the keys are strings corresponding to the state abbreviations, and the values are lists of years. The entry for Pennsylvania would look as follows:\n",
    "```\n",
    "{...,\n",
    " \"PA\": [1939, 1934, 1981],\n",
    " ...}\n",
    "```\n",
    "\n",
    "Her logical plan is as follows:\n",
    "\n",
    "1. Define an empty dictionary to hold the new data; call it `years_by_state`.\n",
    "2. Loop over the `address_data` list, each element of which should be a dictionary with a `\"state\"` key and `\"year_built\"` key.\n",
    "3. Get the {term}`value` of the `\"state\"` key from the current address (the loop variable).\n",
    "4. This value becomes the {term}`key` to use with the `years_by_state` dictionary.\n",
    "5. Get the value of the `\"year_built\"` key from the current address (the loop variable).\n",
    "6. This becomes the value to add to the `years_by_state` dictionary. But since we want to associate multiple years with each state abbreviation, we should append them to a list, rather than simply assigning the value to the key (which would in fact overwrite any previous value associated with that key).\n",
    "\n",
    "Alia has written the following code, but she keeps getting a `KeyError`. Can you help her fix it? "
   ]
  },
  {
   "cell_type": "code",
   "execution_count": 73,
   "id": "5c3a2720-c867-41d0-b15c-a4b12d3a9150",
   "metadata": {},
   "outputs": [
    {
     "ename": "KeyError",
     "evalue": "'NY'",
     "output_type": "error",
     "traceback": [
      "\u001b[0;31m---------------------------------------------------------------------------\u001b[0m",
      "\u001b[0;31mKeyError\u001b[0m                                  Traceback (most recent call last)",
      "Cell \u001b[0;32mIn[73], line 5\u001b[0m\n\u001b[1;32m      3\u001b[0m state_key \u001b[38;5;241m=\u001b[39m addr[\u001b[38;5;124m\"\u001b[39m\u001b[38;5;124mstate\u001b[39m\u001b[38;5;124m\"\u001b[39m]\n\u001b[1;32m      4\u001b[0m year_value \u001b[38;5;241m=\u001b[39m addr[\u001b[38;5;124m\"\u001b[39m\u001b[38;5;124myear_built\u001b[39m\u001b[38;5;124m\"\u001b[39m]\n\u001b[0;32m----> 5\u001b[0m \u001b[43myears_by_state\u001b[49m\u001b[43m[\u001b[49m\u001b[43mstate_key\u001b[49m\u001b[43m]\u001b[49m\u001b[38;5;241m.\u001b[39mappend(year_value)\n",
      "\u001b[0;31mKeyError\u001b[0m: 'NY'"
     ]
    }
   ],
   "source": [
    "years_by_state = {}\n",
    "for addr in address_data:\n",
    "    state_key = addr[\"state\"]\n",
    "    year_value = addr[\"year_built\"]\n",
    "    years_by_state[state_key].append(year_value)"
   ]
  },
  {
   "cell_type": "markdown",
   "id": "e3555941-268f-44c6-a873-0271f6ddf53b",
   "metadata": {},
   "source": [
    "\n",
    "**Hint**: Python will not allow you to use the `append()` method on a list that hasn't been defined. Since each key in `years_by_state` is associated with a list, the first time you add a key to the dictionary, you need to define the list. To test whether a key is already in a dictionary, you can use an {term}`if statement` with a {term}`Boolean expression`. The following expression evaluates as `True` if the key `\"NY\"` is already in the dictionary `years_by_state` and as `False` otherwise:\n",
    "```\n",
    "\"NY\" in years_by_state\n",
    "```"
   ]
  },
  {
   "cell_type": "code",
   "execution_count": null,
   "id": "4511e7c8-c5e3-45cb-8293-3ada39b72940",
   "metadata": {},
   "outputs": [],
   "source": [
    "#Your code here"
   ]
  },
  {
   "cell_type": "markdown",
   "id": "e534a6b5-1316-4336-911e-549173e42249",
   "metadata": {},
   "source": [
    "````{admonition} Solution\n",
    ":class: dropdown\n",
    "\n",
    "A straightforward solution involves modifying Alia's code with an `if...else` block. The logic is as follows:\n",
    "  - If the dictionary value of `addr[\"state\"]` is already present in `years_by_state` as a dictionary key, then \n",
    "    - Assume that this key is associated with a list,\n",
    "    - And use the `list.append()` method to add the value of `addr[\"year_built\"]` to that list.  \n",
    "  - Otherwise, add the value of `addr[\"state\"]` as a key whose value is a list with a single element, the value of `addr[\"year_built\"]`.\n",
    "\n",
    "```\n",
    "years_by_state = {}\n",
    "for addr in address_data:\n",
    "    state_key = addr[\"state\"]\n",
    "    year_value = addr[\"year_built\"]\n",
    "    if state_key in years_by_state:\n",
    "        years_by_state[state_key].append(year_value)  #4a\n",
    "    else:\n",
    "        years_by_state[state_key] = [year_value]  #4b\n",
    "```\n",
    "Note that the expression `years_by_state[state_key].append(...)` works because of the order in which Python evaluates expressions:\n",
    "1. The value of `state_key` is retrieved from memory, which should be a string (a two-letter state abbreviation), per the definition of the `address_data` variable and the operation of the loop.\n",
    "2. This string is used as a key to retrieve a dictionary value from the `years_by_state` variable. This value will be a list, per the logic of the code.\n",
    "3. The latter value, being a list, has an `append()` method by default, and this method is used to add a new element to the list. \n",
    "\n",
    "The logic might be a little clearer if we reverse the conditions in the `if...else` block. (Note the use of `not` in the fourth line.)\n",
    "```\n",
    "years_by_state = {}\n",
    "for addr in address_data:\n",
    "    state_key = addr[\"state\"]\n",
    "    year_value = addr[\"year_built\"]\n",
    "    if not state_key in years_by_state:\n",
    "        years_by_state[state_key] = [year_value]  #4b\n",
    "    else:\n",
    "        years_by_state[state_key].append(year_value)  #4a\n",
    "```\n",
    "The code above produces the same result; the only difference is the order in which we, the programmers, read the conditions. But this order makes it clear that each key in the `years_by_state` dictionary is created to hold a list of one element, and that this list is subsequently appended to.\n",
    "\n",
    "````"
   ]
  },
  {
   "cell_type": "markdown",
   "id": "bae50483-99ac-47d9-b6b3-7318494c3906",
   "metadata": {},
   "source": [
    "## Loops & conditionals: Categorizing data\n",
    "\n",
    "Pryia is analyzing survey data wherein each respondent has indicated the programming languages they have studied. In the following extract of her datafile, each response is associated with a unique, anonymous identifier and a list of languages. If the repondent indicated no languages, the list is empty."
   ]
  },
  {
   "cell_type": "code",
   "execution_count": 84,
   "id": "dff193d6-567f-47e8-bd53-2596bcca53a2",
   "metadata": {},
   "outputs": [],
   "source": [
    "responses = [{\"id\": \"c9e703e0-ad9a-11ee-ac72-acde48001122\",\n",
    "              \"languages\": [\"R\", \"Java\", \"Python\"]},\n",
    "             {\"id\": \"c9e7089a-ad9a-11ee-ac72-acde48001122\",\n",
    "                  \"languages\": []},\n",
    "             {\"id\": \"c9e70976-ad9a-11ee-ac72-acde48001122\", \n",
    "              \"languages\": []},\n",
    "             {\"id\": \"c9e70a16-ad9a-11ee-ac72-acde48001122\", \n",
    "              \"languages\": [\"R\"]},\n",
    "             {\"id\": \"c9e70a8e-ad9a-11ee-ac72-acde48001122\", \n",
    "              \"languages\": [\"Python\", \"C/C++\"]},\n",
    "             {\"id\": \"c9e70b06-ad9a-11ee-ac72-acde48001122\", \n",
    "              \"languages\": [\"Other\"]},\n",
    "             {\"id\": \"c9e70b74-ad9a-11ee-ac72-acde48001122\", \n",
    "              \"languages\": [\"R\", \"Python\"]},\n",
    "             {\"id\": \"c9e70bec-ad9a-11ee-ac72-acde48001122\",\n",
    "              \"languages\": [\"R\", \"Python\"]},\n",
    "             {\"id\": \"c9e70c64-ad9a-11ee-ac72-acde48001122\", \n",
    "              \"languages\": [\"Python\"]},\n",
    "             {\"id\": \"c9e70cc8-ad9a-11ee-ac72-acde48001122\", \n",
    "              \"languages\": [\"R\"]}]"
   ]
  },
  {
   "cell_type": "markdown",
   "id": "06f469eb-a5bb-4a8d-b72c-57becb3c1f57",
   "metadata": {},
   "source": [
    "In order to simplify her analysis, Priya has decided to code her data as follows:\n",
    "  - If the respondent indicated more than one language, the response is coded as a 3.\n",
    "  - If the respondent indicated only one language, but that language is either Python or R, the response is coded as a 2.\n",
    "  - If the respondent indicated no language, or they indicated a single language other than Python or R, the response is coded as a 1.\n",
    "\n",
    "Her logical plan is as follows:\n",
    "  1. Create a new list to hold the coded data.\n",
    "  2. Loop over the `responses` list; for each response, create a new dictionary to hold the ID of the current response and its language code.\n",
    "  3. Use an `if-elif-else` statement to evaluate the data associated with the `\"languages\"` key.\n",
    "  4. Based on which branch of the {term}`if statement` is `True`, assign a value to a `\"language_code\"` key in the current response dictionary, and append the latter to the new list.\n",
    "\n",
    "Can you write some code to implement Priya's plan?\n",
    "\n",
    "**Hint**: To test whether a string is present in a list, use an expression with the keyword `in`. For instance, if the variable `lang_list` holds a list of string, to check if the string `\"Python\"` appears in `lang_list`, we can write:\n",
    "```\n",
    "if \"Python\" in lang_list:\n",
    "```"
   ]
  },
  {
   "cell_type": "code",
   "execution_count": 80,
   "id": "006f9b2b-6970-4921-8e9c-3503d127d53c",
   "metadata": {},
   "outputs": [],
   "source": [
    "#Your code here"
   ]
  },
  {
   "cell_type": "markdown",
   "id": "545e44d7-6b5c-4460-8657-a2b8cc05ef6e",
   "metadata": {},
   "source": [
    "````{admonition} Solution\n",
    ":class: dropdown\n",
    "\n",
    "The following is one potential solution. The commented numerals in the code refer to the annotations below\n",
    "\n",
    "```\n",
    "coded_responses = []\n",
    "for resp in responses:\n",
    "    coded_resp = {}                    #1\n",
    "    coded_resp[\"id\"] = resp[\"id\"]      #2\n",
    "    lang_list = resp[\"languages\"]      \n",
    "    if len(lang_list) > 1:             #3\n",
    "        lang_code = 3\n",
    "    elif \"Python\" in lang_list or \"R\" in lang_list:          #4\n",
    "        lang_code = 2\n",
    "    else:\n",
    "        lang_code = 1\n",
    "    coded_resp[\"language_code\"] = lang_code      #5\n",
    "    coded_responses.append(coded_resp)           #6\n",
    "```\n",
    "\n",
    "1. Since we want the data structure for the coded responses to have the same structure as the original `responses` list, we define a new, empty dictionary to hold each coded response. (We technically could reuse the dictionary from `responses` -- which is held by the loop variable `resp` -- but this approach keeps things cleaner, and it preserves our original data as is, should we need it later.\n",
    "2. We need to copy the value of the `\"id\"` key over to the new dictionary.\n",
    "3. Here we're testing our conditions against the list held by the `\"languages\"` key in each dictionary from `responses`. The order of our if statements in this case does matter, because the _first_ condition to evaluate to `True` will be executed. According to Priya's specifications, if the response includes more than one language, _regardless of language_, it should be coded as a 3. In other words, a response with a value for `lang_list` of `[\"Python\", \"R\"]` would receive a 3, not a 2. In order to implement this logic in Python, we need to test for this condition first.\n",
    "4. This condition is evaluated only if `lang_list` has fewer than 2 elements. Note the use of the `or` keyword to check for both conditions. Note also that we _cannot_ write `elif \"Python\" or \"R\" in lang_list`. (Technically, we _can_ write that, but it won't have the desired effect: `elif \"Python\" ...` will _always_ evaluate to `True`, no matter what comes after, because a non-empty string is always coerced to `True` by an if statement. The correct, though unfortunately verbose, way to code this statement is to repeat the `in lang_list` expression for each string we're testing.\n",
    "5. Because `lang_code` is assigned _something_ in every branch of the `if-elif-else` statement, we can assume that it will have the correct value at this point. And be careful about indentation -- if this line were indented under the `else:` line, it would get executed only for cases where `lang_code` is `1` -- not at all what we want!\n",
    "6. It's easy to forget to append our dictionary to the new list. But if we omit this step, `code_resp` will get a new dictionary on every iteration of the loop, and each dictionary will overwrite the last.\n",
    "````"
   ]
  }
 ],
 "metadata": {
  "kernelspec": {
   "display_name": "Python 3 (ipykernel)",
   "language": "python",
   "name": "python3"
  },
  "language_info": {
   "codemirror_mode": {
    "name": "ipython",
    "version": 3
   },
   "file_extension": ".py",
   "mimetype": "text/x-python",
   "name": "python",
   "nbconvert_exporter": "python",
   "pygments_lexer": "ipython3",
   "version": "3.11.6"
  }
 },
 "nbformat": 4,
 "nbformat_minor": 5
}
