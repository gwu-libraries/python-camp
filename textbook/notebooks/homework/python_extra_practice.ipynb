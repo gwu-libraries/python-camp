{
 "cells": [
  {
   "cell_type": "markdown",
   "id": "9a9d9cf8-4732-465f-a155-1a7087357d16",
   "metadata": {},
   "source": [
    "# Extra Practice for Python Camp"
   ]
  },
  {
   "cell_type": "markdown",
   "id": "7ac51098-e0fe-481a-a388-525da12ea7c1",
   "metadata": {},
   "source": [
    "## Agenda & Instructions\n",
    "\n",
    "This notebook provides a series of exercises designed as extra practice for the material covered in the daily lessons and the homework. You are by no means required to work through these exercises, but doing so may prove helpful in a couple of situations:\n",
    "\n",
    "- If you want to review a particular concept in order to solidify your understanding.\n",
    "- If you want to build more \"muscle memory\" by writing code beyond the opportunities provided by the group activities and homework.\n",
    "\n",
    "The exercises below are arranged by concept, largely following the order in which the concepts were presented in the course materials. The code in each section is self-contained, so feel free to jump around and/or pick only certain sections to do. \n",
    "\n",
    "Answers to the challenges in each section are provided in a collapsed (Hint) cell at the bottom of the section."
   ]
  },
  {
   "cell_type": "markdown",
   "id": "549bc440-e061-4f46-b8e0-849bc9affa4d",
   "metadata": {},
   "source": [
    "````{admonition} How to Use this Notebook\n",
    ":class: how-to\n",
    "\n",
    "1. Read the documentation above each cell containing code and run the cell (`Ctrl+Enter` or `Cmd+Return`) to view the output.\n",
    "\n",
    "\n",
    "2. Follow the prompts labeled `Try it out!` that ask you to write your own code in the provided blank cells.\n",
    "\n",
    "\n",
    "3. (Hidden) solutions to these exercises follow the blank cells; click the toggle bar to expand the solution to compare with your approach.\n",
    "\n",
    "\n",
    "4. Some prompts include alternative exercises (Parsons Problems) that will be linked from the prompt. These alternatives may help clarify concepts (especially if you find yourself struggling to keep up with all the syntax).\n",
    "\n",
    "\n",
    "5. Optional annotations (labeled `For the curious...`) provide additional explanation and/or context for those who want them. Feel free to skip these sections if you like. As a beginner, it's important to maintain a balanced cognitive load: taking in too much information all at once can impede your progress toward understanding. This balance looks different for everyone, but we have tried to keep the main content focused on a few key concepts, tools, and techniques, while providing that additional context for those who might benefit from it.\n",
    "\n",
    "````"
   ]
  },
  {
   "cell_type": "markdown",
   "id": "24a0cc82-273d-4803-81ec-4897430729c9",
   "metadata": {},
   "source": [
    "## Integers, floats & strings\n",
    "\n",
    "\n",
    "\n"
   ]
  },
  {
   "cell_type": "code",
   "execution_count": null,
   "id": "67f3b72c-2432-4aec-a220-8727ee7e0629",
   "metadata": {},
   "outputs": [],
   "source": []
  },
  {
   "cell_type": "markdown",
   "id": "d0c0afd2-4b24-4ebe-bb78-9876885e5e47",
   "metadata": {},
   "source": [
    "## Working with strings (1)\n",
    "\n",
    "Alia M. is a social scientist working with data on residential housing patterns. She has a large datafile of residential properties in the United States, consisting of street addresses and some information about the type of housing at each address. For each row in the datafile, the first part consists of a {term}`string` that represents the property's street address, including city, state abbreviation, and zip code. The address is preceded by a seven-digit unique identifier. One such string is given below."
   ]
  },
  {
   "cell_type": "code",
   "execution_count": 1,
   "id": "4314de08-b2db-4c35-931f-eb55ad7941d8",
   "metadata": {},
   "outputs": [],
   "source": [
    "address1 = \"AGF5670 2123 N. 3rd St., St. Cloud, MN 56301\""
   ]
  },
  {
   "cell_type": "markdown",
   "id": "0897d0af-71ff-48ad-986a-77f06ce2282f",
   "metadata": {},
   "source": [
    "Alia's first task is to extract the unique identifier (`AGF5670` in the example above) from each string. How can she use a string {term}`slice` to accomplish this task? Write some code that extracts the identifier from the string stored in the `address1` variable."
   ]
  },
  {
   "cell_type": "code",
   "execution_count": 2,
   "id": "ed872695-987a-4225-a1cb-82e3bf393235",
   "metadata": {},
   "outputs": [],
   "source": [
    "#Your code here"
   ]
  },
  {
   "cell_type": "markdown",
   "id": "0d95f3ad-b3cc-40a8-87a6-3fb848fc840d",
   "metadata": {},
   "source": [
    "Next Alia would like to extract the five-digit zip code from the address string. (The zip code is `56301` in the example provided.) What code can she use to do that? (Assume that all zip codes in the datafile consist of five digits.) "
   ]
  },
  {
   "cell_type": "code",
   "execution_count": 3,
   "id": "40d331d6-3821-4029-b814-93e305896fb8",
   "metadata": {},
   "outputs": [],
   "source": [
    "#Your code here"
   ]
  },
  {
   "cell_type": "markdown",
   "id": "8aa6432c-a698-41b7-991e-6b07d1c65abe",
   "metadata": {},
   "source": [
    "Great work! This code is really going to make Alia's life easier -- no more manual data entry for her! The next challenge, as you might guess, is to extract the US postal code for the state. Assume that the addresses in this datafile all have a two-letter abbreviation (`MN`, for Minnesota, in the example above)."
   ]
  },
  {
   "cell_type": "code",
   "execution_count": 4,
   "id": "d532e424-3a07-418a-9575-47f5401d12f6",
   "metadata": {},
   "outputs": [],
   "source": [
    "#Your code here"
   ]
  },
  {
   "cell_type": "markdown",
   "id": "18f7882b-5e00-4875-b828-4be59b1b4289",
   "metadata": {},
   "source": [
    "Finally, Alia needs to extract the street address itself, together with the city name: e.g., `2123 N. 3rd St., St. Cloud`. The length of this portion of the address varies throughout the datafile, so ideally, your code would work for any string fitting the above pattern, regardless of length."
   ]
  },
  {
   "cell_type": "code",
   "execution_count": 5,
   "id": "d787cc2f-3180-43be-bb78-80a9387035c7",
   "metadata": {},
   "outputs": [],
   "source": [
    "#Your code here"
   ]
  },
  {
   "cell_type": "markdown",
   "id": "b2110339-4266-445b-a934-25611fbb120e",
   "metadata": {},
   "source": [
    "````{hint} Solutions\n",
    ":class: dropdown\n",
    "\n",
    "There are other ways to accomplish Alia's tasks, but all of the above can be done using slicing. How can we determine that? Looking at the example given, and assuming that the rest of the datafile is consistent, we have the following pattern:\n",
    "\n",
    "$$\n",
    "\\underbrace{\\text{AGF5670}}_\\text{7}\\text{ 2123 N. 3rd St., St. Cloud, }\\underbrace{\\text{MN}}_\\text{2}\\text{ }\\underbrace{\\text{56301}}_\\text{5}\n",
    "$$\n",
    "\n",
    "Alia wants to subdivide the string into four elements, three of which have a fixed length: the identifier, the state abbreviation, and the zip code. Only the street address and city are variable, and if we treat the latter as a single element, we can construct slices for all four elements using what we know about the lengths of the first three, together with negative indexing.\n",
    "\n",
    "The table below shows the lengths of each element along with the indices for slicing (taking into account the white space between identifier, address, state, and zip code):\n",
    "\n",
    "|Element|Length|Slice From|Slice To|Slice Value|\n",
    "|-|-|-|-|-|\n",
    "|identifier|7 characters|0|7|`\"AGF5670\"`|\n",
    "|street address & city|varies|8|-9|`\"2123 N. 3rd St., St. Cloud,\"`|\n",
    "|state abbreviation|2 characters|-8|-6|`\"MN\"`|\n",
    "|zip code|5 characters|-5|-|`\"56301\"`|\n",
    "\n",
    "\n",
    "1. To extract the **identifier**, we write: `address1[0:7]` or `address1[:7]`. (These expressions are equivalent.)\n",
    "2. To extract the **zip code**, we count back five characters from the end, starting with `-1`, which yields `address1[-5:]`. Note that we leave off the second number in the slice (after the colon) because we want to take a slice _including_ the last character.\n",
    "3. To extract the **state abbreviation**, we count back again from the end to the `-8` position (the `M`) and add 2 to get our slice: `address1[-8:-6]`.\n",
    "4. To extract the remaining part of the address, we start from the second position _after_ the end of the 7-digit identifier (to account for the white space, which we don't want in our slice), and we take _up to_ (but _not_ including) the 9th character from the end (the space before the state code): `address1[8:-9]`. \n",
    "\n",
    "We could use slightly different code for step 4 in order to exclude the comma after the city name (`\"St. Cloud\"`), i.e., `address1[8:-10]`.\n",
    "\n",
    "**N.b.** We could have accomplished some (but not all) of these tasks using Python's `str.split()` method instead of slicing. See the next section for details.  \n",
    "\n",
    "````"
   ]
  },
  {
   "cell_type": "markdown",
   "id": "e0133f45-34b2-4136-8028-bf2c77c4ed62",
   "metadata": {},
   "source": [
    "## Working with strings (and lists)\n",
    "\n",
    "Social scientist Alia has some additional data points in her file that she wishes to extract. These data consist of two alphanumeric codes and a four-digit year. The first element indicates the type of dwelling, the second indicates whether the property is a rental or occupant-owned, and the third indicates the year in which the property was built. The following example shows the string for a single-family rental property built in 1986."
   ]
  },
  {
   "cell_type": "code",
   "execution_count": 19,
   "id": "cdcf2492-d285-4d0b-9d56-162a600e5e92",
   "metadata": {},
   "outputs": [],
   "source": [
    "address_info1 = \"SF,R,1986\""
   ]
  },
  {
   "cell_type": "markdown",
   "id": "929bca93-0dff-4e18-9321-89265bc5f850",
   "metadata": {},
   "source": [
    "Alia is feeling pretty confident about Python string slicing, so her first approach is to write three {term}`slice` expressions to extract the information between the commas in the string above. Can you write those expressions below, assigning each part of the string (without the commas) to a new variable?"
   ]
  },
  {
   "cell_type": "code",
   "execution_count": 20,
   "id": "18a4f2be-5226-422f-90a7-949984d021e2",
   "metadata": {},
   "outputs": [],
   "source": [
    "#Your code here"
   ]
  },
  {
   "cell_type": "markdown",
   "id": "c6686a8f-3dc7-4c9e-8181-250c15634c15",
   "metadata": {},
   "source": [
    "Alia is pleased with herself until she realizes that not all of the codes in the datafile are of the same length. The code in the first position can be either \"SF\" (single-family), \"MF\" (multi-family), or \"Mixed\" (for properties with a mix of residential and commercial spaces). Likewise, the second code can be either \"R\" (rental), \"O\" (owned), or \"n/a\" (a null value, used when the information was not available). \n",
    "\n",
    "Since two of the three elements in this string are of variable lengths, it's not easy to write slice expressions that will extract all three elements. Fortunately, Alia has learned about the [str.split()](https://docs.python.org/3.3/library/stdtypes.html#str.split) method. Write some code that will split the `address_info1` string into three parts, and assign each part to a new variable."
   ]
  },
  {
   "cell_type": "code",
   "execution_count": 21,
   "id": "e8b2b090-de9b-4464-9fc3-661f1c5d0916",
   "metadata": {},
   "outputs": [],
   "source": [
    "#Your code here"
   ]
  },
  {
   "cell_type": "markdown",
   "id": "c2c0b824-9028-4477-9608-a6fd1b2a7609",
   "metadata": {},
   "source": [
    "Now verify that your approach works for strings with elements of different lengths: `address_info2` and `address_info3` below."
   ]
  },
  {
   "cell_type": "code",
   "execution_count": 22,
   "id": "bcd35613-e831-40f5-90b8-34c0e588da03",
   "metadata": {},
   "outputs": [],
   "source": [
    "address_info2 =  \"MF,n/a,1996\""
   ]
  },
  {
   "cell_type": "code",
   "execution_count": 23,
   "id": "7ec959b6-507d-4f33-8077-500440f691ba",
   "metadata": {},
   "outputs": [],
   "source": [
    "#Your code here"
   ]
  },
  {
   "cell_type": "code",
   "execution_count": 24,
   "id": "d559e6c5-db77-49a1-a74b-ad5b069de2cd",
   "metadata": {},
   "outputs": [],
   "source": [
    "address_info3 = \"Multi,R,2007\""
   ]
  },
  {
   "cell_type": "code",
   "execution_count": 25,
   "id": "150807bd-c18f-47ec-bf74-8c89a09e8e08",
   "metadata": {},
   "outputs": [],
   "source": [
    "#Your code here"
   ]
  },
  {
   "cell_type": "markdown",
   "id": "d8145d8f-63d9-4cea-ac80-5bb45bb1af5c",
   "metadata": {},
   "source": [
    "\"That slice method is pretty cool!\" Alia thinks. She wonders whether it would be a good idea to split the address strings as well (see the introduction to [Working with Strings (1)](#working-with-strings-1)), instead of slicing them. \n",
    "\n",
    "Given the `address1` variable below, what happens if you split it on the {term}`white space`? Do you think this would be a good approach for separating out the elements of the string: the 7-digit identifier, the street address and city name (of variable length), the two-letter state abbreviation, and the five-digit zip code? Why or why not?"
   ]
  },
  {
   "cell_type": "code",
   "execution_count": 27,
   "id": "2b796a30-f773-4bed-b6db-1d9a8e22c2a7",
   "metadata": {},
   "outputs": [],
   "source": [
    "address1 = \"AGF5670 2123 N. 3rd St., St. Cloud, MN 56301\""
   ]
  },
  {
   "cell_type": "code",
   "execution_count": 29,
   "id": "ea821fb5-c111-4301-8676-532e3201aefd",
   "metadata": {},
   "outputs": [],
   "source": [
    "#Your code here"
   ]
  },
  {
   "cell_type": "markdown",
   "id": "c1bcbc37-7d4d-42d9-b5b4-0501421d3f05",
   "metadata": {},
   "source": [
    "Using the result of splitting `address1`, can you extract the identifier, state abbreviation, and zip code?"
   ]
  },
  {
   "cell_type": "code",
   "execution_count": 30,
   "id": "fd35170b-c6f0-4058-ae11-0833b6e5e55f",
   "metadata": {},
   "outputs": [],
   "source": [
    "#Your code here"
   ]
  },
  {
   "cell_type": "markdown",
   "id": "24e344ef-89eb-4677-8f4f-a0ab31fb303f",
   "metadata": {},
   "source": [
    "**Bonus** Now Alia is having trouble working with the street address and city name in the result of splitting `address1`. A colleague mentioned the [str.join()](https://docs.python.org/3.3/library/stdtypes.html#str.join) method, which is sort of the inverse of `str.split()`. \n",
    "\n",
    "Can you use list slicing and the `join` method to extract a single string corresponding to the street address and city name in `address1`, starting from the result of splitting the latter?"
   ]
  },
  {
   "cell_type": "markdown",
   "id": "aad6d88f-6ed0-464e-a94d-389a7e7e38ef",
   "metadata": {},
   "source": [
    "````{hint} Solutions\n",
    ":class: dropdown\n",
    "\n",
    "Since the three elements in the `address_info` strings are separated by commas, we can use the `str.split()` method with its optional first argument, `sep`. Note that the Python [documentation](https://docs.python.org/3.3/library/stdtypes.html#str.split) tells us the following:\n",
    "\n",
    "> If `sep` is not specified or is `None`, a different splitting algorithm is applied: runs of consecutive whitespace are regarded as a single separator, and the result will contain no empty strings at the start or end if the string has leading or trailing whitespace.\n",
    "\n",
    "In other words, if we write `address_info1.split()` with nothing between parentheses, the `sep` argument will be `None` by default, which means that the string will be split on {term}`white space`, with any number of consecutive spaces being treated as a single instance (a single separator). That's the default behavior, but we can modify this by providing a single argument to `split` for the separator, either with or without the argument name:\n",
    "\n",
    "```\n",
    "address_info1.split(\",\")\n",
    "```\n",
    "and \n",
    "```\n",
    "address_info1.split(sep=\",\")\n",
    "```\n",
    "work equally well, giving the {term}`list` `[\"SF\", \"R\", \"1986\"]` as the result.\n",
    "\n",
    "The same approach works also for `address_info2` and `address_info3`. In each case, we can access the individual elements by {term}`index`ing into the list returned by `split`:\n",
    "```\n",
    "result1 = address_info1.split(\",\")\n",
    "property_type1 = result1[0]\n",
    "rent_or_owned1 = result1[1]\n",
    "year_built1 = result1[2]\n",
    "```\n",
    "Assuming that the strings with this information always have _two and only two_ commas, the `split` method will always return a three-element list. \n",
    "\n",
    "We could take the same approach with the `address1` string (`\"AGF5670 2123 N. 3rd St., St. Cloud, MN 56301\"`), splitting this time on the whitespace (the default):\n",
    "```\n",
    "address_parts1 = address1.split()\n",
    "```\n",
    "Now `address_parts1` will be the following list: `['AGF5670', '2123', 'N.', '3rd', 'St.,', 'St.', 'Cloud,', 'MN', '56301']`\n",
    "\n",
    "Assuming the strings in Alia's datafile are consistently formed, we could extract the identifer, state abbreviation, and zip code as follows:\n",
    "```\n",
    "identifier1 = address_parts1[0]\n",
    "state_abbreviation1 = address_parts1[-2]\n",
    "zip_code1 = address_parts1[-1]\n",
    "```\n",
    "Extracting the street adddress and city proves more difficult, however. In our example, each part of the street address (`\"2123 N. 3rd St.,\"`) is separated by white space, as are the two parts of the city name (`\"St. Cloud,\"`). This situation poses two problems for using the `str.split()` method:\n",
    "  - It's not going to be terribly useful -- at least, not for Alia's purposes -- to treat the parts of the street address or city name as different elements. For instance, the \"N.\" and the \"St.\" in \"N. 3rd St.\" don't really mean anything on their own, and the same goes for \"St.\" and \"Cloud\" in \"St. Cloud.\" \n",
    "  - Different addresses and cities will involve different amounts of white space. Consider \"3150 Elm St.\" or \"Roanoke.\"\n",
    "\n",
    "To to extract the address/city name element from our original address string using split, we could take the following approach:\n",
    "\n",
    "1. Split the originl string on white space, producing a list.\n",
    "```\n",
    "address_parts1 = address1.split()\n",
    "```\n",
    "2. Take a slice _of the resulting list_ (not the original string) in order to get the elements between the first (the identifier) and the second-to-last (the state abbreviation).\n",
    "```\n",
    "street_address1 = address_parts1[1:-2]\n",
    "```\n",
    "3. Note that `street_address1` is also a list. (Slicing a string returns a string; slicing a list returns a list.) We can use this list with the `str.join` method, which takes as its argument a list and returns a string that consists of each element in the list separated by whatever string the method is called on. The following code creates a new string out of the street address/city name elements by gluing them together (so to speak) with white space:\n",
    "```\n",
    "street_and_city1 = \" \".join(street_address1)\n",
    "```\n",
    "\n",
    "As a result, splitting isn't necessarily a better approach to Alia's first problem than slicing. But the larger point is that there are almost most than one way of solving a problem with Python. In this case, which approach you choose might come down to your preferences as a programmer. (They are more or less equally efficient.)\n",
    "\n",
    "````"
   ]
  }
 ],
 "metadata": {
  "kernelspec": {
   "display_name": "Python 3 (ipykernel)",
   "language": "python",
   "name": "python3"
  },
  "language_info": {
   "codemirror_mode": {
    "name": "ipython",
    "version": 3
   },
   "file_extension": ".py",
   "mimetype": "text/x-python",
   "name": "python",
   "nbconvert_exporter": "python",
   "pygments_lexer": "ipython3",
   "version": "3.11.4"
  }
 },
 "nbformat": 4,
 "nbformat_minor": 5
}
