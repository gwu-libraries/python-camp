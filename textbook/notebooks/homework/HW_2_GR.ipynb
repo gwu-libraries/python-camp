{
 "cells": [
  {
   "cell_type": "markdown",
   "metadata": {},
   "source": [
    "# Graded Homework: Day 2\n",
    "\n",
    "This notebook should be completed *after* the exercises in the [Programming Techniques](./HW_2_programming_techniques.ipynb) notebook."
   ]
  },
  {
   "cell_type": "markdown",
   "metadata": {},
   "source": [
    "## Instructions\n",
    "\n",
    "Below you will find one or more exercises. For each exercise, do the following:\n",
    "\n",
    "1. Run the first code cell under the exercise heading. This will execute some code needed to set up the problem.\n",
    "2. Reading the instructions and write code in the empty code cell (labeled with the comment `Your code here`). Run this code.\n",
    "3. Assuming your code does not produce any errors, run the code in the cell below the `Tests` heading. Each line of this code consists of a Python {term}`assert statement`. \n",
    "   - If you see an `AssertionError`, don't panic! The error is written so as to help you pinpoint the part of your code that's not working as expected. After making a change in your code, re-run **both** the cell with your code and the cell with the tests. Repeat until you see no errors.\n",
    "   - If you run the cell with the test code and you see no output, congratulations! That means that your code has passed all the tests and works as expected. Go to step 4 to submit.\n",
    "4. Submit your code by downloading this notebook from JupyterHub and uploading it to the GitHub repository for this assignment. See [the documentation](https://gwu-libraries.github.io/python-camp/homework.html) for detailed instructions."
   ]
  },
  {
   "cell_type": "markdown",
   "metadata": {},
   "source": [
    "## Exercise 1\n",
    "\n",
    "The following code defines a list of strings that represent courses. Each string consists of a department code, a course number, and a section number."
   ]
  },
  {
   "cell_type": "code",
   "execution_count": 4,
   "metadata": {
    "tags": [
     "setup:ex1"
    ]
   },
   "outputs": [],
   "source": [
    "courses = ['CHEM 1001 10',\n",
    "          'CHEM 1002, 10',\n",
    "          'CHEM 1002 11',\n",
    "          'BISC 1100 10',\n",
    "          'BISC 1102 10',\n",
    "          'PSC 2001 10',\n",
    "          'PSC 2001 11',\n",
    "          'PSC 2001 12',\n",
    "          'WSTU 6999 10',\n",
    "          'WSTU 6999 11']"
   ]
  },
  {
   "cell_type": "markdown",
   "metadata": {},
   "source": [
    "In the cell below, write some code that will transform the data in the `courses` list into a list of dictionaries. Each dictionary should be structured as follows:\n",
    "```\n",
    "{'dept': 'CHEM',\n",
    " 'course': '1001',\n",
    " 'section': '10'} \n",
    "```\n",
    "In other words, each dictionary should have the same three keys: `dept`, `course`, and `section`. And there should be one dictionary for each of the courses in the `courses` list.\n",
    "\n",
    "Call this new list `courses_db` (for \"courses database\"). \n",
    "\n",
    "If you get stuck, try solving this [Parsons Problem](https://gwu-libraries.github.io/python-camp/parsons-problems/html/homework-2-GR.html), which will help you focus on the logic without worrying too much about the syntax."
   ]
  },
  {
   "cell_type": "code",
   "execution_count": 5,
   "metadata": {
    "tags": [
     "solution:ex1"
    ]
   },
   "outputs": [],
   "source": [
    "#Your code here"
   ]
  },
  {
   "cell_type": "markdown",
   "metadata": {},
   "source": [
    "````{hint}\n",
    "\n",
    "Make sure you create each course dictionary **inside** the `for` loop, like so:\n",
    "```\n",
    "for course in courses:\n",
    "    course_dict = {}\n",
    "    ...\n",
    "```\n",
    "\n",
    "````"
   ]
  },
  {
   "cell_type": "markdown",
   "metadata": {},
   "source": [
    "### Tests\n",
    "\n",
    "The cell below defines various tests that will be run to check your code. \n",
    "\n",
    "Once you have completed your answer, run the cell above. If you don't get any errors, you can check to see if your code produces the correct output by running the code cell below. \n",
    "\n",
    "If you run the cell below and you see no output, then contratulations, your code has passed the tests!\n",
    "\n",
    "If, on the other hand, you see an `AssertionError`, it means that one of the tests has failed. Look at the error message for a hint as to where the problem lies. "
   ]
  },
  {
   "cell_type": "code",
   "execution_count": 6,
   "metadata": {
    "tags": [
     "test-case:ex1"
    ]
   },
   "outputs": [],
   "source": [
    "assert 'courses_db' in globals(), 'courses_db is not defined'\n",
    "assert isinstance(courses_db, list), 'courses_db is not a list.'\n",
    "assert isinstance(courses_db[0], dict), 'courses_db does not contain a dict as its first element.'\n",
    "assert len(courses_db) == len(courses), 'courses_db is the wrong length.'\n",
    "assert set(courses_db[0].keys()) == {'dept', 'course', 'section'}, 'The first element of courses_db does not have the right keys.'\n",
    "assert set(courses_db[0].values()) == {'CHEM', '1001', '10'}, 'The first element of courses_db does not have the right values.'\n",
    "assert set(courses_db[-1].values()) == {'WSTU', '6999', '11'}, 'The last element of courses_db does not have the right values.'"
   ]
  }
 ],
 "metadata": {
  "celltoolbar": "Tags",
  "kernelspec": {
   "display_name": "Python 3 (ipykernel)",
   "language": "python",
   "name": "python3"
  },
  "language_info": {
   "codemirror_mode": {
    "name": "ipython",
    "version": 3
   },
   "file_extension": ".py",
   "mimetype": "text/x-python",
   "name": "python",
   "nbconvert_exporter": "python",
   "pygments_lexer": "ipython3",
   "version": "3.11.4"
  }
 },
 "nbformat": 4,
 "nbformat_minor": 4
}
