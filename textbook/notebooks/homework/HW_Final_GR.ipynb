{
 "cells": [
  {
   "cell_type": "markdown",
   "metadata": {
    "editable": true,
    "slideshow": {
     "slide_type": ""
    },
    "tags": []
   },
   "source": [
    "# Python Camp: Final Homework\n",
    "\n",
    "This notebook should be completed *after* the exercises in the [Programming Techniques](./HW_2_programming_techniques.ipynb) notebook."
   ]
  },
  {
   "cell_type": "markdown",
   "metadata": {},
   "source": [
    "````{admonition} How to Approach This Homework\n",
    "\n",
    "Unlike the previous homework notebooks you completed, this notebook does not introduce new concepts or syntax. Instead, it offers you an opportunity to put into practice what you've learned throughout Python Camp. The exercises build toward a more complex solution, but we have tried to make each step explicit, so as to give you occasion to reflect on many of the concepts you have learned and how they fit together. \n",
    "\n",
    "It's quite possible that you can find hints to the solutions of these exercises in previous Python Camp homeworks, in code you wrote during in-class activities, and/or by Googling or using ChatGPT. You're welcome to use any and all sources of information to complete these exercises. You're also encouraged to ask your Python-Camp colleagues and facilitators for help! \n",
    "\n",
    "At the same time, you might get the most out of these final exercises if you try to solve each one from memory before turning to other sources. Fluency in Python is like fluency in any other language: it comes with practice, and every mistake is itself instructive!\n",
    "\n",
    "````"
   ]
  },
  {
   "cell_type": "markdown",
   "metadata": {
    "editable": true,
    "slideshow": {
     "slide_type": ""
    },
    "tags": []
   },
   "source": [
    "## Instructions\n",
    "\n",
    "Below you will find a series of exercises. For each exercise, do the following:\n",
    "\n",
    "1. **Run the first code cell under the exercise heading**. This will execute some code needed to set up the problem.\n",
    "2. Reading the instructions and write code in the empty code cell (labeled with the comment `Your code here`). Run this code.\n",
    "3. Your code cell should include the comment line `#Your code below`. **Please do not delete this comment**, and if you accidentally delete the cell and have to recreate it, please insert that comment line at the top of the cell before entering your code.\n",
    "4. Assuming your code does not produce any errors, run the code in the cell below the `Tests` heading. Each line of this code consists of a Python {term}`assert statement`. \n",
    "   - If you see an `AssertionError`, don't panic! The error is written so as to help you pinpoint the part of your code that's not working as expected. After making a change in your code, re-run **both** the cell with your code and the cell with the tests. Repeat until you see no errors.\n",
    "   - If you run the cell with the test code and you see no output, congratulations! That means that your code has passed all the tests and works as expected. Go to step 5 to submit.\n",
    "5. Submit your code by downloading this notebook from JupyterHub and uploading it to the GitHub repository for this assignment. See [the documentation](https://gwu-libraries.github.io/python-camp/homework.html) for detailed instructions."
   ]
  },
  {
   "cell_type": "markdown",
   "metadata": {},
   "source": [
    "````{admonition} How to Get Help\n",
    "\n",
    "If you get stuck on any of these exercises, don't hesitate to ask for help! Asking for help is not only part of the learning process; it's part of nearly every programmer's professional practice. \n",
    "\n",
    "- Post a question on the Python Camp Slack channel. Make sure you spell out both what you're expecting your code to do, and what your code is actually doing. That way others can identify the problem right away. Including code snippets and/or screenshots from the notebook is usually a good idea.\n",
    "- Email the facilitators (PYTHON_CAMP@groups.gwu.edu). We're happy to schedule a time to meet, either in person or via Zoom, and walk through your questions together.\n",
    "\n",
    "````"
   ]
  },
  {
   "cell_type": "markdown",
   "metadata": {
    "editable": true,
    "slideshow": {
     "slide_type": ""
    },
    "tags": []
   },
   "source": [
    "## Exercise 1\n",
    "\n",
    "The following code creates a variable, `my_course`, from a string describing a GW course, with a course code, number, and section. "
   ]
  },
  {
   "cell_type": "code",
   "execution_count": null,
   "metadata": {
    "editable": false,
    "slideshow": {
     "slide_type": ""
    },
    "tags": [
     "setup:1"
    ]
   },
   "outputs": [],
   "source": [
    "my_course = 'WSTU 6566 10'"
   ]
  },
  {
   "cell_type": "markdown",
   "metadata": {},
   "source": [
    "In the cell below, write some Python code that creates three new variables, `my_dept_code`, `my_course_num`, and `my_section`. Assign to each of those variables the portions of the string corresponding, respectively, to the department code (`WSTU`), the course number (`6566`), and the section (`10`). All three elements should be strings.\n",
    "\n",
    "Note that it's possible to accomplish this with a literal assignment, e.g., `my_dept_code = 'WSTU'`, but doing so won't help you solve the later problems that build on this one. Can you use one of Python's string {term}`method`s to accomplish this?"
   ]
  },
  {
   "cell_type": "code",
   "execution_count": null,
   "metadata": {
    "editable": true,
    "slideshow": {
     "slide_type": ""
    },
    "tags": []
   },
   "outputs": [],
   "source": [
    "#Your code below\n",
    "# ---- Do not delete this cell! ---- "
   ]
  },
  {
   "cell_type": "markdown",
   "metadata": {},
   "source": [
    "### Tests for Exercise 1\n",
    "\n",
    "The cell below defines one or more tests that will be run to check your code. \n",
    "\n",
    "Once you have completed your answer, run the cell. If you see no output, then contratulations, your code has passed the tests!\n",
    "\n",
    "If, on the other hand, you see an `AssertionError`, it means that one of the tests has failed. Look at the error message for a hint as to where the problem lies. "
   ]
  },
  {
   "cell_type": "code",
   "execution_count": null,
   "metadata": {
    "editable": false,
    "slideshow": {
     "slide_type": ""
    },
    "tags": [
     "test-case:1"
    ]
   },
   "outputs": [],
   "source": [
    "assert my_dept_code == 'WSTU', f'Variable my_dept_code has the wrong value. Should be \"WSTU\" but is \"{my_dept_code}\".'\n",
    "assert my_course_num == '6566', f'Variable my_course_num has the wrong value. Should be \"6566\" but is \"{my_course_num}\".'\n",
    "assert my_section == '10', f'Variable my_section has the wrong value. Should be \"10\", but is \"{my_section}\".'"
   ]
  },
  {
   "cell_type": "markdown",
   "metadata": {},
   "source": [
    "## Exercise 2"
   ]
  },
  {
   "cell_type": "markdown",
   "metadata": {},
   "source": [
    "The following code reassigns the variable `my_course` to a new string with the same elements as above, except that here the name of the instructor follows the section number (separated by a space)."
   ]
  },
  {
   "cell_type": "code",
   "execution_count": null,
   "metadata": {
    "editable": false,
    "slideshow": {
     "slide_type": ""
    },
    "tags": [
     "setup:2"
    ]
   },
   "outputs": [],
   "source": [
    "my_course = 'BSCI 1333 15 Thomson'"
   ]
  },
  {
   "cell_type": "markdown",
   "metadata": {},
   "source": [
    "In the cell below, write some Python code that will create a {term}`dictionary` called `my_course_dict`. \n",
    "\n",
    "It should have the following keys: \n",
    "- `dept_code`\n",
    "- `course_num`\n",
    "- `section`\n",
    "- `instructor`\n",
    "\n",
    "The keys should be assigned the appropriate values from the string `my_course` (as assigned in the cell above)."
   ]
  },
  {
   "cell_type": "code",
   "execution_count": null,
   "metadata": {
    "editable": true,
    "slideshow": {
     "slide_type": ""
    },
    "tags": []
   },
   "outputs": [],
   "source": [
    "#Your code below\n",
    "# ---- Do not delete this cell! -----"
   ]
  },
  {
   "cell_type": "markdown",
   "metadata": {},
   "source": [
    "### Tests for Exercise 2"
   ]
  },
  {
   "cell_type": "code",
   "execution_count": null,
   "metadata": {
    "editable": false,
    "slideshow": {
     "slide_type": ""
    },
    "tags": [
     "test-case:2"
    ]
   },
   "outputs": [],
   "source": [
    "keys = ['dept_code', 'course_num', 'section', 'instructor']\n",
    "values = ['BSCI', '1333', '15', 'Thomson']\n",
    "assert 'my_course_dict' in locals() and isinstance(my_course_dict, dict), 'Variable my_course_dict has not been defined as a dictionary.'\n",
    "for k in keys:\n",
    "    assert k in my_course_dict, f'Key \"{k}\" was not found in my_course_dict'\n",
    "for k,v in zip(keys, values):\n",
    "    assert my_course_dict[k] == v, f'Value for my_course_dict[\"{k}\"] should be \"{v}\", not \"{my_course_dict[k]}\".'"
   ]
  },
  {
   "cell_type": "markdown",
   "metadata": {},
   "source": [
    "## Exercise 3"
   ]
  },
  {
   "cell_type": "markdown",
   "metadata": {},
   "source": [
    "The following code defines a list of strings that represent courses. Each string consists of a department code, a course number, a section number, and an instructor's name."
   ]
  },
  {
   "cell_type": "code",
   "execution_count": null,
   "metadata": {
    "editable": false,
    "slideshow": {
     "slide_type": ""
    },
    "tags": [
     "setup:3"
    ]
   },
   "outputs": [],
   "source": [
    "courses = ['CHEM 1001 10 Mack',\n",
    "          'CHEM 1002, 10 Srinivasan',\n",
    "          'CHEM 1002 11 Mack',\n",
    "          'BISC 1100 10 Liu',\n",
    "          'BISC 1102 10 Thomson',\n",
    "          'PSC 2001 10 Wolters',\n",
    "          'PSC 2001 11 Rath',\n",
    "          'PSC 2001 12 Cho',\n",
    "          'WSTU 6999 10 Cho',\n",
    "          'WSTU 6999 11 Delaney']"
   ]
  },
  {
   "cell_type": "markdown",
   "metadata": {},
   "source": [
    "In the cell below, write some code that will transform the data in the `courses` list into a list of dictionaries. Each dictionary should be structured as follows:\n",
    "```\n",
    "{'dept_code': 'CHEM',\n",
    " 'course_num': '1001',\n",
    " 'section': '10',\n",
    " 'instructor': 'Mack'} \n",
    "```\n",
    "In other words, each dictionary should have the same four keys, and there should be one dictionary for each of the courses in the `courses` list.\n",
    "\n",
    "Call this new list `courses_db` (for \"courses database\"). "
   ]
  },
  {
   "cell_type": "markdown",
   "metadata": {},
   "source": [
    "````{hint}\n",
    ":class: dropdown \n",
    "\n",
    "Make sure you create each course dictionary **inside** the `for` loop, like so:\n",
    "```\n",
    "for course in courses:\n",
    "    course_dict = {}\n",
    "    ...\n",
    "```\n",
    "\n",
    "If you get stuck, try solving this [Parsons Problem](https://gwu-libraries.github.io/python-camp/parsons-problems/html/homework-2-GR.html), which will help you focus on the logic without worrying too much about the syntax.\n",
    "\n",
    "````"
   ]
  },
  {
   "cell_type": "code",
   "execution_count": null,
   "metadata": {
    "editable": true,
    "slideshow": {
     "slide_type": ""
    },
    "tags": []
   },
   "outputs": [],
   "source": [
    "#Your code below\n",
    "# ---- Do not delete this cell! -----"
   ]
  },
  {
   "cell_type": "markdown",
   "metadata": {},
   "source": [
    "### Tests for Exercise 3"
   ]
  },
  {
   "cell_type": "code",
   "execution_count": null,
   "metadata": {
    "editable": false,
    "slideshow": {
     "slide_type": ""
    },
    "tags": [
     "test-case:3"
    ]
   },
   "outputs": [],
   "source": [
    "keys = {'dept_code', 'course_num', 'section', 'instructor'}\n",
    "values = {'CHEM', '1001', '10', 'Mack'}\n",
    "assert 'courses_db' in globals(), 'Variable courses_db is not defined'\n",
    "assert isinstance(courses_db, list), 'Variable courses_db is not a list.'\n",
    "assert isinstance(courses_db[0], dict), 'List courses_db does not contain a dictionary as its first element.'\n",
    "assert len(courses_db) == len(courses), 'List courses_db is the wrong length.'\n",
    "assert set(courses_db[0].keys()) == keys, 'The first dictionary in courses_db does not have the right keys.'\n",
    "assert set(courses_db[0].values()) == values, 'The first dictionary in courses_db does not have the right values.'\n",
    "assert set(courses_db[-1].values()) == {'WSTU', '6999', '11', 'Delaney'}, 'The last element of courses_db does not have the right values.'"
   ]
  },
  {
   "cell_type": "markdown",
   "metadata": {},
   "source": [
    "## Exercise 4"
   ]
  },
  {
   "cell_type": "markdown",
   "metadata": {},
   "source": [
    "Using the `courses_db` variable defined in Exercise 3, write a function, `count_courses`, to count how many courses a given instructor is teaching. The function should accept an argument corresponding to an instructor's name, and it should return the number of courses in `courses_db` associated with that name. If the instructor is not in the database, your function should return `0`. \n",
    "\n",
    "For instance, if `my_instructor` is `\"Liu\"`, your function would return `1`. If `my_instructor` is `\"Cho\"`, your function would return `2`.\n",
    "\n",
    "A skeleton for the function is defined in the cell below. Fill it in with your code."
   ]
  },
  {
   "cell_type": "code",
   "execution_count": 63,
   "metadata": {
    "editable": true,
    "slideshow": {
     "slide_type": ""
    },
    "tags": []
   },
   "outputs": [],
   "source": [
    "#Your code below\n",
    "# ---- Do not delete this cell! -----\n",
    "def count_courses(instructor_name, courses_db):\n",
    "    \n",
    "    return course_count"
   ]
  },
  {
   "cell_type": "markdown",
   "metadata": {},
   "source": [
    "### Tests for Exercise 4"
   ]
  },
  {
   "cell_type": "code",
   "execution_count": null,
   "metadata": {
    "editable": false,
    "slideshow": {
     "slide_type": ""
    },
    "tags": [
     "test-case:4"
    ]
   },
   "outputs": [],
   "source": [
    "assert count_courses('Rath', courses_db) == 1, f'Rath is teaching one course, but count_courses returns {count_courses(\"Rath\")}.'\n",
    "assert count_courses('Mack', courses_db) == 2, f'Mack is teaching two courses, but count_courses returns {count_courses(\"Mack\")}.'\n",
    "assert count_courses('Smith', courses_db) == 0, f'Smith is not teaching any courses, but count_courses returns {count_courses(\"Smith\")}.'"
   ]
  },
  {
   "cell_type": "markdown",
   "metadata": {},
   "source": [
    "## Submitting your homework\n",
    "\n",
    "If you've run all 4 code cells under the `Tests` headings, and if you see no error, congratulations! That means you've successfully completed this homework and are ready to submit it.\n",
    "\n",
    "You will submit your homework via GitHub, which will simply run the same tests that you have run above, record any errors, and alert the Python Camp facilitators that you have made a submission.\n",
    "\n",
    "Submitting this homework notebook (with no errors in the code) and attendance for all four days of Python Camp satisfy the requirements to receive the certificate of completion."
   ]
  }
 ],
 "metadata": {
  "celltoolbar": "Tags",
  "kernelspec": {
   "display_name": "Python 3 (ipykernel)",
   "language": "python",
   "name": "python3"
  },
  "language_info": {
   "codemirror_mode": {
    "name": "ipython",
    "version": 3
   },
   "file_extension": ".py",
   "mimetype": "text/x-python",
   "name": "python",
   "nbconvert_exporter": "python",
   "pygments_lexer": "ipython3",
   "version": "3.11.4"
  }
 },
 "nbformat": 4,
 "nbformat_minor": 4
}
